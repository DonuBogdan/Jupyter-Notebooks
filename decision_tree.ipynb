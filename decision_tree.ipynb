{
 "cells": [
  {
   "cell_type": "markdown",
   "id": "9ad94365",
   "metadata": {},
   "source": [
    "# Imports"
   ]
  },
  {
   "cell_type": "code",
   "execution_count": 52,
   "id": "e9dd2ad9",
   "metadata": {},
   "outputs": [],
   "source": [
    "import pandas as pd\n",
    "import numpy as np\n",
    "import seaborn as sns\n",
    "import matplotlib.pyplot as plt\n",
    "\n",
    "from sklearn.model_selection import train_test_split\n",
    "from sklearn import tree"
   ]
  },
  {
   "cell_type": "markdown",
   "id": "dd690dd7",
   "metadata": {},
   "source": [
    "# Read the data"
   ]
  },
  {
   "cell_type": "code",
   "execution_count": 2,
   "id": "d1e16d57",
   "metadata": {},
   "outputs": [],
   "source": [
    "data = pd.read_csv('./data/bank-full.csv', sep = ';')"
   ]
  },
  {
   "cell_type": "code",
   "execution_count": 3,
   "id": "06279293",
   "metadata": {},
   "outputs": [
    {
     "data": {
      "text/plain": [
       "(45211, 17)"
      ]
     },
     "execution_count": 3,
     "metadata": {},
     "output_type": "execute_result"
    }
   ],
   "source": [
    "data.shape"
   ]
  },
  {
   "cell_type": "code",
   "execution_count": 4,
   "id": "42194797",
   "metadata": {},
   "outputs": [
    {
     "data": {
      "text/html": [
       "<div>\n",
       "<style scoped>\n",
       "    .dataframe tbody tr th:only-of-type {\n",
       "        vertical-align: middle;\n",
       "    }\n",
       "\n",
       "    .dataframe tbody tr th {\n",
       "        vertical-align: top;\n",
       "    }\n",
       "\n",
       "    .dataframe thead th {\n",
       "        text-align: right;\n",
       "    }\n",
       "</style>\n",
       "<table border=\"1\" class=\"dataframe\">\n",
       "  <thead>\n",
       "    <tr style=\"text-align: right;\">\n",
       "      <th></th>\n",
       "      <th>age</th>\n",
       "      <th>job</th>\n",
       "      <th>marital</th>\n",
       "      <th>education</th>\n",
       "      <th>default</th>\n",
       "      <th>balance</th>\n",
       "      <th>housing</th>\n",
       "      <th>loan</th>\n",
       "      <th>contact</th>\n",
       "      <th>day</th>\n",
       "      <th>month</th>\n",
       "      <th>duration</th>\n",
       "      <th>campaign</th>\n",
       "      <th>pdays</th>\n",
       "      <th>previous</th>\n",
       "      <th>poutcome</th>\n",
       "      <th>y</th>\n",
       "    </tr>\n",
       "  </thead>\n",
       "  <tbody>\n",
       "    <tr>\n",
       "      <th>0</th>\n",
       "      <td>58</td>\n",
       "      <td>management</td>\n",
       "      <td>married</td>\n",
       "      <td>tertiary</td>\n",
       "      <td>no</td>\n",
       "      <td>2143</td>\n",
       "      <td>yes</td>\n",
       "      <td>no</td>\n",
       "      <td>unknown</td>\n",
       "      <td>5</td>\n",
       "      <td>may</td>\n",
       "      <td>261</td>\n",
       "      <td>1</td>\n",
       "      <td>-1</td>\n",
       "      <td>0</td>\n",
       "      <td>unknown</td>\n",
       "      <td>no</td>\n",
       "    </tr>\n",
       "    <tr>\n",
       "      <th>1</th>\n",
       "      <td>44</td>\n",
       "      <td>technician</td>\n",
       "      <td>single</td>\n",
       "      <td>secondary</td>\n",
       "      <td>no</td>\n",
       "      <td>29</td>\n",
       "      <td>yes</td>\n",
       "      <td>no</td>\n",
       "      <td>unknown</td>\n",
       "      <td>5</td>\n",
       "      <td>may</td>\n",
       "      <td>151</td>\n",
       "      <td>1</td>\n",
       "      <td>-1</td>\n",
       "      <td>0</td>\n",
       "      <td>unknown</td>\n",
       "      <td>no</td>\n",
       "    </tr>\n",
       "    <tr>\n",
       "      <th>2</th>\n",
       "      <td>33</td>\n",
       "      <td>entrepreneur</td>\n",
       "      <td>married</td>\n",
       "      <td>secondary</td>\n",
       "      <td>no</td>\n",
       "      <td>2</td>\n",
       "      <td>yes</td>\n",
       "      <td>yes</td>\n",
       "      <td>unknown</td>\n",
       "      <td>5</td>\n",
       "      <td>may</td>\n",
       "      <td>76</td>\n",
       "      <td>1</td>\n",
       "      <td>-1</td>\n",
       "      <td>0</td>\n",
       "      <td>unknown</td>\n",
       "      <td>no</td>\n",
       "    </tr>\n",
       "    <tr>\n",
       "      <th>3</th>\n",
       "      <td>47</td>\n",
       "      <td>blue-collar</td>\n",
       "      <td>married</td>\n",
       "      <td>unknown</td>\n",
       "      <td>no</td>\n",
       "      <td>1506</td>\n",
       "      <td>yes</td>\n",
       "      <td>no</td>\n",
       "      <td>unknown</td>\n",
       "      <td>5</td>\n",
       "      <td>may</td>\n",
       "      <td>92</td>\n",
       "      <td>1</td>\n",
       "      <td>-1</td>\n",
       "      <td>0</td>\n",
       "      <td>unknown</td>\n",
       "      <td>no</td>\n",
       "    </tr>\n",
       "    <tr>\n",
       "      <th>4</th>\n",
       "      <td>33</td>\n",
       "      <td>unknown</td>\n",
       "      <td>single</td>\n",
       "      <td>unknown</td>\n",
       "      <td>no</td>\n",
       "      <td>1</td>\n",
       "      <td>no</td>\n",
       "      <td>no</td>\n",
       "      <td>unknown</td>\n",
       "      <td>5</td>\n",
       "      <td>may</td>\n",
       "      <td>198</td>\n",
       "      <td>1</td>\n",
       "      <td>-1</td>\n",
       "      <td>0</td>\n",
       "      <td>unknown</td>\n",
       "      <td>no</td>\n",
       "    </tr>\n",
       "  </tbody>\n",
       "</table>\n",
       "</div>"
      ],
      "text/plain": [
       "   age           job  marital  education default  balance housing loan  \\\n",
       "0   58    management  married   tertiary      no     2143     yes   no   \n",
       "1   44    technician   single  secondary      no       29     yes   no   \n",
       "2   33  entrepreneur  married  secondary      no        2     yes  yes   \n",
       "3   47   blue-collar  married    unknown      no     1506     yes   no   \n",
       "4   33       unknown   single    unknown      no        1      no   no   \n",
       "\n",
       "   contact  day month  duration  campaign  pdays  previous poutcome   y  \n",
       "0  unknown    5   may       261         1     -1         0  unknown  no  \n",
       "1  unknown    5   may       151         1     -1         0  unknown  no  \n",
       "2  unknown    5   may        76         1     -1         0  unknown  no  \n",
       "3  unknown    5   may        92         1     -1         0  unknown  no  \n",
       "4  unknown    5   may       198         1     -1         0  unknown  no  "
      ]
     },
     "execution_count": 4,
     "metadata": {},
     "output_type": "execute_result"
    }
   ],
   "source": [
    "data.head()"
   ]
  },
  {
   "cell_type": "code",
   "execution_count": 5,
   "id": "09310b10",
   "metadata": {},
   "outputs": [
    {
     "data": {
      "text/html": [
       "<div>\n",
       "<style scoped>\n",
       "    .dataframe tbody tr th:only-of-type {\n",
       "        vertical-align: middle;\n",
       "    }\n",
       "\n",
       "    .dataframe tbody tr th {\n",
       "        vertical-align: top;\n",
       "    }\n",
       "\n",
       "    .dataframe thead th {\n",
       "        text-align: right;\n",
       "    }\n",
       "</style>\n",
       "<table border=\"1\" class=\"dataframe\">\n",
       "  <thead>\n",
       "    <tr style=\"text-align: right;\">\n",
       "      <th></th>\n",
       "      <th>age</th>\n",
       "      <th>job</th>\n",
       "      <th>marital</th>\n",
       "      <th>education</th>\n",
       "      <th>default</th>\n",
       "      <th>balance</th>\n",
       "      <th>housing</th>\n",
       "      <th>loan</th>\n",
       "      <th>contact</th>\n",
       "      <th>day</th>\n",
       "      <th>month</th>\n",
       "      <th>duration</th>\n",
       "      <th>campaign</th>\n",
       "      <th>pdays</th>\n",
       "      <th>previous</th>\n",
       "      <th>poutcome</th>\n",
       "      <th>y</th>\n",
       "    </tr>\n",
       "  </thead>\n",
       "  <tbody>\n",
       "    <tr>\n",
       "      <th>45206</th>\n",
       "      <td>51</td>\n",
       "      <td>technician</td>\n",
       "      <td>married</td>\n",
       "      <td>tertiary</td>\n",
       "      <td>no</td>\n",
       "      <td>825</td>\n",
       "      <td>no</td>\n",
       "      <td>no</td>\n",
       "      <td>cellular</td>\n",
       "      <td>17</td>\n",
       "      <td>nov</td>\n",
       "      <td>977</td>\n",
       "      <td>3</td>\n",
       "      <td>-1</td>\n",
       "      <td>0</td>\n",
       "      <td>unknown</td>\n",
       "      <td>yes</td>\n",
       "    </tr>\n",
       "    <tr>\n",
       "      <th>45207</th>\n",
       "      <td>71</td>\n",
       "      <td>retired</td>\n",
       "      <td>divorced</td>\n",
       "      <td>primary</td>\n",
       "      <td>no</td>\n",
       "      <td>1729</td>\n",
       "      <td>no</td>\n",
       "      <td>no</td>\n",
       "      <td>cellular</td>\n",
       "      <td>17</td>\n",
       "      <td>nov</td>\n",
       "      <td>456</td>\n",
       "      <td>2</td>\n",
       "      <td>-1</td>\n",
       "      <td>0</td>\n",
       "      <td>unknown</td>\n",
       "      <td>yes</td>\n",
       "    </tr>\n",
       "    <tr>\n",
       "      <th>45208</th>\n",
       "      <td>72</td>\n",
       "      <td>retired</td>\n",
       "      <td>married</td>\n",
       "      <td>secondary</td>\n",
       "      <td>no</td>\n",
       "      <td>5715</td>\n",
       "      <td>no</td>\n",
       "      <td>no</td>\n",
       "      <td>cellular</td>\n",
       "      <td>17</td>\n",
       "      <td>nov</td>\n",
       "      <td>1127</td>\n",
       "      <td>5</td>\n",
       "      <td>184</td>\n",
       "      <td>3</td>\n",
       "      <td>success</td>\n",
       "      <td>yes</td>\n",
       "    </tr>\n",
       "    <tr>\n",
       "      <th>45209</th>\n",
       "      <td>57</td>\n",
       "      <td>blue-collar</td>\n",
       "      <td>married</td>\n",
       "      <td>secondary</td>\n",
       "      <td>no</td>\n",
       "      <td>668</td>\n",
       "      <td>no</td>\n",
       "      <td>no</td>\n",
       "      <td>telephone</td>\n",
       "      <td>17</td>\n",
       "      <td>nov</td>\n",
       "      <td>508</td>\n",
       "      <td>4</td>\n",
       "      <td>-1</td>\n",
       "      <td>0</td>\n",
       "      <td>unknown</td>\n",
       "      <td>no</td>\n",
       "    </tr>\n",
       "    <tr>\n",
       "      <th>45210</th>\n",
       "      <td>37</td>\n",
       "      <td>entrepreneur</td>\n",
       "      <td>married</td>\n",
       "      <td>secondary</td>\n",
       "      <td>no</td>\n",
       "      <td>2971</td>\n",
       "      <td>no</td>\n",
       "      <td>no</td>\n",
       "      <td>cellular</td>\n",
       "      <td>17</td>\n",
       "      <td>nov</td>\n",
       "      <td>361</td>\n",
       "      <td>2</td>\n",
       "      <td>188</td>\n",
       "      <td>11</td>\n",
       "      <td>other</td>\n",
       "      <td>no</td>\n",
       "    </tr>\n",
       "  </tbody>\n",
       "</table>\n",
       "</div>"
      ],
      "text/plain": [
       "       age           job   marital  education default  balance housing loan  \\\n",
       "45206   51    technician   married   tertiary      no      825      no   no   \n",
       "45207   71       retired  divorced    primary      no     1729      no   no   \n",
       "45208   72       retired   married  secondary      no     5715      no   no   \n",
       "45209   57   blue-collar   married  secondary      no      668      no   no   \n",
       "45210   37  entrepreneur   married  secondary      no     2971      no   no   \n",
       "\n",
       "         contact  day month  duration  campaign  pdays  previous poutcome    y  \n",
       "45206   cellular   17   nov       977         3     -1         0  unknown  yes  \n",
       "45207   cellular   17   nov       456         2     -1         0  unknown  yes  \n",
       "45208   cellular   17   nov      1127         5    184         3  success  yes  \n",
       "45209  telephone   17   nov       508         4     -1         0  unknown   no  \n",
       "45210   cellular   17   nov       361         2    188        11    other   no  "
      ]
     },
     "execution_count": 5,
     "metadata": {},
     "output_type": "execute_result"
    }
   ],
   "source": [
    "data.tail()"
   ]
  },
  {
   "cell_type": "code",
   "execution_count": 6,
   "id": "c563bab4",
   "metadata": {},
   "outputs": [],
   "source": [
    "categorical_columns = ['job', 'marital', 'education', 'default', 'housing', 'loan', 'contact', 'month', 'poutcome', 'y']"
   ]
  },
  {
   "cell_type": "code",
   "execution_count": 7,
   "id": "da27d621",
   "metadata": {},
   "outputs": [
    {
     "name": "stdout",
     "output_type": "stream",
     "text": [
      "['admin.' 'blue-collar' 'entrepreneur' 'housemaid' 'management' 'retired'\n",
      " 'self-employed' 'services' 'student' 'technician' 'unemployed' 'unknown']\n",
      "\n",
      "\n",
      "['divorced' 'married' 'single']\n",
      "\n",
      "\n",
      "['primary' 'secondary' 'tertiary' 'unknown']\n",
      "\n",
      "\n",
      "['no' 'yes']\n",
      "\n",
      "\n",
      "['no' 'yes']\n",
      "\n",
      "\n",
      "['no' 'yes']\n",
      "\n",
      "\n",
      "['cellular' 'telephone' 'unknown']\n",
      "\n",
      "\n",
      "['apr' 'aug' 'dec' 'feb' 'jan' 'jul' 'jun' 'mar' 'may' 'nov' 'oct' 'sep']\n",
      "\n",
      "\n",
      "['failure' 'other' 'success' 'unknown']\n",
      "\n",
      "\n",
      "['no' 'yes']\n",
      "\n",
      "\n"
     ]
    }
   ],
   "source": [
    "for column in data.columns:\n",
    "    \n",
    "    if column in categorical_columns:\n",
    "        \n",
    "        print(np.unique(data[column].values))\n",
    "        print('\\n')"
   ]
  },
  {
   "cell_type": "markdown",
   "id": "b0b43b9c",
   "metadata": {},
   "source": [
    "https://archive.ics.uci.edu/ml/datasets/Bank+Marketing?fbclid=IwAR1lVl78ldHblVgR4UZuzPxrxEID6Vuwph33nl49vPL2vLppeYuk7tizk4o\n",
    "\n",
    "Summay of data\n",
    "\n",
    "Categorical Variables :\n",
    "\n",
    "[1] job: admin,technician, services, management, retired, blue-collar, unemployed, entrepreneur, housemaid, unknown, self-employed, student\n",
    "\n",
    "[2] marital: married, single, divorced\n",
    "\n",
    "[3] education: secondary, tertiary, primary, unknown\n",
    "\n",
    "[4] default: has credit in default? (yes, no)\n",
    "\n",
    "[5] housing: has housing loan? (yes, no)\n",
    "\n",
    "[6] loan: yes, no\n",
    "\n",
    "[7] contact: unknown, cellular, telephone\n",
    "\n",
    "[8] month: jan, feb, mar, apr, may, jun, jul, aug, sep, oct, nov, dec\n",
    "\n",
    "[9] poutcome: outcome of the previous marketing campaign (unknown, other, failure, success)\n",
    "\n",
    "[10] y: has the client subscribed a term deposit? (yes, no) - dependent variable\n",
    "\n",
    "\n",
    "Numerical Variables:\n",
    "\n",
    "[1] age\n",
    "\n",
    "[2] balance\n",
    "\n",
    "[3] day\n",
    "\n",
    "[4] duration: last contact duration, in seconds (numeric)\n",
    "\n",
    "[5] campaign: number of contacts performed during this campaign and for this client (numeric, includes last contact)\n",
    "\n",
    "[6] pdays: number of days that passed by after the client was last contacted from a previous campaign \n",
    "\n",
    "[7] previous: number of contacts performed before this campaign and for this client\n",
    "\n",
    "The classification goal is to predict if the client will subscribe (yes/no) a term deposit (variable y)"
   ]
  },
  {
   "cell_type": "markdown",
   "id": "05d0964d",
   "metadata": {},
   "source": [
    "# EDA"
   ]
  },
  {
   "cell_type": "code",
   "execution_count": 8,
   "id": "6883cc68",
   "metadata": {},
   "outputs": [
    {
     "data": {
      "text/plain": [
       "age          0\n",
       "job          0\n",
       "marital      0\n",
       "education    0\n",
       "default      0\n",
       "balance      0\n",
       "housing      0\n",
       "loan         0\n",
       "contact      0\n",
       "day          0\n",
       "month        0\n",
       "duration     0\n",
       "campaign     0\n",
       "pdays        0\n",
       "previous     0\n",
       "poutcome     0\n",
       "y            0\n",
       "dtype: int64"
      ]
     },
     "execution_count": 8,
     "metadata": {},
     "output_type": "execute_result"
    }
   ],
   "source": [
    "data[data.isnull().any(axis = 1)].count()"
   ]
  },
  {
   "cell_type": "markdown",
   "id": "ea73c846",
   "metadata": {},
   "source": [
    "# Numeric variables"
   ]
  },
  {
   "cell_type": "code",
   "execution_count": 9,
   "id": "b9712c03",
   "metadata": {},
   "outputs": [
    {
     "data": {
      "text/html": [
       "<div>\n",
       "<style scoped>\n",
       "    .dataframe tbody tr th:only-of-type {\n",
       "        vertical-align: middle;\n",
       "    }\n",
       "\n",
       "    .dataframe tbody tr th {\n",
       "        vertical-align: top;\n",
       "    }\n",
       "\n",
       "    .dataframe thead th {\n",
       "        text-align: right;\n",
       "    }\n",
       "</style>\n",
       "<table border=\"1\" class=\"dataframe\">\n",
       "  <thead>\n",
       "    <tr style=\"text-align: right;\">\n",
       "      <th></th>\n",
       "      <th>age</th>\n",
       "      <th>balance</th>\n",
       "      <th>day</th>\n",
       "      <th>duration</th>\n",
       "      <th>campaign</th>\n",
       "      <th>pdays</th>\n",
       "      <th>previous</th>\n",
       "    </tr>\n",
       "  </thead>\n",
       "  <tbody>\n",
       "    <tr>\n",
       "      <th>count</th>\n",
       "      <td>45211.000000</td>\n",
       "      <td>45211.000000</td>\n",
       "      <td>45211.000000</td>\n",
       "      <td>45211.000000</td>\n",
       "      <td>45211.000000</td>\n",
       "      <td>45211.000000</td>\n",
       "      <td>45211.000000</td>\n",
       "    </tr>\n",
       "    <tr>\n",
       "      <th>mean</th>\n",
       "      <td>40.936210</td>\n",
       "      <td>1362.272058</td>\n",
       "      <td>15.806419</td>\n",
       "      <td>258.163080</td>\n",
       "      <td>2.763841</td>\n",
       "      <td>40.197828</td>\n",
       "      <td>0.580323</td>\n",
       "    </tr>\n",
       "    <tr>\n",
       "      <th>std</th>\n",
       "      <td>10.618762</td>\n",
       "      <td>3044.765829</td>\n",
       "      <td>8.322476</td>\n",
       "      <td>257.527812</td>\n",
       "      <td>3.098021</td>\n",
       "      <td>100.128746</td>\n",
       "      <td>2.303441</td>\n",
       "    </tr>\n",
       "    <tr>\n",
       "      <th>min</th>\n",
       "      <td>18.000000</td>\n",
       "      <td>-8019.000000</td>\n",
       "      <td>1.000000</td>\n",
       "      <td>0.000000</td>\n",
       "      <td>1.000000</td>\n",
       "      <td>-1.000000</td>\n",
       "      <td>0.000000</td>\n",
       "    </tr>\n",
       "    <tr>\n",
       "      <th>25%</th>\n",
       "      <td>33.000000</td>\n",
       "      <td>72.000000</td>\n",
       "      <td>8.000000</td>\n",
       "      <td>103.000000</td>\n",
       "      <td>1.000000</td>\n",
       "      <td>-1.000000</td>\n",
       "      <td>0.000000</td>\n",
       "    </tr>\n",
       "    <tr>\n",
       "      <th>50%</th>\n",
       "      <td>39.000000</td>\n",
       "      <td>448.000000</td>\n",
       "      <td>16.000000</td>\n",
       "      <td>180.000000</td>\n",
       "      <td>2.000000</td>\n",
       "      <td>-1.000000</td>\n",
       "      <td>0.000000</td>\n",
       "    </tr>\n",
       "    <tr>\n",
       "      <th>75%</th>\n",
       "      <td>48.000000</td>\n",
       "      <td>1428.000000</td>\n",
       "      <td>21.000000</td>\n",
       "      <td>319.000000</td>\n",
       "      <td>3.000000</td>\n",
       "      <td>-1.000000</td>\n",
       "      <td>0.000000</td>\n",
       "    </tr>\n",
       "    <tr>\n",
       "      <th>max</th>\n",
       "      <td>95.000000</td>\n",
       "      <td>102127.000000</td>\n",
       "      <td>31.000000</td>\n",
       "      <td>4918.000000</td>\n",
       "      <td>63.000000</td>\n",
       "      <td>871.000000</td>\n",
       "      <td>275.000000</td>\n",
       "    </tr>\n",
       "  </tbody>\n",
       "</table>\n",
       "</div>"
      ],
      "text/plain": [
       "                age        balance           day      duration      campaign  \\\n",
       "count  45211.000000   45211.000000  45211.000000  45211.000000  45211.000000   \n",
       "mean      40.936210    1362.272058     15.806419    258.163080      2.763841   \n",
       "std       10.618762    3044.765829      8.322476    257.527812      3.098021   \n",
       "min       18.000000   -8019.000000      1.000000      0.000000      1.000000   \n",
       "25%       33.000000      72.000000      8.000000    103.000000      1.000000   \n",
       "50%       39.000000     448.000000     16.000000    180.000000      2.000000   \n",
       "75%       48.000000    1428.000000     21.000000    319.000000      3.000000   \n",
       "max       95.000000  102127.000000     31.000000   4918.000000     63.000000   \n",
       "\n",
       "              pdays      previous  \n",
       "count  45211.000000  45211.000000  \n",
       "mean      40.197828      0.580323  \n",
       "std      100.128746      2.303441  \n",
       "min       -1.000000      0.000000  \n",
       "25%       -1.000000      0.000000  \n",
       "50%       -1.000000      0.000000  \n",
       "75%       -1.000000      0.000000  \n",
       "max      871.000000    275.000000  "
      ]
     },
     "execution_count": 9,
     "metadata": {},
     "output_type": "execute_result"
    }
   ],
   "source": [
    "data.describe()"
   ]
  },
  {
   "cell_type": "markdown",
   "id": "219a8e61",
   "metadata": {},
   "source": [
    "Age"
   ]
  },
  {
   "cell_type": "code",
   "execution_count": 10,
   "id": "d121cb6f",
   "metadata": {},
   "outputs": [
    {
     "data": {
      "text/plain": [
       "<seaborn.axisgrid.FacetGrid at 0x19d4f3bf9c8>"
      ]
     },
     "execution_count": 10,
     "metadata": {},
     "output_type": "execute_result"
    },
    {
     "data": {
      "image/png": "[encoded data removed]",
      "text/plain": [
       "<Figure size 432x288 with 1 Axes>"
      ]
     },
     "metadata": {
      "needs_background": "light"
     },
     "output_type": "display_data"
    },
    {
     "data": {
      "image/png": "[encoded data removed]",
      "text/plain": [
       "<Figure size 360x360 with 1 Axes>"
      ]
     },
     "metadata": {
      "needs_background": "light"
     },
     "output_type": "display_data"
    }
   ],
   "source": [
    "sns.boxplot(x = data['age'])\n",
    "sns.displot(x = data['age'])"
   ]
  },
  {
   "cell_type": "markdown",
   "id": "3c31c160",
   "metadata": {},
   "source": [
    "Balance"
   ]
  },
  {
   "cell_type": "code",
   "execution_count": 11,
   "id": "6501303f",
   "metadata": {},
   "outputs": [
    {
     "data": {
      "text/plain": [
       "<seaborn.axisgrid.FacetGrid at 0x19d4f689b08>"
      ]
     },
     "execution_count": 11,
     "metadata": {},
     "output_type": "execute_result"
    },
    {
     "data": {
      "image/png": "[encoded data removed]",
      "text/plain": [
       "<Figure size 432x288 with 1 Axes>"
      ]
     },
     "metadata": {
      "needs_background": "light"
     },
     "output_type": "display_data"
    },
    {
     "data": {
      "image/png": "[encoded data removed]",
      "text/plain": [
       "<Figure size 360x360 with 1 Axes>"
      ]
     },
     "metadata": {
      "needs_background": "light"
     },
     "output_type": "display_data"
    }
   ],
   "source": [
    "sns.boxplot(x = data['balance'])\n",
    "sns.displot(x = data['balance'])"
   ]
  },
  {
   "cell_type": "markdown",
   "id": "aac35fb3",
   "metadata": {},
   "source": [
    "Day"
   ]
  },
  {
   "cell_type": "code",
   "execution_count": 12,
   "id": "ada35b0e",
   "metadata": {},
   "outputs": [
    {
     "data": {
      "text/plain": [
       "<seaborn.axisgrid.FacetGrid at 0x19d4f5dae48>"
      ]
     },
     "execution_count": 12,
     "metadata": {},
     "output_type": "execute_result"
    },
    {
     "data": {
      "image/png": "[encoded data removed]",
      "text/plain": [
       "<Figure size 432x288 with 1 Axes>"
      ]
     },
     "metadata": {
      "needs_background": "light"
     },
     "output_type": "display_data"
    },
    {
     "data": {
      "image/png": "[encoded data removed]",
      "text/plain": [
       "<Figure size 360x360 with 1 Axes>"
      ]
     },
     "metadata": {
      "needs_background": "light"
     },
     "output_type": "display_data"
    }
   ],
   "source": [
    "sns.boxplot(x = data['day'])\n",
    "sns.displot(x = data['day'])"
   ]
  },
  {
   "cell_type": "markdown",
   "id": "152e0faa",
   "metadata": {},
   "source": [
    "Duration"
   ]
  },
  {
   "cell_type": "code",
   "execution_count": 13,
   "id": "a632933e",
   "metadata": {},
   "outputs": [
    {
     "data": {
      "text/plain": [
       "<seaborn.axisgrid.FacetGrid at 0x19d4f469e48>"
      ]
     },
     "execution_count": 13,
     "metadata": {},
     "output_type": "execute_result"
    },
    {
     "data": {
      "image/png": "[encoded data removed]",
      "text/plain": [
       "<Figure size 432x288 with 1 Axes>"
      ]
     },
     "metadata": {
      "needs_background": "light"
     },
     "output_type": "display_data"
    },
    {
     "data": {
      "image/png": "[encoded data removed]",
      "text/plain": [
       "<Figure size 360x360 with 1 Axes>"
      ]
     },
     "metadata": {
      "needs_background": "light"
     },
     "output_type": "display_data"
    }
   ],
   "source": [
    "sns.boxplot(x = data['duration'])\n",
    "sns.displot(x = data['duration'])"
   ]
  },
  {
   "cell_type": "markdown",
   "id": "53b4081a",
   "metadata": {},
   "source": [
    "Campaign"
   ]
  },
  {
   "cell_type": "code",
   "execution_count": 14,
   "id": "25e49e08",
   "metadata": {},
   "outputs": [
    {
     "data": {
      "text/plain": [
       "<seaborn.axisgrid.FacetGrid at 0x19d53f7de48>"
      ]
     },
     "execution_count": 14,
     "metadata": {},
     "output_type": "execute_result"
    },
    {
     "data": {
      "image/png": "[encoded data removed]",
      "text/plain": [
       "<Figure size 432x288 with 1 Axes>"
      ]
     },
     "metadata": {
      "needs_background": "light"
     },
     "output_type": "display_data"
    },
    {
     "data": {
      "image/png": "[encoded data removed]",
      "text/plain": [
       "<Figure size 360x360 with 1 Axes>"
      ]
     },
     "metadata": {
      "needs_background": "light"
     },
     "output_type": "display_data"
    }
   ],
   "source": [
    "sns.boxplot(x = data['campaign'])\n",
    "sns.displot(x = data['campaign'])"
   ]
  },
  {
   "cell_type": "markdown",
   "id": "a192aa4f",
   "metadata": {},
   "source": [
    "Pdays"
   ]
  },
  {
   "cell_type": "code",
   "execution_count": 15,
   "id": "5f2335f8",
   "metadata": {},
   "outputs": [
    {
     "data": {
      "text/plain": [
       "<seaborn.axisgrid.FacetGrid at 0x19d53b2fbc8>"
      ]
     },
     "execution_count": 15,
     "metadata": {},
     "output_type": "execute_result"
    },
    {
     "data": {
      "image/png": "[encoded data removed]",
      "text/plain": [
       "<Figure size 432x288 with 1 Axes>"
      ]
     },
     "metadata": {
      "needs_background": "light"
     },
     "output_type": "display_data"
    },
    {
     "data": {
      "image/png": "[encoded data removed]",
      "text/plain": [
       "<Figure size 360x360 with 1 Axes>"
      ]
     },
     "metadata": {
      "needs_background": "light"
     },
     "output_type": "display_data"
    }
   ],
   "source": [
    "sns.boxplot(x = data['pdays'])\n",
    "sns.displot(x = data['pdays'])"
   ]
  },
  {
   "cell_type": "markdown",
   "id": "95f42e42",
   "metadata": {},
   "source": [
    "Previous"
   ]
  },
  {
   "cell_type": "code",
   "execution_count": 16,
   "id": "406d62a7",
   "metadata": {},
   "outputs": [
    {
     "data": {
      "text/plain": [
       "<seaborn.axisgrid.FacetGrid at 0x19d4f695688>"
      ]
     },
     "execution_count": 16,
     "metadata": {},
     "output_type": "execute_result"
    },
    {
     "data": {
      "image/png": "[encoded data removed]",
      "text/plain": [
       "<Figure size 432x288 with 1 Axes>"
      ]
     },
     "metadata": {
      "needs_background": "light"
     },
     "output_type": "display_data"
    },
    {
     "data": {
      "image/png": "[encoded data removed]",
      "text/plain": [
       "<Figure size 360x360 with 1 Axes>"
      ]
     },
     "metadata": {
      "needs_background": "light"
     },
     "output_type": "display_data"
    }
   ],
   "source": [
    "sns.boxplot(x = data['previous'])\n",
    "sns.displot(x = data['previous'])"
   ]
  },
  {
   "cell_type": "markdown",
   "id": "ffb598c4",
   "metadata": {},
   "source": [
    "Scatterplot showing age and balance"
   ]
  },
  {
   "cell_type": "code",
   "execution_count": 39,
   "id": "5ff76ad9",
   "metadata": {},
   "outputs": [
    {
     "data": {
      "text/plain": [
       "<AxesSubplot:xlabel='age', ylabel='balance'>"
      ]
     },
     "execution_count": 39,
     "metadata": {},
     "output_type": "execute_result"
    },
    {
     "data": {
      "image/png": "[encoded data removed]",
      "text/plain": [
       "<Figure size 432x288 with 1 Axes>"
      ]
     },
     "metadata": {
      "needs_background": "light"
     },
     "output_type": "display_data"
    }
   ],
   "source": [
    "data.plot(kind = 'scatter', x = 'age', y = 'balance')"
   ]
  },
  {
   "cell_type": "markdown",
   "id": "adf1e2b2",
   "metadata": {},
   "source": [
    "..."
   ]
  },
  {
   "cell_type": "markdown",
   "id": "9f69a15e",
   "metadata": {},
   "source": [
    "# Categorical variables"
   ]
  },
  {
   "cell_type": "markdown",
   "id": "ae252bbf",
   "metadata": {},
   "source": [
    "Explore people who made a deposit vs. job category"
   ]
  },
  {
   "cell_type": "code",
   "execution_count": 17,
   "id": "35f08eaf",
   "metadata": {},
   "outputs": [],
   "source": [
    "jobs = ['management', 'blue-collar', 'technician', 'admin.', 'services', 'retired', 'self-employed', 'student',\n",
    "        'unemployed', 'entrepreneur', 'housemaid', 'unknown']"
   ]
  },
  {
   "cell_type": "code",
   "execution_count": 18,
   "id": "349d3a1b",
   "metadata": {},
   "outputs": [
    {
     "name": "stdout",
     "output_type": "stream",
     "text": [
      "management      :  1301\n",
      "blue-collar     :   708\n",
      "technician      :   840\n",
      "admin.          :   631\n",
      "services        :   369\n",
      "retired         :   516\n",
      "self-employed   :   187\n",
      "student         :   269\n",
      "unemployed      :   202\n",
      "entrepreneur    :   123\n",
      "housemaid       :   109\n",
      "unknown         :    34\n"
     ]
    }
   ],
   "source": [
    "for j in jobs:\n",
    "    print('{:15} : {:5}'. format(j, len(data[(data.y == 'yes') & (data.job == j)])))"
   ]
  },
  {
   "cell_type": "markdown",
   "id": "e5e7d742",
   "metadata": {},
   "source": [
    "Different types of job categories and their counts"
   ]
  },
  {
   "cell_type": "code",
   "execution_count": 19,
   "id": "0fd63f2b",
   "metadata": {},
   "outputs": [
    {
     "data": {
      "text/plain": [
       "blue-collar      9732\n",
       "management       9458\n",
       "technician       7597\n",
       "admin.           5171\n",
       "services         4154\n",
       "retired          2264\n",
       "self-employed    1579\n",
       "entrepreneur     1487\n",
       "unemployed       1303\n",
       "housemaid        1240\n",
       "student           938\n",
       "unknown           288\n",
       "Name: job, dtype: int64"
      ]
     },
     "execution_count": 19,
     "metadata": {},
     "output_type": "execute_result"
    }
   ],
   "source": [
    "data.job.value_counts()"
   ]
  },
  {
   "cell_type": "markdown",
   "id": "650a44fd",
   "metadata": {},
   "source": [
    "Target class balance"
   ]
  },
  {
   "cell_type": "code",
   "execution_count": 20,
   "id": "a500144c",
   "metadata": {},
   "outputs": [
    {
     "data": {
      "text/plain": [
       "no     39922\n",
       "yes     5289\n",
       "Name: y, dtype: int64"
      ]
     },
     "execution_count": 20,
     "metadata": {},
     "output_type": "execute_result"
    }
   ],
   "source": [
    "data.y.value_counts()"
   ]
  },
  {
   "cell_type": "markdown",
   "id": "bc34817f",
   "metadata": {},
   "source": [
    "# Change dataset structure"
   ]
  },
  {
   "cell_type": "code",
   "execution_count": 21,
   "id": "3733fc92",
   "metadata": {},
   "outputs": [],
   "source": [
    "data.drop('contact', axis = 1, inplace = True)\n",
    "data.drop('day', axis = 1, inplace = True)\n",
    "data.drop('month', axis = 1, inplace = True)"
   ]
  },
  {
   "cell_type": "code",
   "execution_count": 22,
   "id": "eb1271b3",
   "metadata": {},
   "outputs": [
    {
     "data": {
      "text/plain": [
       "(45211, 14)"
      ]
     },
     "execution_count": 22,
     "metadata": {},
     "output_type": "execute_result"
    }
   ],
   "source": [
    "data.shape"
   ]
  },
  {
   "cell_type": "code",
   "execution_count": 23,
   "id": "83e28a71",
   "metadata": {},
   "outputs": [],
   "source": [
    "data['default_cat'] = data['default'].map({'yes': 1, 'no': 0})\n",
    "data.drop('default', axis = 1, inplace = True)"
   ]
  },
  {
   "cell_type": "code",
   "execution_count": 24,
   "id": "ff296b7b",
   "metadata": {},
   "outputs": [],
   "source": [
    "data['housing_cat'] = data['housing'].map({'yes': 1, 'no': 0})\n",
    "data.drop('housing', axis = 1, inplace = True)"
   ]
  },
  {
   "cell_type": "code",
   "execution_count": 25,
   "id": "870b9494",
   "metadata": {},
   "outputs": [],
   "source": [
    "data['loan_cat'] = data['loan'].map({'yes': 1, 'no': 0})\n",
    "data.drop('loan', axis = 1, inplace = True)"
   ]
  },
  {
   "cell_type": "code",
   "execution_count": 27,
   "id": "a6d6a87f",
   "metadata": {},
   "outputs": [],
   "source": [
    "data['y_cat'] = data['y'].map({'yes': 1, 'no': 0})\n",
    "data.drop('y', axis = 1, inplace = True)"
   ]
  },
  {
   "cell_type": "code",
   "execution_count": 34,
   "id": "bd6d8e8b",
   "metadata": {},
   "outputs": [],
   "source": [
    "data_with_dummies = pd.get_dummies(data = data, columns = ['job', 'marital', 'education', 'poutcome'],\n",
    "                                   prefix = ['job', 'marital', 'education', 'poutcome'])"
   ]
  },
  {
   "cell_type": "code",
   "execution_count": 38,
   "id": "869b575f",
   "metadata": {},
   "outputs": [
    {
     "data": {
      "text/plain": [
       "Index(['age', 'balance', 'duration', 'campaign', 'pdays', 'previous',\n",
       "       'default_cat', 'housing_cat', 'loan_cat', 'y_cat', 'job_admin.',\n",
       "       'job_blue-collar', 'job_entrepreneur', 'job_housemaid',\n",
       "       'job_management', 'job_retired', 'job_self-employed', 'job_services',\n",
       "       'job_student', 'job_technician', 'job_unemployed', 'job_unknown',\n",
       "       'marital_divorced', 'marital_married', 'marital_single',\n",
       "       'education_primary', 'education_secondary', 'education_tertiary',\n",
       "       'education_unknown', 'poutcome_failure', 'poutcome_other',\n",
       "       'poutcome_success', 'poutcome_unknown'],\n",
       "      dtype='object')"
      ]
     },
     "execution_count": 38,
     "metadata": {},
     "output_type": "execute_result"
    }
   ],
   "source": [
    "data_with_dummies.columns"
   ]
  },
  {
   "cell_type": "code",
   "execution_count": 32,
   "id": "ced139e1",
   "metadata": {},
   "outputs": [
    {
     "data": {
      "text/html": [
       "<div>\n",
       "<style scoped>\n",
       "    .dataframe tbody tr th:only-of-type {\n",
       "        vertical-align: middle;\n",
       "    }\n",
       "\n",
       "    .dataframe tbody tr th {\n",
       "        vertical-align: top;\n",
       "    }\n",
       "\n",
       "    .dataframe thead th {\n",
       "        text-align: right;\n",
       "    }\n",
       "</style>\n",
       "<table border=\"1\" class=\"dataframe\">\n",
       "  <thead>\n",
       "    <tr style=\"text-align: right;\">\n",
       "      <th></th>\n",
       "      <th>age</th>\n",
       "      <th>balance</th>\n",
       "      <th>duration</th>\n",
       "      <th>campaign</th>\n",
       "      <th>pdays</th>\n",
       "      <th>previous</th>\n",
       "      <th>default_cat</th>\n",
       "      <th>housing_cat</th>\n",
       "      <th>loan_cat</th>\n",
       "      <th>y_cat</th>\n",
       "      <th>...</th>\n",
       "      <th>marital_married</th>\n",
       "      <th>marital_single</th>\n",
       "      <th>education_primary</th>\n",
       "      <th>education_secondary</th>\n",
       "      <th>education_tertiary</th>\n",
       "      <th>education_unknown</th>\n",
       "      <th>poutcome_failure</th>\n",
       "      <th>poutcome_other</th>\n",
       "      <th>poutcome_success</th>\n",
       "      <th>poutcome_unknown</th>\n",
       "    </tr>\n",
       "  </thead>\n",
       "  <tbody>\n",
       "    <tr>\n",
       "      <th>0</th>\n",
       "      <td>58</td>\n",
       "      <td>2143</td>\n",
       "      <td>261</td>\n",
       "      <td>1</td>\n",
       "      <td>-1</td>\n",
       "      <td>0</td>\n",
       "      <td>0</td>\n",
       "      <td>1</td>\n",
       "      <td>0</td>\n",
       "      <td>0</td>\n",
       "      <td>...</td>\n",
       "      <td>1</td>\n",
       "      <td>0</td>\n",
       "      <td>0</td>\n",
       "      <td>0</td>\n",
       "      <td>1</td>\n",
       "      <td>0</td>\n",
       "      <td>0</td>\n",
       "      <td>0</td>\n",
       "      <td>0</td>\n",
       "      <td>1</td>\n",
       "    </tr>\n",
       "    <tr>\n",
       "      <th>1</th>\n",
       "      <td>44</td>\n",
       "      <td>29</td>\n",
       "      <td>151</td>\n",
       "      <td>1</td>\n",
       "      <td>-1</td>\n",
       "      <td>0</td>\n",
       "      <td>0</td>\n",
       "      <td>1</td>\n",
       "      <td>0</td>\n",
       "      <td>0</td>\n",
       "      <td>...</td>\n",
       "      <td>0</td>\n",
       "      <td>1</td>\n",
       "      <td>0</td>\n",
       "      <td>1</td>\n",
       "      <td>0</td>\n",
       "      <td>0</td>\n",
       "      <td>0</td>\n",
       "      <td>0</td>\n",
       "      <td>0</td>\n",
       "      <td>1</td>\n",
       "    </tr>\n",
       "    <tr>\n",
       "      <th>2</th>\n",
       "      <td>33</td>\n",
       "      <td>2</td>\n",
       "      <td>76</td>\n",
       "      <td>1</td>\n",
       "      <td>-1</td>\n",
       "      <td>0</td>\n",
       "      <td>0</td>\n",
       "      <td>1</td>\n",
       "      <td>1</td>\n",
       "      <td>0</td>\n",
       "      <td>...</td>\n",
       "      <td>1</td>\n",
       "      <td>0</td>\n",
       "      <td>0</td>\n",
       "      <td>1</td>\n",
       "      <td>0</td>\n",
       "      <td>0</td>\n",
       "      <td>0</td>\n",
       "      <td>0</td>\n",
       "      <td>0</td>\n",
       "      <td>1</td>\n",
       "    </tr>\n",
       "    <tr>\n",
       "      <th>3</th>\n",
       "      <td>47</td>\n",
       "      <td>1506</td>\n",
       "      <td>92</td>\n",
       "      <td>1</td>\n",
       "      <td>-1</td>\n",
       "      <td>0</td>\n",
       "      <td>0</td>\n",
       "      <td>1</td>\n",
       "      <td>0</td>\n",
       "      <td>0</td>\n",
       "      <td>...</td>\n",
       "      <td>1</td>\n",
       "      <td>0</td>\n",
       "      <td>0</td>\n",
       "      <td>0</td>\n",
       "      <td>0</td>\n",
       "      <td>1</td>\n",
       "      <td>0</td>\n",
       "      <td>0</td>\n",
       "      <td>0</td>\n",
       "      <td>1</td>\n",
       "    </tr>\n",
       "    <tr>\n",
       "      <th>4</th>\n",
       "      <td>33</td>\n",
       "      <td>1</td>\n",
       "      <td>198</td>\n",
       "      <td>1</td>\n",
       "      <td>-1</td>\n",
       "      <td>0</td>\n",
       "      <td>0</td>\n",
       "      <td>0</td>\n",
       "      <td>0</td>\n",
       "      <td>0</td>\n",
       "      <td>...</td>\n",
       "      <td>0</td>\n",
       "      <td>1</td>\n",
       "      <td>0</td>\n",
       "      <td>0</td>\n",
       "      <td>0</td>\n",
       "      <td>1</td>\n",
       "      <td>0</td>\n",
       "      <td>0</td>\n",
       "      <td>0</td>\n",
       "      <td>1</td>\n",
       "    </tr>\n",
       "  </tbody>\n",
       "</table>\n",
       "<p>5 rows × 33 columns</p>\n",
       "</div>"
      ],
      "text/plain": [
       "   age  balance  duration  campaign  pdays  previous  default_cat  \\\n",
       "0   58     2143       261         1     -1         0            0   \n",
       "1   44       29       151         1     -1         0            0   \n",
       "2   33        2        76         1     -1         0            0   \n",
       "3   47     1506        92         1     -1         0            0   \n",
       "4   33        1       198         1     -1         0            0   \n",
       "\n",
       "   housing_cat  loan_cat  y_cat  ...  marital_married  marital_single  \\\n",
       "0            1         0      0  ...                1               0   \n",
       "1            1         0      0  ...                0               1   \n",
       "2            1         1      0  ...                1               0   \n",
       "3            1         0      0  ...                1               0   \n",
       "4            0         0      0  ...                0               1   \n",
       "\n",
       "   education_primary  education_secondary  education_tertiary  \\\n",
       "0                  0                    0                   1   \n",
       "1                  0                    1                   0   \n",
       "2                  0                    1                   0   \n",
       "3                  0                    0                   0   \n",
       "4                  0                    0                   0   \n",
       "\n",
       "   education_unknown  poutcome_failure  poutcome_other  poutcome_success  \\\n",
       "0                  0                 0               0                 0   \n",
       "1                  0                 0               0                 0   \n",
       "2                  0                 0               0                 0   \n",
       "3                  1                 0               0                 0   \n",
       "4                  1                 0               0                 0   \n",
       "\n",
       "   poutcome_unknown  \n",
       "0                 1  \n",
       "1                 1  \n",
       "2                 1  \n",
       "3                 1  \n",
       "4                 1  \n",
       "\n",
       "[5 rows x 33 columns]"
      ]
     },
     "execution_count": 32,
     "metadata": {},
     "output_type": "execute_result"
    }
   ],
   "source": [
    "data_with_dummies.head()"
   ]
  },
  {
   "cell_type": "code",
   "execution_count": 33,
   "id": "783ae9a5",
   "metadata": {},
   "outputs": [
    {
     "data": {
      "text/html": [
       "<div>\n",
       "<style scoped>\n",
       "    .dataframe tbody tr th:only-of-type {\n",
       "        vertical-align: middle;\n",
       "    }\n",
       "\n",
       "    .dataframe tbody tr th {\n",
       "        vertical-align: top;\n",
       "    }\n",
       "\n",
       "    .dataframe thead th {\n",
       "        text-align: right;\n",
       "    }\n",
       "</style>\n",
       "<table border=\"1\" class=\"dataframe\">\n",
       "  <thead>\n",
       "    <tr style=\"text-align: right;\">\n",
       "      <th></th>\n",
       "      <th>age</th>\n",
       "      <th>balance</th>\n",
       "      <th>duration</th>\n",
       "      <th>campaign</th>\n",
       "      <th>pdays</th>\n",
       "      <th>previous</th>\n",
       "      <th>default_cat</th>\n",
       "      <th>housing_cat</th>\n",
       "      <th>loan_cat</th>\n",
       "      <th>y_cat</th>\n",
       "      <th>...</th>\n",
       "      <th>marital_married</th>\n",
       "      <th>marital_single</th>\n",
       "      <th>education_primary</th>\n",
       "      <th>education_secondary</th>\n",
       "      <th>education_tertiary</th>\n",
       "      <th>education_unknown</th>\n",
       "      <th>poutcome_failure</th>\n",
       "      <th>poutcome_other</th>\n",
       "      <th>poutcome_success</th>\n",
       "      <th>poutcome_unknown</th>\n",
       "    </tr>\n",
       "  </thead>\n",
       "  <tbody>\n",
       "    <tr>\n",
       "      <th>45206</th>\n",
       "      <td>51</td>\n",
       "      <td>825</td>\n",
       "      <td>977</td>\n",
       "      <td>3</td>\n",
       "      <td>-1</td>\n",
       "      <td>0</td>\n",
       "      <td>0</td>\n",
       "      <td>0</td>\n",
       "      <td>0</td>\n",
       "      <td>1</td>\n",
       "      <td>...</td>\n",
       "      <td>1</td>\n",
       "      <td>0</td>\n",
       "      <td>0</td>\n",
       "      <td>0</td>\n",
       "      <td>1</td>\n",
       "      <td>0</td>\n",
       "      <td>0</td>\n",
       "      <td>0</td>\n",
       "      <td>0</td>\n",
       "      <td>1</td>\n",
       "    </tr>\n",
       "    <tr>\n",
       "      <th>45207</th>\n",
       "      <td>71</td>\n",
       "      <td>1729</td>\n",
       "      <td>456</td>\n",
       "      <td>2</td>\n",
       "      <td>-1</td>\n",
       "      <td>0</td>\n",
       "      <td>0</td>\n",
       "      <td>0</td>\n",
       "      <td>0</td>\n",
       "      <td>1</td>\n",
       "      <td>...</td>\n",
       "      <td>0</td>\n",
       "      <td>0</td>\n",
       "      <td>1</td>\n",
       "      <td>0</td>\n",
       "      <td>0</td>\n",
       "      <td>0</td>\n",
       "      <td>0</td>\n",
       "      <td>0</td>\n",
       "      <td>0</td>\n",
       "      <td>1</td>\n",
       "    </tr>\n",
       "    <tr>\n",
       "      <th>45208</th>\n",
       "      <td>72</td>\n",
       "      <td>5715</td>\n",
       "      <td>1127</td>\n",
       "      <td>5</td>\n",
       "      <td>184</td>\n",
       "      <td>3</td>\n",
       "      <td>0</td>\n",
       "      <td>0</td>\n",
       "      <td>0</td>\n",
       "      <td>1</td>\n",
       "      <td>...</td>\n",
       "      <td>1</td>\n",
       "      <td>0</td>\n",
       "      <td>0</td>\n",
       "      <td>1</td>\n",
       "      <td>0</td>\n",
       "      <td>0</td>\n",
       "      <td>0</td>\n",
       "      <td>0</td>\n",
       "      <td>1</td>\n",
       "      <td>0</td>\n",
       "    </tr>\n",
       "    <tr>\n",
       "      <th>45209</th>\n",
       "      <td>57</td>\n",
       "      <td>668</td>\n",
       "      <td>508</td>\n",
       "      <td>4</td>\n",
       "      <td>-1</td>\n",
       "      <td>0</td>\n",
       "      <td>0</td>\n",
       "      <td>0</td>\n",
       "      <td>0</td>\n",
       "      <td>0</td>\n",
       "      <td>...</td>\n",
       "      <td>1</td>\n",
       "      <td>0</td>\n",
       "      <td>0</td>\n",
       "      <td>1</td>\n",
       "      <td>0</td>\n",
       "      <td>0</td>\n",
       "      <td>0</td>\n",
       "      <td>0</td>\n",
       "      <td>0</td>\n",
       "      <td>1</td>\n",
       "    </tr>\n",
       "    <tr>\n",
       "      <th>45210</th>\n",
       "      <td>37</td>\n",
       "      <td>2971</td>\n",
       "      <td>361</td>\n",
       "      <td>2</td>\n",
       "      <td>188</td>\n",
       "      <td>11</td>\n",
       "      <td>0</td>\n",
       "      <td>0</td>\n",
       "      <td>0</td>\n",
       "      <td>0</td>\n",
       "      <td>...</td>\n",
       "      <td>1</td>\n",
       "      <td>0</td>\n",
       "      <td>0</td>\n",
       "      <td>1</td>\n",
       "      <td>0</td>\n",
       "      <td>0</td>\n",
       "      <td>0</td>\n",
       "      <td>1</td>\n",
       "      <td>0</td>\n",
       "      <td>0</td>\n",
       "    </tr>\n",
       "  </tbody>\n",
       "</table>\n",
       "<p>5 rows × 33 columns</p>\n",
       "</div>"
      ],
      "text/plain": [
       "       age  balance  duration  campaign  pdays  previous  default_cat  \\\n",
       "45206   51      825       977         3     -1         0            0   \n",
       "45207   71     1729       456         2     -1         0            0   \n",
       "45208   72     5715      1127         5    184         3            0   \n",
       "45209   57      668       508         4     -1         0            0   \n",
       "45210   37     2971       361         2    188        11            0   \n",
       "\n",
       "       housing_cat  loan_cat  y_cat  ...  marital_married  marital_single  \\\n",
       "45206            0         0      1  ...                1               0   \n",
       "45207            0         0      1  ...                0               0   \n",
       "45208            0         0      1  ...                1               0   \n",
       "45209            0         0      0  ...                1               0   \n",
       "45210            0         0      0  ...                1               0   \n",
       "\n",
       "       education_primary  education_secondary  education_tertiary  \\\n",
       "45206                  0                    0                   1   \n",
       "45207                  1                    0                   0   \n",
       "45208                  0                    1                   0   \n",
       "45209                  0                    1                   0   \n",
       "45210                  0                    1                   0   \n",
       "\n",
       "       education_unknown  poutcome_failure  poutcome_other  poutcome_success  \\\n",
       "45206                  0                 0               0                 0   \n",
       "45207                  0                 0               0                 0   \n",
       "45208                  0                 0               0                 1   \n",
       "45209                  0                 0               0                 0   \n",
       "45210                  0                 0               1                 0   \n",
       "\n",
       "       poutcome_unknown  \n",
       "45206                 1  \n",
       "45207                 1  \n",
       "45208                 0  \n",
       "45209                 1  \n",
       "45210                 0  \n",
       "\n",
       "[5 rows x 33 columns]"
      ]
     },
     "execution_count": 33,
     "metadata": {},
     "output_type": "execute_result"
    }
   ],
   "source": [
    "data_with_dummies.tail()"
   ]
  },
  {
   "cell_type": "markdown",
   "id": "39aebfce",
   "metadata": {},
   "source": [
    "# Main"
   ]
  },
  {
   "cell_type": "markdown",
   "id": "82849392",
   "metadata": {},
   "source": [
    "Corr."
   ]
  },
  {
   "cell_type": "code",
   "execution_count": 41,
   "id": "eb935828",
   "metadata": {},
   "outputs": [
    {
     "data": {
      "text/html": [
       "<div>\n",
       "<style scoped>\n",
       "    .dataframe tbody tr th:only-of-type {\n",
       "        vertical-align: middle;\n",
       "    }\n",
       "\n",
       "    .dataframe tbody tr th {\n",
       "        vertical-align: top;\n",
       "    }\n",
       "\n",
       "    .dataframe thead th {\n",
       "        text-align: right;\n",
       "    }\n",
       "</style>\n",
       "<table border=\"1\" class=\"dataframe\">\n",
       "  <thead>\n",
       "    <tr style=\"text-align: right;\">\n",
       "      <th></th>\n",
       "      <th>age</th>\n",
       "      <th>balance</th>\n",
       "      <th>duration</th>\n",
       "      <th>campaign</th>\n",
       "      <th>pdays</th>\n",
       "      <th>previous</th>\n",
       "      <th>default_cat</th>\n",
       "      <th>housing_cat</th>\n",
       "      <th>loan_cat</th>\n",
       "      <th>y_cat</th>\n",
       "      <th>...</th>\n",
       "      <th>marital_married</th>\n",
       "      <th>marital_single</th>\n",
       "      <th>education_primary</th>\n",
       "      <th>education_secondary</th>\n",
       "      <th>education_tertiary</th>\n",
       "      <th>education_unknown</th>\n",
       "      <th>poutcome_failure</th>\n",
       "      <th>poutcome_other</th>\n",
       "      <th>poutcome_success</th>\n",
       "      <th>poutcome_unknown</th>\n",
       "    </tr>\n",
       "  </thead>\n",
       "  <tbody>\n",
       "    <tr>\n",
       "      <th>age</th>\n",
       "      <td>1.000000</td>\n",
       "      <td>0.097783</td>\n",
       "      <td>-0.004648</td>\n",
       "      <td>0.004760</td>\n",
       "      <td>-0.023758</td>\n",
       "      <td>0.001288</td>\n",
       "      <td>-0.017879</td>\n",
       "      <td>-0.185513</td>\n",
       "      <td>-0.015655</td>\n",
       "      <td>0.025155</td>\n",
       "      <td>...</td>\n",
       "      <td>0.286257</td>\n",
       "      <td>-0.427817</td>\n",
       "      <td>0.196182</td>\n",
       "      <td>-0.093979</td>\n",
       "      <td>-0.081629</td>\n",
       "      <td>0.069665</td>\n",
       "      <td>-0.004927</td>\n",
       "      <td>-0.022967</td>\n",
       "      <td>0.035526</td>\n",
       "      <td>-0.000816</td>\n",
       "    </tr>\n",
       "    <tr>\n",
       "      <th>balance</th>\n",
       "      <td>0.097783</td>\n",
       "      <td>1.000000</td>\n",
       "      <td>0.021560</td>\n",
       "      <td>-0.014578</td>\n",
       "      <td>0.003435</td>\n",
       "      <td>0.016674</td>\n",
       "      <td>-0.066745</td>\n",
       "      <td>-0.068768</td>\n",
       "      <td>-0.084350</td>\n",
       "      <td>0.052838</td>\n",
       "      <td>...</td>\n",
       "      <td>0.025708</td>\n",
       "      <td>-0.012537</td>\n",
       "      <td>-0.015451</td>\n",
       "      <td>-0.069937</td>\n",
       "      <td>0.084001</td>\n",
       "      <td>0.011181</td>\n",
       "      <td>0.011857</td>\n",
       "      <td>0.008466</td>\n",
       "      <td>0.035240</td>\n",
       "      <td>-0.030271</td>\n",
       "    </tr>\n",
       "    <tr>\n",
       "      <th>duration</th>\n",
       "      <td>-0.004648</td>\n",
       "      <td>0.021560</td>\n",
       "      <td>1.000000</td>\n",
       "      <td>-0.084570</td>\n",
       "      <td>-0.001565</td>\n",
       "      <td>0.001203</td>\n",
       "      <td>-0.010021</td>\n",
       "      <td>0.005075</td>\n",
       "      <td>-0.012412</td>\n",
       "      <td>0.394521</td>\n",
       "      <td>...</td>\n",
       "      <td>-0.022683</td>\n",
       "      <td>0.020328</td>\n",
       "      <td>-0.003660</td>\n",
       "      <td>0.002084</td>\n",
       "      <td>0.000891</td>\n",
       "      <td>-0.000682</td>\n",
       "      <td>-0.018925</td>\n",
       "      <td>-0.001958</td>\n",
       "      <td>0.042389</td>\n",
       "      <td>-0.003491</td>\n",
       "    </tr>\n",
       "    <tr>\n",
       "      <th>campaign</th>\n",
       "      <td>0.004760</td>\n",
       "      <td>-0.014578</td>\n",
       "      <td>-0.084570</td>\n",
       "      <td>1.000000</td>\n",
       "      <td>-0.088628</td>\n",
       "      <td>-0.032855</td>\n",
       "      <td>0.016822</td>\n",
       "      <td>-0.023599</td>\n",
       "      <td>0.009980</td>\n",
       "      <td>-0.073172</td>\n",
       "      <td>...</td>\n",
       "      <td>0.031371</td>\n",
       "      <td>-0.023120</td>\n",
       "      <td>0.009616</td>\n",
       "      <td>-0.020893</td>\n",
       "      <td>0.012866</td>\n",
       "      <td>0.005704</td>\n",
       "      <td>-0.088131</td>\n",
       "      <td>-0.020107</td>\n",
       "      <td>-0.057486</td>\n",
       "      <td>0.107965</td>\n",
       "    </tr>\n",
       "    <tr>\n",
       "      <th>pdays</th>\n",
       "      <td>-0.023758</td>\n",
       "      <td>0.003435</td>\n",
       "      <td>-0.001565</td>\n",
       "      <td>-0.088628</td>\n",
       "      <td>1.000000</td>\n",
       "      <td>0.454820</td>\n",
       "      <td>-0.029979</td>\n",
       "      <td>0.124178</td>\n",
       "      <td>-0.022754</td>\n",
       "      <td>0.103621</td>\n",
       "      <td>...</td>\n",
       "      <td>-0.027600</td>\n",
       "      <td>0.027943</td>\n",
       "      <td>-0.017373</td>\n",
       "      <td>0.022105</td>\n",
       "      <td>-0.007568</td>\n",
       "      <td>-0.006907</td>\n",
       "      <td>0.701052</td>\n",
       "      <td>0.389791</td>\n",
       "      <td>0.228539</td>\n",
       "      <td>-0.869962</td>\n",
       "    </tr>\n",
       "    <tr>\n",
       "      <th>previous</th>\n",
       "      <td>0.001288</td>\n",
       "      <td>0.016674</td>\n",
       "      <td>0.001203</td>\n",
       "      <td>-0.032855</td>\n",
       "      <td>0.454820</td>\n",
       "      <td>1.000000</td>\n",
       "      <td>-0.018329</td>\n",
       "      <td>0.037076</td>\n",
       "      <td>-0.011043</td>\n",
       "      <td>0.093236</td>\n",
       "      <td>...</td>\n",
       "      <td>-0.012691</td>\n",
       "      <td>0.017006</td>\n",
       "      <td>-0.016705</td>\n",
       "      <td>-0.005603</td>\n",
       "      <td>0.022888</td>\n",
       "      <td>-0.008257</td>\n",
       "      <td>0.350627</td>\n",
       "      <td>0.306615</td>\n",
       "      <td>0.201424</td>\n",
       "      <td>-0.532763</td>\n",
       "    </tr>\n",
       "    <tr>\n",
       "      <th>default_cat</th>\n",
       "      <td>-0.017879</td>\n",
       "      <td>-0.066745</td>\n",
       "      <td>-0.010021</td>\n",
       "      <td>0.016822</td>\n",
       "      <td>-0.029979</td>\n",
       "      <td>-0.018329</td>\n",
       "      <td>1.000000</td>\n",
       "      <td>-0.006025</td>\n",
       "      <td>0.077234</td>\n",
       "      <td>-0.022419</td>\n",
       "      <td>...</td>\n",
       "      <td>-0.014460</td>\n",
       "      <td>0.003115</td>\n",
       "      <td>0.001623</td>\n",
       "      <td>0.013220</td>\n",
       "      <td>-0.015239</td>\n",
       "      <td>-0.001236</td>\n",
       "      <td>-0.026389</td>\n",
       "      <td>-0.014445</td>\n",
       "      <td>-0.023344</td>\n",
       "      <td>0.039490</td>\n",
       "    </tr>\n",
       "    <tr>\n",
       "      <th>housing_cat</th>\n",
       "      <td>-0.185513</td>\n",
       "      <td>-0.068768</td>\n",
       "      <td>0.005075</td>\n",
       "      <td>-0.023599</td>\n",
       "      <td>0.124178</td>\n",
       "      <td>0.037076</td>\n",
       "      <td>-0.006025</td>\n",
       "      <td>1.000000</td>\n",
       "      <td>0.041323</td>\n",
       "      <td>-0.139173</td>\n",
       "      <td>...</td>\n",
       "      <td>0.017681</td>\n",
       "      <td>-0.020475</td>\n",
       "      <td>0.010671</td>\n",
       "      <td>0.101659</td>\n",
       "      <td>-0.099175</td>\n",
       "      <td>-0.047595</td>\n",
       "      <td>0.106795</td>\n",
       "      <td>0.039710</td>\n",
       "      <td>-0.091360</td>\n",
       "      <td>-0.063755</td>\n",
       "    </tr>\n",
       "    <tr>\n",
       "      <th>loan_cat</th>\n",
       "      <td>-0.015655</td>\n",
       "      <td>-0.084350</td>\n",
       "      <td>-0.012412</td>\n",
       "      <td>0.009980</td>\n",
       "      <td>-0.022754</td>\n",
       "      <td>-0.011043</td>\n",
       "      <td>0.077234</td>\n",
       "      <td>0.041323</td>\n",
       "      <td>1.000000</td>\n",
       "      <td>-0.068185</td>\n",
       "      <td>...</td>\n",
       "      <td>0.036906</td>\n",
       "      <td>-0.051716</td>\n",
       "      <td>-0.012396</td>\n",
       "      <td>0.070625</td>\n",
       "      <td>-0.045940</td>\n",
       "      <td>-0.049992</td>\n",
       "      <td>-0.002186</td>\n",
       "      <td>-0.009099</td>\n",
       "      <td>-0.053713</td>\n",
       "      <td>0.031406</td>\n",
       "    </tr>\n",
       "    <tr>\n",
       "      <th>y_cat</th>\n",
       "      <td>0.025155</td>\n",
       "      <td>0.052838</td>\n",
       "      <td>0.394521</td>\n",
       "      <td>-0.073172</td>\n",
       "      <td>0.103621</td>\n",
       "      <td>0.093236</td>\n",
       "      <td>-0.022419</td>\n",
       "      <td>-0.139173</td>\n",
       "      <td>-0.068185</td>\n",
       "      <td>1.000000</td>\n",
       "      <td>...</td>\n",
       "      <td>-0.060260</td>\n",
       "      <td>0.063526</td>\n",
       "      <td>-0.040393</td>\n",
       "      <td>-0.036388</td>\n",
       "      <td>0.066448</td>\n",
       "      <td>0.012053</td>\n",
       "      <td>0.009885</td>\n",
       "      <td>0.031955</td>\n",
       "      <td>0.306788</td>\n",
       "      <td>-0.167051</td>\n",
       "    </tr>\n",
       "    <tr>\n",
       "      <th>job_admin.</th>\n",
       "      <td>-0.055717</td>\n",
       "      <td>-0.026726</td>\n",
       "      <td>-0.015722</td>\n",
       "      <td>-0.021868</td>\n",
       "      <td>0.027497</td>\n",
       "      <td>0.014245</td>\n",
       "      <td>-0.010037</td>\n",
       "      <td>0.043046</td>\n",
       "      <td>0.030781</td>\n",
       "      <td>0.005637</td>\n",
       "      <td>...</td>\n",
       "      <td>-0.059572</td>\n",
       "      <td>0.040912</td>\n",
       "      <td>-0.111364</td>\n",
       "      <td>0.217639</td>\n",
       "      <td>-0.144780</td>\n",
       "      <td>-0.014495</td>\n",
       "      <td>0.018431</td>\n",
       "      <td>0.010745</td>\n",
       "      <td>0.012056</td>\n",
       "      <td>-0.025940</td>\n",
       "    </tr>\n",
       "    <tr>\n",
       "      <th>job_blue-collar</th>\n",
       "      <td>-0.044002</td>\n",
       "      <td>-0.048757</td>\n",
       "      <td>0.009637</td>\n",
       "      <td>0.008986</td>\n",
       "      <td>0.020063</td>\n",
       "      <td>-0.017095</td>\n",
       "      <td>0.010341</td>\n",
       "      <td>0.177475</td>\n",
       "      <td>0.018291</td>\n",
       "      <td>-0.072083</td>\n",
       "      <td>...</td>\n",
       "      <td>0.122033</td>\n",
       "      <td>-0.088315</td>\n",
       "      <td>0.342688</td>\n",
       "      <td>0.040548</td>\n",
       "      <td>-0.320541</td>\n",
       "      <td>0.014715</td>\n",
       "      <td>0.002254</td>\n",
       "      <td>0.001342</td>\n",
       "      <td>-0.053074</td>\n",
       "      <td>0.022194</td>\n",
       "    </tr>\n",
       "    <tr>\n",
       "      <th>job_entrepreneur</th>\n",
       "      <td>0.021792</td>\n",
       "      <td>0.009642</td>\n",
       "      <td>-0.001327</td>\n",
       "      <td>0.002128</td>\n",
       "      <td>-0.014203</td>\n",
       "      <td>-0.008181</td>\n",
       "      <td>0.026281</td>\n",
       "      <td>0.010600</td>\n",
       "      <td>0.039808</td>\n",
       "      <td>-0.019662</td>\n",
       "      <td>...</td>\n",
       "      <td>0.044319</td>\n",
       "      <td>-0.050297</td>\n",
       "      <td>-0.014641</td>\n",
       "      <td>-0.054865</td>\n",
       "      <td>0.067639</td>\n",
       "      <td>0.009325</td>\n",
       "      <td>0.001119</td>\n",
       "      <td>-0.013506</td>\n",
       "      <td>-0.019111</td>\n",
       "      <td>0.014901</td>\n",
       "    </tr>\n",
       "    <tr>\n",
       "      <th>job_housemaid</th>\n",
       "      <td>0.086650</td>\n",
       "      <td>0.001661</td>\n",
       "      <td>-0.008046</td>\n",
       "      <td>0.003097</td>\n",
       "      <td>-0.031350</td>\n",
       "      <td>-0.015204</td>\n",
       "      <td>-0.000359</td>\n",
       "      <td>-0.079380</td>\n",
       "      <td>-0.017234</td>\n",
       "      <td>-0.015195</td>\n",
       "      <td>...</td>\n",
       "      <td>0.045816</td>\n",
       "      <td>-0.062177</td>\n",
       "      <td>0.165842</td>\n",
       "      <td>-0.065396</td>\n",
       "      <td>-0.057004</td>\n",
       "      <td>-0.004048</td>\n",
       "      <td>-0.016300</td>\n",
       "      <td>-0.016769</td>\n",
       "      <td>-0.009375</td>\n",
       "      <td>0.026059</td>\n",
       "    </tr>\n",
       "    <tr>\n",
       "      <th>job_management</th>\n",
       "      <td>-0.023571</td>\n",
       "      <td>0.067797</td>\n",
       "      <td>-0.008323</td>\n",
       "      <td>0.016686</td>\n",
       "      <td>-0.007871</td>\n",
       "      <td>0.019579</td>\n",
       "      <td>-0.002655</td>\n",
       "      <td>-0.063382</td>\n",
       "      <td>-0.038904</td>\n",
       "      <td>0.032919</td>\n",
       "      <td>...</td>\n",
       "      <td>-0.032560</td>\n",
       "      <td>0.032765</td>\n",
       "      <td>-0.172773</td>\n",
       "      <td>-0.406124</td>\n",
       "      <td>0.598900</td>\n",
       "      <td>-0.040137</td>\n",
       "      <td>0.003276</td>\n",
       "      <td>0.002223</td>\n",
       "      <td>0.021453</td>\n",
       "      <td>-0.013755</td>\n",
       "    </tr>\n",
       "    <tr>\n",
       "      <th>job_retired</th>\n",
       "      <td>0.447378</td>\n",
       "      <td>0.046900</td>\n",
       "      <td>0.026032</td>\n",
       "      <td>-0.030913</td>\n",
       "      <td>-0.006315</td>\n",
       "      <td>0.005818</td>\n",
       "      <td>-0.011290</td>\n",
       "      <td>-0.156633</td>\n",
       "      <td>-0.014861</td>\n",
       "      <td>0.079245</td>\n",
       "      <td>...</td>\n",
       "      <td>0.076288</td>\n",
       "      <td>-0.119892</td>\n",
       "      <td>0.127818</td>\n",
       "      <td>-0.036089</td>\n",
       "      <td>-0.066780</td>\n",
       "      <td>0.013290</td>\n",
       "      <td>-0.005031</td>\n",
       "      <td>-0.004691</td>\n",
       "      <td>0.055485</td>\n",
       "      <td>-0.019368</td>\n",
       "    </tr>\n",
       "    <tr>\n",
       "      <th>job_self-employed</th>\n",
       "      <td>-0.008093</td>\n",
       "      <td>0.017850</td>\n",
       "      <td>0.007383</td>\n",
       "      <td>0.005479</td>\n",
       "      <td>-0.010356</td>\n",
       "      <td>-0.002371</td>\n",
       "      <td>0.004107</td>\n",
       "      <td>-0.027319</td>\n",
       "      <td>-0.007882</td>\n",
       "      <td>0.000855</td>\n",
       "      <td>...</td>\n",
       "      <td>0.010472</td>\n",
       "      <td>-0.000185</td>\n",
       "      <td>-0.036715</td>\n",
       "      <td>-0.056242</td>\n",
       "      <td>0.097417</td>\n",
       "      <td>-0.015696</td>\n",
       "      <td>-0.002390</td>\n",
       "      <td>-0.001989</td>\n",
       "      <td>0.001494</td>\n",
       "      <td>0.002246</td>\n",
       "    </tr>\n",
       "    <tr>\n",
       "      <th>job_services</th>\n",
       "      <td>-0.065780</td>\n",
       "      <td>-0.038151</td>\n",
       "      <td>0.001427</td>\n",
       "      <td>-0.004671</td>\n",
       "      <td>0.005710</td>\n",
       "      <td>-0.010926</td>\n",
       "      <td>0.000068</td>\n",
       "      <td>0.070435</td>\n",
       "      <td>0.035575</td>\n",
       "      <td>-0.027864</td>\n",
       "      <td>...</td>\n",
       "      <td>-0.014615</td>\n",
       "      <td>0.003885</td>\n",
       "      <td>-0.060749</td>\n",
       "      <td>0.203018</td>\n",
       "      <td>-0.171417</td>\n",
       "      <td>-0.007956</td>\n",
       "      <td>-0.001553</td>\n",
       "      <td>0.003077</td>\n",
       "      <td>-0.022934</td>\n",
       "      <td>0.010347</td>\n",
       "    </tr>\n",
       "    <tr>\n",
       "      <th>job_student</th>\n",
       "      <td>-0.197302</td>\n",
       "      <td>0.001233</td>\n",
       "      <td>-0.006504</td>\n",
       "      <td>-0.021813</td>\n",
       "      <td>0.024486</td>\n",
       "      <td>0.023556</td>\n",
       "      <td>-0.016222</td>\n",
       "      <td>-0.085066</td>\n",
       "      <td>-0.058503</td>\n",
       "      <td>0.076897</td>\n",
       "      <td>...</td>\n",
       "      <td>-0.161871</td>\n",
       "      <td>0.211073</td>\n",
       "      <td>-0.042472</td>\n",
       "      <td>0.008266</td>\n",
       "      <td>-0.018034</td>\n",
       "      <td>0.097325</td>\n",
       "      <td>0.007646</td>\n",
       "      <td>0.033633</td>\n",
       "      <td>0.048048</td>\n",
       "      <td>-0.045715</td>\n",
       "    </tr>\n",
       "    <tr>\n",
       "      <th>job_technician</th>\n",
       "      <td>-0.068632</td>\n",
       "      <td>-0.016183</td>\n",
       "      <td>-0.009176</td>\n",
       "      <td>0.020739</td>\n",
       "      <td>-0.013478</td>\n",
       "      <td>-0.001123</td>\n",
       "      <td>-0.003089</td>\n",
       "      <td>-0.012823</td>\n",
       "      <td>0.014798</td>\n",
       "      <td>-0.008970</td>\n",
       "      <td>...</td>\n",
       "      <td>-0.062950</td>\n",
       "      <td>0.061841</td>\n",
       "      <td>-0.163859</td>\n",
       "      <td>0.157443</td>\n",
       "      <td>-0.034665</td>\n",
       "      <td>-0.020877</td>\n",
       "      <td>-0.005049</td>\n",
       "      <td>-0.003049</td>\n",
       "      <td>-0.002929</td>\n",
       "      <td>0.006986</td>\n",
       "    </tr>\n",
       "    <tr>\n",
       "      <th>job_unemployed</th>\n",
       "      <td>0.000412</td>\n",
       "      <td>0.009023</td>\n",
       "      <td>0.020322</td>\n",
       "      <td>-0.018448</td>\n",
       "      <td>-0.010411</td>\n",
       "      <td>-0.008504</td>\n",
       "      <td>0.006470</td>\n",
       "      <td>-0.048229</td>\n",
       "      <td>-0.035961</td>\n",
       "      <td>0.020390</td>\n",
       "      <td>...</td>\n",
       "      <td>-0.014401</td>\n",
       "      <td>0.009506</td>\n",
       "      <td>0.021957</td>\n",
       "      <td>0.015688</td>\n",
       "      <td>-0.027371</td>\n",
       "      <td>-0.016334</td>\n",
       "      <td>-0.012438</td>\n",
       "      <td>-0.010725</td>\n",
       "      <td>0.015044</td>\n",
       "      <td>0.008497</td>\n",
       "    </tr>\n",
       "    <tr>\n",
       "      <th>job_unknown</th>\n",
       "      <td>0.050200</td>\n",
       "      <td>0.010784</td>\n",
       "      <td>-0.006390</td>\n",
       "      <td>0.014091</td>\n",
       "      <td>-0.015366</td>\n",
       "      <td>-0.009068</td>\n",
       "      <td>-0.006669</td>\n",
       "      <td>-0.075023</td>\n",
       "      <td>-0.031943</td>\n",
       "      <td>0.000267</td>\n",
       "      <td>...</td>\n",
       "      <td>0.016836</td>\n",
       "      <td>-0.008317</td>\n",
       "      <td>0.005705</td>\n",
       "      <td>-0.042718</td>\n",
       "      <td>-0.027900</td>\n",
       "      <td>0.161337</td>\n",
       "      <td>-0.010034</td>\n",
       "      <td>-0.013678</td>\n",
       "      <td>0.002126</td>\n",
       "      <td>0.014083</td>\n",
       "    </tr>\n",
       "    <tr>\n",
       "      <th>marital_divorced</th>\n",
       "      <td>0.164674</td>\n",
       "      <td>-0.021732</td>\n",
       "      <td>0.006100</td>\n",
       "      <td>-0.015484</td>\n",
       "      <td>0.002897</td>\n",
       "      <td>-0.004534</td>\n",
       "      <td>0.017777</td>\n",
       "      <td>0.001778</td>\n",
       "      <td>0.016377</td>\n",
       "      <td>0.002772</td>\n",
       "      <td>...</td>\n",
       "      <td>-0.443648</td>\n",
       "      <td>-0.226602</td>\n",
       "      <td>-0.007157</td>\n",
       "      <td>0.019795</td>\n",
       "      <td>-0.009259</td>\n",
       "      <td>-0.015666</td>\n",
       "      <td>-0.001884</td>\n",
       "      <td>0.003887</td>\n",
       "      <td>-0.008490</td>\n",
       "      <td>0.003478</td>\n",
       "    </tr>\n",
       "    <tr>\n",
       "      <th>marital_married</th>\n",
       "      <td>0.286257</td>\n",
       "      <td>0.025708</td>\n",
       "      <td>-0.022683</td>\n",
       "      <td>0.031371</td>\n",
       "      <td>-0.027600</td>\n",
       "      <td>-0.012691</td>\n",
       "      <td>-0.014460</td>\n",
       "      <td>0.017681</td>\n",
       "      <td>0.036906</td>\n",
       "      <td>-0.060260</td>\n",
       "      <td>...</td>\n",
       "      <td>1.000000</td>\n",
       "      <td>-0.772357</td>\n",
       "      <td>0.141412</td>\n",
       "      <td>-0.017724</td>\n",
       "      <td>-0.096019</td>\n",
       "      <td>0.009610</td>\n",
       "      <td>-0.004516</td>\n",
       "      <td>-0.027570</td>\n",
       "      <td>-0.018484</td>\n",
       "      <td>0.026338</td>\n",
       "    </tr>\n",
       "    <tr>\n",
       "      <th>marital_single</th>\n",
       "      <td>-0.427817</td>\n",
       "      <td>-0.012537</td>\n",
       "      <td>0.020328</td>\n",
       "      <td>-0.023120</td>\n",
       "      <td>0.027943</td>\n",
       "      <td>0.017006</td>\n",
       "      <td>0.003115</td>\n",
       "      <td>-0.020475</td>\n",
       "      <td>-0.051716</td>\n",
       "      <td>0.063526</td>\n",
       "      <td>...</td>\n",
       "      <td>-0.772357</td>\n",
       "      <td>1.000000</td>\n",
       "      <td>-0.148613</td>\n",
       "      <td>0.005232</td>\n",
       "      <td>0.110915</td>\n",
       "      <td>0.000659</td>\n",
       "      <td>0.006244</td>\n",
       "      <td>0.027208</td>\n",
       "      <td>0.026105</td>\n",
       "      <td>-0.031089</td>\n",
       "    </tr>\n",
       "    <tr>\n",
       "      <th>education_primary</th>\n",
       "      <td>0.196182</td>\n",
       "      <td>-0.015451</td>\n",
       "      <td>-0.003660</td>\n",
       "      <td>0.009616</td>\n",
       "      <td>-0.017373</td>\n",
       "      <td>-0.016705</td>\n",
       "      <td>0.001623</td>\n",
       "      <td>0.010671</td>\n",
       "      <td>-0.012396</td>\n",
       "      <td>-0.040393</td>\n",
       "      <td>...</td>\n",
       "      <td>0.141412</td>\n",
       "      <td>-0.148613</td>\n",
       "      <td>1.000000</td>\n",
       "      <td>-0.433911</td>\n",
       "      <td>-0.272845</td>\n",
       "      <td>-0.087464</td>\n",
       "      <td>-0.019776</td>\n",
       "      <td>-0.010871</td>\n",
       "      <td>-0.032937</td>\n",
       "      <td>0.036803</td>\n",
       "    </tr>\n",
       "    <tr>\n",
       "      <th>education_secondary</th>\n",
       "      <td>-0.093979</td>\n",
       "      <td>-0.069937</td>\n",
       "      <td>0.002084</td>\n",
       "      <td>-0.020893</td>\n",
       "      <td>0.022105</td>\n",
       "      <td>-0.005603</td>\n",
       "      <td>0.013220</td>\n",
       "      <td>0.101659</td>\n",
       "      <td>0.070625</td>\n",
       "      <td>-0.036388</td>\n",
       "      <td>...</td>\n",
       "      <td>-0.017724</td>\n",
       "      <td>0.005232</td>\n",
       "      <td>-0.433911</td>\n",
       "      <td>1.000000</td>\n",
       "      <td>-0.662890</td>\n",
       "      <td>-0.212498</td>\n",
       "      <td>0.010510</td>\n",
       "      <td>0.009568</td>\n",
       "      <td>-0.024728</td>\n",
       "      <td>-0.001847</td>\n",
       "    </tr>\n",
       "    <tr>\n",
       "      <th>education_tertiary</th>\n",
       "      <td>-0.081629</td>\n",
       "      <td>0.084001</td>\n",
       "      <td>0.000891</td>\n",
       "      <td>0.012866</td>\n",
       "      <td>-0.007568</td>\n",
       "      <td>0.022888</td>\n",
       "      <td>-0.015239</td>\n",
       "      <td>-0.099175</td>\n",
       "      <td>-0.045940</td>\n",
       "      <td>0.066448</td>\n",
       "      <td>...</td>\n",
       "      <td>-0.096019</td>\n",
       "      <td>0.110915</td>\n",
       "      <td>-0.272845</td>\n",
       "      <td>-0.662890</td>\n",
       "      <td>1.000000</td>\n",
       "      <td>-0.133620</td>\n",
       "      <td>0.007827</td>\n",
       "      <td>0.000657</td>\n",
       "      <td>0.047927</td>\n",
       "      <td>-0.028937</td>\n",
       "    </tr>\n",
       "    <tr>\n",
       "      <th>education_unknown</th>\n",
       "      <td>0.069665</td>\n",
       "      <td>0.011181</td>\n",
       "      <td>-0.000682</td>\n",
       "      <td>0.005704</td>\n",
       "      <td>-0.006907</td>\n",
       "      <td>-0.008257</td>\n",
       "      <td>-0.001236</td>\n",
       "      <td>-0.047595</td>\n",
       "      <td>-0.049992</td>\n",
       "      <td>0.012053</td>\n",
       "      <td>...</td>\n",
       "      <td>0.009610</td>\n",
       "      <td>0.000659</td>\n",
       "      <td>-0.087464</td>\n",
       "      <td>-0.212498</td>\n",
       "      <td>-0.133620</td>\n",
       "      <td>1.000000</td>\n",
       "      <td>-0.008713</td>\n",
       "      <td>-0.005966</td>\n",
       "      <td>0.011743</td>\n",
       "      <td>0.004600</td>\n",
       "    </tr>\n",
       "    <tr>\n",
       "      <th>poutcome_failure</th>\n",
       "      <td>-0.004927</td>\n",
       "      <td>0.011857</td>\n",
       "      <td>-0.018925</td>\n",
       "      <td>-0.088131</td>\n",
       "      <td>0.701052</td>\n",
       "      <td>0.350627</td>\n",
       "      <td>-0.026389</td>\n",
       "      <td>0.106795</td>\n",
       "      <td>-0.002186</td>\n",
       "      <td>0.009885</td>\n",
       "      <td>...</td>\n",
       "      <td>-0.004516</td>\n",
       "      <td>0.006244</td>\n",
       "      <td>-0.019776</td>\n",
       "      <td>0.010510</td>\n",
       "      <td>0.007827</td>\n",
       "      <td>-0.008713</td>\n",
       "      <td>1.000000</td>\n",
       "      <td>-0.071820</td>\n",
       "      <td>-0.064838</td>\n",
       "      <td>-0.737932</td>\n",
       "    </tr>\n",
       "    <tr>\n",
       "      <th>poutcome_other</th>\n",
       "      <td>-0.022967</td>\n",
       "      <td>0.008466</td>\n",
       "      <td>-0.001958</td>\n",
       "      <td>-0.020107</td>\n",
       "      <td>0.389791</td>\n",
       "      <td>0.306615</td>\n",
       "      <td>-0.014445</td>\n",
       "      <td>0.039710</td>\n",
       "      <td>-0.009099</td>\n",
       "      <td>0.031955</td>\n",
       "      <td>...</td>\n",
       "      <td>-0.027570</td>\n",
       "      <td>0.027208</td>\n",
       "      <td>-0.010871</td>\n",
       "      <td>0.009568</td>\n",
       "      <td>0.000657</td>\n",
       "      <td>-0.005966</td>\n",
       "      <td>-0.071820</td>\n",
       "      <td>1.000000</td>\n",
       "      <td>-0.038300</td>\n",
       "      <td>-0.435903</td>\n",
       "    </tr>\n",
       "    <tr>\n",
       "      <th>poutcome_success</th>\n",
       "      <td>0.035526</td>\n",
       "      <td>0.035240</td>\n",
       "      <td>0.042389</td>\n",
       "      <td>-0.057486</td>\n",
       "      <td>0.228539</td>\n",
       "      <td>0.201424</td>\n",
       "      <td>-0.023344</td>\n",
       "      <td>-0.091360</td>\n",
       "      <td>-0.053713</td>\n",
       "      <td>0.306788</td>\n",
       "      <td>...</td>\n",
       "      <td>-0.018484</td>\n",
       "      <td>0.026105</td>\n",
       "      <td>-0.032937</td>\n",
       "      <td>-0.024728</td>\n",
       "      <td>0.047927</td>\n",
       "      <td>0.011743</td>\n",
       "      <td>-0.064838</td>\n",
       "      <td>-0.038300</td>\n",
       "      <td>1.000000</td>\n",
       "      <td>-0.393525</td>\n",
       "    </tr>\n",
       "    <tr>\n",
       "      <th>poutcome_unknown</th>\n",
       "      <td>-0.000816</td>\n",
       "      <td>-0.030271</td>\n",
       "      <td>-0.003491</td>\n",
       "      <td>0.107965</td>\n",
       "      <td>-0.869962</td>\n",
       "      <td>-0.532763</td>\n",
       "      <td>0.039490</td>\n",
       "      <td>-0.063755</td>\n",
       "      <td>0.031406</td>\n",
       "      <td>-0.167051</td>\n",
       "      <td>...</td>\n",
       "      <td>0.026338</td>\n",
       "      <td>-0.031089</td>\n",
       "      <td>0.036803</td>\n",
       "      <td>-0.001847</td>\n",
       "      <td>-0.028937</td>\n",
       "      <td>0.004600</td>\n",
       "      <td>-0.737932</td>\n",
       "      <td>-0.435903</td>\n",
       "      <td>-0.393525</td>\n",
       "      <td>1.000000</td>\n",
       "    </tr>\n",
       "  </tbody>\n",
       "</table>\n",
       "<p>33 rows × 33 columns</p>\n",
       "</div>"
      ],
      "text/plain": [
       "                          age   balance  duration  campaign     pdays  \\\n",
       "age                  1.000000  0.097783 -0.004648  0.004760 -0.023758   \n",
       "balance              0.097783  1.000000  0.021560 -0.014578  0.003435   \n",
       "duration            -0.004648  0.021560  1.000000 -0.084570 -0.001565   \n",
       "campaign             0.004760 -0.014578 -0.084570  1.000000 -0.088628   \n",
       "pdays               -0.023758  0.003435 -0.001565 -0.088628  1.000000   \n",
       "previous             0.001288  0.016674  0.001203 -0.032855  0.454820   \n",
       "default_cat         -0.017879 -0.066745 -0.010021  0.016822 -0.029979   \n",
       "housing_cat         -0.185513 -0.068768  0.005075 -0.023599  0.124178   \n",
       "loan_cat            -0.015655 -0.084350 -0.012412  0.009980 -0.022754   \n",
       "y_cat                0.025155  0.052838  0.394521 -0.073172  0.103621   \n",
       "job_admin.          -0.055717 -0.026726 -0.015722 -0.021868  0.027497   \n",
       "job_blue-collar     -0.044002 -0.048757  0.009637  0.008986  0.020063   \n",
       "job_entrepreneur     0.021792  0.009642 -0.001327  0.002128 -0.014203   \n",
       "job_housemaid        0.086650  0.001661 -0.008046  0.003097 -0.031350   \n",
       "job_management      -0.023571  0.067797 -0.008323  0.016686 -0.007871   \n",
       "job_retired          0.447378  0.046900  0.026032 -0.030913 -0.006315   \n",
       "job_self-employed   -0.008093  0.017850  0.007383  0.005479 -0.010356   \n",
       "job_services        -0.065780 -0.038151  0.001427 -0.004671  0.005710   \n",
       "job_student         -0.197302  0.001233 -0.006504 -0.021813  0.024486   \n",
       "job_technician      -0.068632 -0.016183 -0.009176  0.020739 -0.013478   \n",
       "job_unemployed       0.000412  0.009023  0.020322 -0.018448 -0.010411   \n",
       "job_unknown          0.050200  0.010784 -0.006390  0.014091 -0.015366   \n",
       "marital_divorced     0.164674 -0.021732  0.006100 -0.015484  0.002897   \n",
       "marital_married      0.286257  0.025708 -0.022683  0.031371 -0.027600   \n",
       "marital_single      -0.427817 -0.012537  0.020328 -0.023120  0.027943   \n",
       "education_primary    0.196182 -0.015451 -0.003660  0.009616 -0.017373   \n",
       "education_secondary -0.093979 -0.069937  0.002084 -0.020893  0.022105   \n",
       "education_tertiary  -0.081629  0.084001  0.000891  0.012866 -0.007568   \n",
       "education_unknown    0.069665  0.011181 -0.000682  0.005704 -0.006907   \n",
       "poutcome_failure    -0.004927  0.011857 -0.018925 -0.088131  0.701052   \n",
       "poutcome_other      -0.022967  0.008466 -0.001958 -0.020107  0.389791   \n",
       "poutcome_success     0.035526  0.035240  0.042389 -0.057486  0.228539   \n",
       "poutcome_unknown    -0.000816 -0.030271 -0.003491  0.107965 -0.869962   \n",
       "\n",
       "                     previous  default_cat  housing_cat  loan_cat     y_cat  \\\n",
       "age                  0.001288    -0.017879    -0.185513 -0.015655  0.025155   \n",
       "balance              0.016674    -0.066745    -0.068768 -0.084350  0.052838   \n",
       "duration             0.001203    -0.010021     0.005075 -0.012412  0.394521   \n",
       "campaign            -0.032855     0.016822    -0.023599  0.009980 -0.073172   \n",
       "pdays                0.454820    -0.029979     0.124178 -0.022754  0.103621   \n",
       "previous             1.000000    -0.018329     0.037076 -0.011043  0.093236   \n",
       "default_cat         -0.018329     1.000000    -0.006025  0.077234 -0.022419   \n",
       "housing_cat          0.037076    -0.006025     1.000000  0.041323 -0.139173   \n",
       "loan_cat            -0.011043     0.077234     0.041323  1.000000 -0.068185   \n",
       "y_cat                0.093236    -0.022419    -0.139173 -0.068185  1.000000   \n",
       "job_admin.           0.014245    -0.010037     0.043046  0.030781  0.005637   \n",
       "job_blue-collar     -0.017095     0.010341     0.177475  0.018291 -0.072083   \n",
       "job_entrepreneur    -0.008181     0.026281     0.010600  0.039808 -0.019662   \n",
       "job_housemaid       -0.015204    -0.000359    -0.079380 -0.017234 -0.015195   \n",
       "job_management       0.019579    -0.002655    -0.063382 -0.038904  0.032919   \n",
       "job_retired          0.005818    -0.011290    -0.156633 -0.014861  0.079245   \n",
       "job_self-employed   -0.002371     0.004107    -0.027319 -0.007882  0.000855   \n",
       "job_services        -0.010926     0.000068     0.070435  0.035575 -0.027864   \n",
       "job_student          0.023556    -0.016222    -0.085066 -0.058503  0.076897   \n",
       "job_technician      -0.001123    -0.003089    -0.012823  0.014798 -0.008970   \n",
       "job_unemployed      -0.008504     0.006470    -0.048229 -0.035961  0.020390   \n",
       "job_unknown         -0.009068    -0.006669    -0.075023 -0.031943  0.000267   \n",
       "marital_divorced    -0.004534     0.017777     0.001778  0.016377  0.002772   \n",
       "marital_married     -0.012691    -0.014460     0.017681  0.036906 -0.060260   \n",
       "marital_single       0.017006     0.003115    -0.020475 -0.051716  0.063526   \n",
       "education_primary   -0.016705     0.001623     0.010671 -0.012396 -0.040393   \n",
       "education_secondary -0.005603     0.013220     0.101659  0.070625 -0.036388   \n",
       "education_tertiary   0.022888    -0.015239    -0.099175 -0.045940  0.066448   \n",
       "education_unknown   -0.008257    -0.001236    -0.047595 -0.049992  0.012053   \n",
       "poutcome_failure     0.350627    -0.026389     0.106795 -0.002186  0.009885   \n",
       "poutcome_other       0.306615    -0.014445     0.039710 -0.009099  0.031955   \n",
       "poutcome_success     0.201424    -0.023344    -0.091360 -0.053713  0.306788   \n",
       "poutcome_unknown    -0.532763     0.039490    -0.063755  0.031406 -0.167051   \n",
       "\n",
       "                     ...  marital_married  marital_single  education_primary  \\\n",
       "age                  ...         0.286257       -0.427817           0.196182   \n",
       "balance              ...         0.025708       -0.012537          -0.015451   \n",
       "duration             ...        -0.022683        0.020328          -0.003660   \n",
       "campaign             ...         0.031371       -0.023120           0.009616   \n",
       "pdays                ...        -0.027600        0.027943          -0.017373   \n",
       "previous             ...        -0.012691        0.017006          -0.016705   \n",
       "default_cat          ...        -0.014460        0.003115           0.001623   \n",
       "housing_cat          ...         0.017681       -0.020475           0.010671   \n",
       "loan_cat             ...         0.036906       -0.051716          -0.012396   \n",
       "y_cat                ...        -0.060260        0.063526          -0.040393   \n",
       "job_admin.           ...        -0.059572        0.040912          -0.111364   \n",
       "job_blue-collar      ...         0.122033       -0.088315           0.342688   \n",
       "job_entrepreneur     ...         0.044319       -0.050297          -0.014641   \n",
       "job_housemaid        ...         0.045816       -0.062177           0.165842   \n",
       "job_management       ...        -0.032560        0.032765          -0.172773   \n",
       "job_retired          ...         0.076288       -0.119892           0.127818   \n",
       "job_self-employed    ...         0.010472       -0.000185          -0.036715   \n",
       "job_services         ...        -0.014615        0.003885          -0.060749   \n",
       "job_student          ...        -0.161871        0.211073          -0.042472   \n",
       "job_technician       ...        -0.062950        0.061841          -0.163859   \n",
       "job_unemployed       ...        -0.014401        0.009506           0.021957   \n",
       "job_unknown          ...         0.016836       -0.008317           0.005705   \n",
       "marital_divorced     ...        -0.443648       -0.226602          -0.007157   \n",
       "marital_married      ...         1.000000       -0.772357           0.141412   \n",
       "marital_single       ...        -0.772357        1.000000          -0.148613   \n",
       "education_primary    ...         0.141412       -0.148613           1.000000   \n",
       "education_secondary  ...        -0.017724        0.005232          -0.433911   \n",
       "education_tertiary   ...        -0.096019        0.110915          -0.272845   \n",
       "education_unknown    ...         0.009610        0.000659          -0.087464   \n",
       "poutcome_failure     ...        -0.004516        0.006244          -0.019776   \n",
       "poutcome_other       ...        -0.027570        0.027208          -0.010871   \n",
       "poutcome_success     ...        -0.018484        0.026105          -0.032937   \n",
       "poutcome_unknown     ...         0.026338       -0.031089           0.036803   \n",
       "\n",
       "                     education_secondary  education_tertiary  \\\n",
       "age                            -0.093979           -0.081629   \n",
       "balance                        -0.069937            0.084001   \n",
       "duration                        0.002084            0.000891   \n",
       "campaign                       -0.020893            0.012866   \n",
       "pdays                           0.022105           -0.007568   \n",
       "previous                       -0.005603            0.022888   \n",
       "default_cat                     0.013220           -0.015239   \n",
       "housing_cat                     0.101659           -0.099175   \n",
       "loan_cat                        0.070625           -0.045940   \n",
       "y_cat                          -0.036388            0.066448   \n",
       "job_admin.                      0.217639           -0.144780   \n",
       "job_blue-collar                 0.040548           -0.320541   \n",
       "job_entrepreneur               -0.054865            0.067639   \n",
       "job_housemaid                  -0.065396           -0.057004   \n",
       "job_management                 -0.406124            0.598900   \n",
       "job_retired                    -0.036089           -0.066780   \n",
       "job_self-employed              -0.056242            0.097417   \n",
       "job_services                    0.203018           -0.171417   \n",
       "job_student                     0.008266           -0.018034   \n",
       "job_technician                  0.157443           -0.034665   \n",
       "job_unemployed                  0.015688           -0.027371   \n",
       "job_unknown                    -0.042718           -0.027900   \n",
       "marital_divorced                0.019795           -0.009259   \n",
       "marital_married                -0.017724           -0.096019   \n",
       "marital_single                  0.005232            0.110915   \n",
       "education_primary              -0.433911           -0.272845   \n",
       "education_secondary             1.000000           -0.662890   \n",
       "education_tertiary             -0.662890            1.000000   \n",
       "education_unknown              -0.212498           -0.133620   \n",
       "poutcome_failure                0.010510            0.007827   \n",
       "poutcome_other                  0.009568            0.000657   \n",
       "poutcome_success               -0.024728            0.047927   \n",
       "poutcome_unknown               -0.001847           -0.028937   \n",
       "\n",
       "                     education_unknown  poutcome_failure  poutcome_other  \\\n",
       "age                           0.069665         -0.004927       -0.022967   \n",
       "balance                       0.011181          0.011857        0.008466   \n",
       "duration                     -0.000682         -0.018925       -0.001958   \n",
       "campaign                      0.005704         -0.088131       -0.020107   \n",
       "pdays                        -0.006907          0.701052        0.389791   \n",
       "previous                     -0.008257          0.350627        0.306615   \n",
       "default_cat                  -0.001236         -0.026389       -0.014445   \n",
       "housing_cat                  -0.047595          0.106795        0.039710   \n",
       "loan_cat                     -0.049992         -0.002186       -0.009099   \n",
       "y_cat                         0.012053          0.009885        0.031955   \n",
       "job_admin.                   -0.014495          0.018431        0.010745   \n",
       "job_blue-collar               0.014715          0.002254        0.001342   \n",
       "job_entrepreneur              0.009325          0.001119       -0.013506   \n",
       "job_housemaid                -0.004048         -0.016300       -0.016769   \n",
       "job_management               -0.040137          0.003276        0.002223   \n",
       "job_retired                   0.013290         -0.005031       -0.004691   \n",
       "job_self-employed            -0.015696         -0.002390       -0.001989   \n",
       "job_services                 -0.007956         -0.001553        0.003077   \n",
       "job_student                   0.097325          0.007646        0.033633   \n",
       "job_technician               -0.020877         -0.005049       -0.003049   \n",
       "job_unemployed               -0.016334         -0.012438       -0.010725   \n",
       "job_unknown                   0.161337         -0.010034       -0.013678   \n",
       "marital_divorced             -0.015666         -0.001884        0.003887   \n",
       "marital_married               0.009610         -0.004516       -0.027570   \n",
       "marital_single                0.000659          0.006244        0.027208   \n",
       "education_primary            -0.087464         -0.019776       -0.010871   \n",
       "education_secondary          -0.212498          0.010510        0.009568   \n",
       "education_tertiary           -0.133620          0.007827        0.000657   \n",
       "education_unknown             1.000000         -0.008713       -0.005966   \n",
       "poutcome_failure             -0.008713          1.000000       -0.071820   \n",
       "poutcome_other               -0.005966         -0.071820        1.000000   \n",
       "poutcome_success              0.011743         -0.064838       -0.038300   \n",
       "poutcome_unknown              0.004600         -0.737932       -0.435903   \n",
       "\n",
       "                     poutcome_success  poutcome_unknown  \n",
       "age                          0.035526         -0.000816  \n",
       "balance                      0.035240         -0.030271  \n",
       "duration                     0.042389         -0.003491  \n",
       "campaign                    -0.057486          0.107965  \n",
       "pdays                        0.228539         -0.869962  \n",
       "previous                     0.201424         -0.532763  \n",
       "default_cat                 -0.023344          0.039490  \n",
       "housing_cat                 -0.091360         -0.063755  \n",
       "loan_cat                    -0.053713          0.031406  \n",
       "y_cat                        0.306788         -0.167051  \n",
       "job_admin.                   0.012056         -0.025940  \n",
       "job_blue-collar             -0.053074          0.022194  \n",
       "job_entrepreneur            -0.019111          0.014901  \n",
       "job_housemaid               -0.009375          0.026059  \n",
       "job_management               0.021453         -0.013755  \n",
       "job_retired                  0.055485         -0.019368  \n",
       "job_self-employed            0.001494          0.002246  \n",
       "job_services                -0.022934          0.010347  \n",
       "job_student                  0.048048         -0.045715  \n",
       "job_technician              -0.002929          0.006986  \n",
       "job_unemployed               0.015044          0.008497  \n",
       "job_unknown                  0.002126          0.014083  \n",
       "marital_divorced            -0.008490          0.003478  \n",
       "marital_married             -0.018484          0.026338  \n",
       "marital_single               0.026105         -0.031089  \n",
       "education_primary           -0.032937          0.036803  \n",
       "education_secondary         -0.024728         -0.001847  \n",
       "education_tertiary           0.047927         -0.028937  \n",
       "education_unknown            0.011743          0.004600  \n",
       "poutcome_failure            -0.064838         -0.737932  \n",
       "poutcome_other              -0.038300         -0.435903  \n",
       "poutcome_success             1.000000         -0.393525  \n",
       "poutcome_unknown            -0.393525          1.000000  \n",
       "\n",
       "[33 rows x 33 columns]"
      ]
     },
     "execution_count": 41,
     "metadata": {},
     "output_type": "execute_result"
    }
   ],
   "source": [
    "corr = data_with_dummies.corr()\n",
    "corr"
   ]
  },
  {
   "cell_type": "code",
   "execution_count": 44,
   "id": "077323e2",
   "metadata": {},
   "outputs": [
    {
     "data": {
      "text/plain": [
       "Text(0.5, 1.0, 'Heatmap of Correlation Matrix')"
      ]
     },
     "execution_count": 44,
     "metadata": {},
     "output_type": "execute_result"
    },
    {
     "data": {
      "image/png": "[encoded data removed]",
      "text/plain": [
       "<Figure size 720x720 with 2 Axes>"
      ]
     },
     "metadata": {
      "needs_background": "light"
     },
     "output_type": "display_data"
    }
   ],
   "source": [
    "plt.figure(figsize = (10, 10))\n",
    "\n",
    "cmap = sns.diverging_palette(220, 10, as_cmap = True)\n",
    "\n",
    "sns.heatmap(corr, xticklabels = corr.columns.values, yticklabels = corr.columns.values, cmap = cmap, vmax = .3, center = 0, \n",
    "            square = True, linewidths = .5, cbar_kws = {'shrink': .82})\n",
    "\n",
    "plt.title('Heatmap of Correlation Matrix')"
   ]
  },
  {
   "cell_type": "markdown",
   "id": "ed05a8f8",
   "metadata": {},
   "source": [
    "Train/test split"
   ]
  },
  {
   "cell_type": "code",
   "execution_count": 47,
   "id": "c745cf13",
   "metadata": {},
   "outputs": [],
   "source": [
    "X = data_with_dummies.drop('y_cat', 1)\n",
    "y = data_with_dummies.y_cat\n",
    "\n",
    "X_train, X_test, y_train, y_test = train_test_split(X, y, test_size = 0.2, random_state = 50)"
   ]
  },
  {
   "cell_type": "markdown",
   "id": "0b12b9fc",
   "metadata": {},
   "source": [
    "Modelling"
   ]
  },
  {
   "cell_type": "markdown",
   "id": "9db9cbb2",
   "metadata": {},
   "source": [
    "# First model"
   ]
  },
  {
   "cell_type": "code",
   "execution_count": 53,
   "id": "c67fc898",
   "metadata": {},
   "outputs": [
    {
     "data": {
      "text/plain": [
       "DecisionTreeClassifier()"
      ]
     },
     "execution_count": 53,
     "metadata": {},
     "output_type": "execute_result"
    }
   ],
   "source": [
    "dt_1 = tree.DecisionTreeClassifier()\n",
    "dt_1.fit(X_train, y_train)"
   ]
  },
  {
   "cell_type": "code",
   "execution_count": 54,
   "id": "b0dae5aa",
   "metadata": {},
   "outputs": [
    {
     "data": {
      "text/plain": [
       "1.0"
      ]
     },
     "execution_count": 54,
     "metadata": {},
     "output_type": "execute_result"
    }
   ],
   "source": [
    "dt_1.score(X_train, y_train)"
   ]
  },
  {
   "cell_type": "code",
   "execution_count": 55,
   "id": "c8628f30",
   "metadata": {},
   "outputs": [
    {
     "data": {
      "text/plain": [
       "0.857237642375318"
      ]
     },
     "execution_count": 55,
     "metadata": {},
     "output_type": "execute_result"
    }
   ],
   "source": [
    "dt_1.score(X_test, y_test)"
   ]
  },
  {
   "cell_type": "markdown",
   "id": "19e80e96",
   "metadata": {},
   "source": [
    "# Second model"
   ]
  },
  {
   "cell_type": "code",
   "execution_count": 56,
   "id": "0adbc3c4",
   "metadata": {},
   "outputs": [
    {
     "data": {
      "text/plain": [
       "DecisionTreeClassifier(max_depth=5)"
      ]
     },
     "execution_count": 56,
     "metadata": {},
     "output_type": "execute_result"
    }
   ],
   "source": [
    "dt_2 = tree.DecisionTreeClassifier(max_depth = 5)\n",
    "dt_2.fit(X_train, y_train)"
   ]
  },
  {
   "cell_type": "code",
   "execution_count": 57,
   "id": "9f99e9b9",
   "metadata": {},
   "outputs": [
    {
     "data": {
      "text/plain": [
       "0.9024552090245521"
      ]
     },
     "execution_count": 57,
     "metadata": {},
     "output_type": "execute_result"
    }
   ],
   "source": [
    "dt_2.score(X_train, y_train)"
   ]
  },
  {
   "cell_type": "code",
   "execution_count": 58,
   "id": "c50243f9",
   "metadata": {},
   "outputs": [
    {
     "data": {
      "text/plain": [
       "0.901249585314608"
      ]
     },
     "execution_count": 58,
     "metadata": {},
     "output_type": "execute_result"
    }
   ],
   "source": [
    "dt_2.score(X_test, y_test)"
   ]
  }
 ],
 "metadata": {
  "kernelspec": {
   "display_name": "Python 3",
   "language": "python",
   "name": "python3"
  },
  "language_info": {
   "codemirror_mode": {
    "name": "ipython",
    "version": 3
   },
   "file_extension": ".py",
   "mimetype": "text/x-python",
   "name": "python",
   "nbconvert_exporter": "python",
   "pygments_lexer": "ipython3",
   "version": "3.7.9"
  }
 },
 "nbformat": 4,
 "nbformat_minor": 5
}
