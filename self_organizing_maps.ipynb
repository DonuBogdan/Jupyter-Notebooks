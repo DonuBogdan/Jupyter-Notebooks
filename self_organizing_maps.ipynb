{
 "cells": [
  {
   "cell_type": "code",
   "execution_count": 1,
   "metadata": {},
   "outputs": [],
   "source": [
    "# Self Organizing Maps (Kohonen Maps)\n",
    "#  unsupervised method\n",
    "#  they are used for reducing the dimensionality\n",
    "#  the mechanism behind it is based on distances\n",
    "\n",
    "\n",
    "# K-Means Clustering\n",
    "#  unsupervised method\n",
    "#  used for clustering your data\n",
    "#  the mechanism behind it is based on distances\n",
    "\n",
    "\n",
    "# SOMs therefore are said to \"preserve the topology\" of the original data, because the distances in 2-D space \n",
    "# reflect those in the high-dimensional space. K-means also clusters similar data points together, but its final \n",
    "# \"representation\" is hard to visualise because it's not in a convenient 2-D format."
   ]
  },
  {
   "cell_type": "markdown",
   "metadata": {},
   "source": [
    "# Imports"
   ]
  },
  {
   "cell_type": "code",
   "execution_count": 2,
   "metadata": {},
   "outputs": [
    {
     "name": "stderr",
     "output_type": "stream",
     "text": [
      "Using TensorFlow backend.\n",
      "/home/andrei/.local/lib/python3.6/site-packages/tensorboard/compat/tensorflow_stub/dtypes.py:541: FutureWarning: Passing (type, 1) or '1type' as a synonym of type is deprecated; in a future version of numpy, it will be understood as (type, (1,)) / '(1,)type'.\n",
      "  _np_qint8 = np.dtype([(\"qint8\", np.int8, 1)])\n",
      "/home/andrei/.local/lib/python3.6/site-packages/tensorboard/compat/tensorflow_stub/dtypes.py:542: FutureWarning: Passing (type, 1) or '1type' as a synonym of type is deprecated; in a future version of numpy, it will be understood as (type, (1,)) / '(1,)type'.\n",
      "  _np_quint8 = np.dtype([(\"quint8\", np.uint8, 1)])\n",
      "/home/andrei/.local/lib/python3.6/site-packages/tensorboard/compat/tensorflow_stub/dtypes.py:543: FutureWarning: Passing (type, 1) or '1type' as a synonym of type is deprecated; in a future version of numpy, it will be understood as (type, (1,)) / '(1,)type'.\n",
      "  _np_qint16 = np.dtype([(\"qint16\", np.int16, 1)])\n",
      "/home/andrei/.local/lib/python3.6/site-packages/tensorboard/compat/tensorflow_stub/dtypes.py:544: FutureWarning: Passing (type, 1) or '1type' as a synonym of type is deprecated; in a future version of numpy, it will be understood as (type, (1,)) / '(1,)type'.\n",
      "  _np_quint16 = np.dtype([(\"quint16\", np.uint16, 1)])\n",
      "/home/andrei/.local/lib/python3.6/site-packages/tensorboard/compat/tensorflow_stub/dtypes.py:545: FutureWarning: Passing (type, 1) or '1type' as a synonym of type is deprecated; in a future version of numpy, it will be understood as (type, (1,)) / '(1,)type'.\n",
      "  _np_qint32 = np.dtype([(\"qint32\", np.int32, 1)])\n",
      "/home/andrei/.local/lib/python3.6/site-packages/tensorboard/compat/tensorflow_stub/dtypes.py:550: FutureWarning: Passing (type, 1) or '1type' as a synonym of type is deprecated; in a future version of numpy, it will be understood as (type, (1,)) / '(1,)type'.\n",
      "  np_resource = np.dtype([(\"resource\", np.ubyte, 1)])\n"
     ]
    }
   ],
   "source": [
    "import pandas as pd\n",
    "import math\n",
    "import datetime as dt\n",
    "import numpy as np\n",
    "\n",
    "from sklearn.preprocessing import MinMaxScaler\n",
    "from sklearn import datasets\n",
    "\n",
    "from matplotlib import patches as patches\n",
    "from matplotlib import pyplot as plt\n",
    "\n",
    "import keras\n",
    "from keras.models import Sequential \n",
    "from keras.layers import Dense, Activation, Dropout "
   ]
  },
  {
   "cell_type": "markdown",
   "metadata": {},
   "source": [
    "# Descriptive analysis"
   ]
  },
  {
   "cell_type": "markdown",
   "metadata": {},
   "source": [
    "The source of the data: https://www.kaggle.com/kyanyoga/sample-sales-data"
   ]
  },
  {
   "cell_type": "code",
   "execution_count": 3,
   "metadata": {},
   "outputs": [],
   "source": [
    "data = pd.read_csv(\"sales_data_sample.csv\", encoding = 'unicode_escape')"
   ]
  },
  {
   "cell_type": "markdown",
   "metadata": {},
   "source": [
    "Change column names:"
   ]
  },
  {
   "cell_type": "code",
   "execution_count": 4,
   "metadata": {},
   "outputs": [
    {
     "data": {
      "text/plain": [
       "Index(['ORDERNUMBER', 'QUANTITYORDERED', 'PRICEEACH', 'ORDERLINENUMBER',\n",
       "       'SALES', 'ORDERDATE', 'STATUS', 'QTR_ID', 'MONTH_ID', 'YEAR_ID',\n",
       "       'PRODUCTLINE', 'MSRP', 'PRODUCTCODE', 'CUSTOMERNAME', 'PHONE',\n",
       "       'ADDRESSLINE1', 'ADDRESSLINE2', 'CITY', 'STATE', 'POSTALCODE',\n",
       "       'COUNTRY', 'TERRITORY', 'CONTACTLASTNAME', 'CONTACTFIRSTNAME',\n",
       "       'DEALSIZE'],\n",
       "      dtype='object')"
      ]
     },
     "execution_count": 4,
     "metadata": {},
     "output_type": "execute_result"
    }
   ],
   "source": [
    "data.columns"
   ]
  },
  {
   "cell_type": "code",
   "execution_count": 5,
   "metadata": {},
   "outputs": [],
   "source": [
    "data = data.rename(columns = {'ORDERNUMBER': 'ORDER_NUMBER', \n",
    "                              'QUANTITYORDERED': 'QUANTITY_ORDERED',\n",
    "                              'PRICEEACH': 'PRICE_EACH',\n",
    "                              'ORDERLINENUMBER': 'ORDER_LINE_NUMBER',\n",
    "                              'SALES': 'TOTAL_VALUE_OF_THE_SALE',\n",
    "                              'ORDERDATE': 'ORDER_DATE',\n",
    "                              'STATUS': 'STATUS_OF_THE_SALE',\n",
    "                              'QTR_ID': 'QUARTER_ID',\n",
    "                              'MONTH_ID': 'MONTH_ID',\n",
    "                              'YEAR_ID': 'YEAR_ID',\n",
    "                              'PRODUCTLINE': 'PRODUCT_LINE',\n",
    "                              'MSRP': 'MANUFACTURER_SUGGESTED_RETAIL_PRICE',\n",
    "                              'PRODUCTCODE': 'PRODUCT_CODE',\n",
    "                              'CUSTOMERNAME': 'CUSTOMER_NAME',\n",
    "                              'PHONE': 'PHONE',\n",
    "                              'ADDRESSLINE1': 'ADDRESS_LINE_1',\n",
    "                              'ADDRESSLINE2': 'ADDRESS_LINE_2',\n",
    "                              'CITY': 'CITY',\n",
    "                              'STATE': 'STATE',\n",
    "                              'POSTALCODE': 'POSTAL_CODE',\n",
    "                              'COUNTRY': 'COUNTRY',\n",
    "                              'TERRITORY': 'TERRITORY',\n",
    "                              'CONTACTLASTNAME': 'CONTACT_LAST_NAME',\n",
    "                              'CONTACTFIRSTNAME': 'CONTACT_FIRST_NAME',\n",
    "                              'DEALSIZE': 'DEAL_SIZE'\n",
    "                             })"
   ]
  },
  {
   "cell_type": "markdown",
   "metadata": {},
   "source": [
    "Fix the bugs:\n",
    "\n",
    "- wrong values in 'PRICE_EACH' column;\n",
    "- wrong values in 'TERRITORY' column."
   ]
  },
  {
   "cell_type": "code",
   "execution_count": 6,
   "metadata": {},
   "outputs": [],
   "source": [
    "data['PRICE_EACH'] = data['TOTAL_VALUE_OF_THE_SALE'] / data['QUANTITY_ORDERED']"
   ]
  },
  {
   "cell_type": "code",
   "execution_count": 7,
   "metadata": {},
   "outputs": [
    {
     "name": "stderr",
     "output_type": "stream",
     "text": [
      "/usr/local/lib/python3.6/dist-packages/ipykernel_launcher.py:3: SettingWithCopyWarning: \n",
      "A value is trying to be set on a copy of a slice from a DataFrame\n",
      "\n",
      "See the caveats in the documentation: https://pandas.pydata.org/pandas-docs/stable/user_guide/indexing.html#returning-a-view-versus-a-copy\n",
      "  This is separate from the ipykernel package so we can avoid doing imports until\n",
      "/usr/local/lib/python3.6/dist-packages/ipykernel_launcher.py:8: SettingWithCopyWarning: \n",
      "A value is trying to be set on a copy of a slice from a DataFrame\n",
      "\n",
      "See the caveats in the documentation: https://pandas.pydata.org/pandas-docs/stable/user_guide/indexing.html#returning-a-view-versus-a-copy\n",
      "  \n"
     ]
    }
   ],
   "source": [
    "for row in range(len(data['TERRITORY'])):\n",
    "    if(data['TERRITORY'][row] == 'Japan'):\n",
    "        data['TERRITORY'][row] = 'APAC' # APAC = Asia Pacific Region\n",
    "    \n",
    "for row in range(len(data['TERRITORY'])):\n",
    "    if(type(data['TERRITORY'][row]) == float):\n",
    "        if(math.isnan(data['TERRITORY'][row])):\n",
    "            data['TERRITORY'][row] = 'NA' # NA = North America"
   ]
  },
  {
   "cell_type": "markdown",
   "metadata": {},
   "source": [
    "Check how many unique values has each column:"
   ]
  },
  {
   "cell_type": "code",
   "execution_count": 8,
   "metadata": {},
   "outputs": [
    {
     "data": {
      "text/plain": [
       "ORDER_NUMBER                            307\n",
       "QUANTITY_ORDERED                         58\n",
       "PRICE_EACH                             2157\n",
       "ORDER_LINE_NUMBER                        18\n",
       "TOTAL_VALUE_OF_THE_SALE                2763\n",
       "ORDER_DATE                              252\n",
       "STATUS_OF_THE_SALE                        6\n",
       "QUARTER_ID                                4\n",
       "MONTH_ID                                 12\n",
       "YEAR_ID                                   3\n",
       "PRODUCT_LINE                              7\n",
       "MANUFACTURER_SUGGESTED_RETAIL_PRICE      80\n",
       "PRODUCT_CODE                            109\n",
       "CUSTOMER_NAME                            92\n",
       "PHONE                                    91\n",
       "ADDRESS_LINE_1                           92\n",
       "ADDRESS_LINE_2                            9\n",
       "CITY                                     73\n",
       "STATE                                    16\n",
       "POSTAL_CODE                              73\n",
       "COUNTRY                                  19\n",
       "TERRITORY                                 3\n",
       "CONTACT_LAST_NAME                        77\n",
       "CONTACT_FIRST_NAME                       72\n",
       "DEAL_SIZE                                 3\n",
       "dtype: int64"
      ]
     },
     "execution_count": 8,
     "metadata": {},
     "output_type": "execute_result"
    }
   ],
   "source": [
    "data.nunique()"
   ]
  },
  {
   "cell_type": "code",
   "execution_count": 9,
   "metadata": {},
   "outputs": [
    {
     "name": "stdout",
     "output_type": "stream",
     "text": [
      "ORDER_LINE_NUMBER: [ 2  5  6 14  1  9  7 13 12  4 11  8  3 10 17 16 15 18]\n",
      "STATUS_OF_THE_SALE: ['Shipped' 'Disputed' 'In Process' 'Cancelled' 'On Hold' 'Resolved']\n",
      "QUARTER_ID: [1 2 3 4]\n",
      "MONTH_ID: [ 2  5  7  8 10 11 12  1  4  6  9  3]\n",
      "YEAR_ID: [2003 2004 2005]\n",
      "PRODUCT_LINE: ['Motorcycles' 'Classic Cars' 'Trucks and Buses' 'Vintage Cars' 'Planes'\n",
      " 'Ships' 'Trains']\n",
      "ADDRESS_LINE_2: [nan 'Level 3' 'Suite 101' 'Level 6' 'Suite 750' 'Level 15' '2nd Floor'\n",
      " 'Suite 400' 'Floor No. 4' 'Suite 200']\n",
      "TERRITORY: ['NA' 'EMEA' 'APAC']\n",
      "DEAL_SIZE: ['Small' 'Medium' 'Large']\n"
     ]
    }
   ],
   "source": [
    "print('ORDER_LINE_NUMBER:', data['ORDER_LINE_NUMBER'].unique())\n",
    "print('STATUS_OF_THE_SALE:', data['STATUS_OF_THE_SALE'].unique())\n",
    "print('QUARTER_ID:', data['QUARTER_ID'].unique())\n",
    "print('MONTH_ID:', data['MONTH_ID'].unique())\n",
    "print('YEAR_ID:', data['YEAR_ID'].unique())\n",
    "print('PRODUCT_LINE:', data['PRODUCT_LINE'].unique())\n",
    "print('ADDRESS_LINE_2:', data['ADDRESS_LINE_2'].unique())\n",
    "print('TERRITORY:', data['TERRITORY'].unique())\n",
    "print('DEAL_SIZE:', data['DEAL_SIZE'].unique())"
   ]
  },
  {
   "cell_type": "markdown",
   "metadata": {},
   "source": [
    "The shape of the data:\n",
    "\n",
    "- 2823 rows\n",
    "\n",
    "- 25 columns"
   ]
  },
  {
   "cell_type": "code",
   "execution_count": 10,
   "metadata": {},
   "outputs": [
    {
     "data": {
      "text/plain": [
       "(2823, 25)"
      ]
     },
     "execution_count": 10,
     "metadata": {},
     "output_type": "execute_result"
    }
   ],
   "source": [
    "data.shape"
   ]
  },
  {
   "cell_type": "markdown",
   "metadata": {},
   "source": [
    "After having a look at the first five observations, we realized that some columns have NaN values:\n",
    "\n",
    "- ADDRESS_LINE_2\n",
    "- STATE\n",
    "- POSTAL_CODE"
   ]
  },
  {
   "cell_type": "code",
   "execution_count": 11,
   "metadata": {},
   "outputs": [
    {
     "data": {
      "text/html": [
       "<div>\n",
       "<style scoped>\n",
       "    .dataframe tbody tr th:only-of-type {\n",
       "        vertical-align: middle;\n",
       "    }\n",
       "\n",
       "    .dataframe tbody tr th {\n",
       "        vertical-align: top;\n",
       "    }\n",
       "\n",
       "    .dataframe thead th {\n",
       "        text-align: right;\n",
       "    }\n",
       "</style>\n",
       "<table border=\"1\" class=\"dataframe\">\n",
       "  <thead>\n",
       "    <tr style=\"text-align: right;\">\n",
       "      <th></th>\n",
       "      <th>ORDER_NUMBER</th>\n",
       "      <th>QUANTITY_ORDERED</th>\n",
       "      <th>PRICE_EACH</th>\n",
       "      <th>ORDER_LINE_NUMBER</th>\n",
       "      <th>TOTAL_VALUE_OF_THE_SALE</th>\n",
       "      <th>ORDER_DATE</th>\n",
       "      <th>STATUS_OF_THE_SALE</th>\n",
       "      <th>QUARTER_ID</th>\n",
       "      <th>MONTH_ID</th>\n",
       "      <th>YEAR_ID</th>\n",
       "      <th>...</th>\n",
       "      <th>ADDRESS_LINE_1</th>\n",
       "      <th>ADDRESS_LINE_2</th>\n",
       "      <th>CITY</th>\n",
       "      <th>STATE</th>\n",
       "      <th>POSTAL_CODE</th>\n",
       "      <th>COUNTRY</th>\n",
       "      <th>TERRITORY</th>\n",
       "      <th>CONTACT_LAST_NAME</th>\n",
       "      <th>CONTACT_FIRST_NAME</th>\n",
       "      <th>DEAL_SIZE</th>\n",
       "    </tr>\n",
       "  </thead>\n",
       "  <tbody>\n",
       "    <tr>\n",
       "      <th>0</th>\n",
       "      <td>10107</td>\n",
       "      <td>30</td>\n",
       "      <td>95.70</td>\n",
       "      <td>2</td>\n",
       "      <td>2871.00</td>\n",
       "      <td>2/24/2003 0:00</td>\n",
       "      <td>Shipped</td>\n",
       "      <td>1</td>\n",
       "      <td>2</td>\n",
       "      <td>2003</td>\n",
       "      <td>...</td>\n",
       "      <td>897 Long Airport Avenue</td>\n",
       "      <td>NaN</td>\n",
       "      <td>NYC</td>\n",
       "      <td>NY</td>\n",
       "      <td>10022</td>\n",
       "      <td>USA</td>\n",
       "      <td>NA</td>\n",
       "      <td>Yu</td>\n",
       "      <td>Kwai</td>\n",
       "      <td>Small</td>\n",
       "    </tr>\n",
       "    <tr>\n",
       "      <th>1</th>\n",
       "      <td>10121</td>\n",
       "      <td>34</td>\n",
       "      <td>81.35</td>\n",
       "      <td>5</td>\n",
       "      <td>2765.90</td>\n",
       "      <td>5/7/2003 0:00</td>\n",
       "      <td>Shipped</td>\n",
       "      <td>2</td>\n",
       "      <td>5</td>\n",
       "      <td>2003</td>\n",
       "      <td>...</td>\n",
       "      <td>59 rue de l'Abbaye</td>\n",
       "      <td>NaN</td>\n",
       "      <td>Reims</td>\n",
       "      <td>NaN</td>\n",
       "      <td>51100</td>\n",
       "      <td>France</td>\n",
       "      <td>EMEA</td>\n",
       "      <td>Henriot</td>\n",
       "      <td>Paul</td>\n",
       "      <td>Small</td>\n",
       "    </tr>\n",
       "    <tr>\n",
       "      <th>2</th>\n",
       "      <td>10134</td>\n",
       "      <td>41</td>\n",
       "      <td>94.74</td>\n",
       "      <td>2</td>\n",
       "      <td>3884.34</td>\n",
       "      <td>7/1/2003 0:00</td>\n",
       "      <td>Shipped</td>\n",
       "      <td>3</td>\n",
       "      <td>7</td>\n",
       "      <td>2003</td>\n",
       "      <td>...</td>\n",
       "      <td>27 rue du Colonel Pierre Avia</td>\n",
       "      <td>NaN</td>\n",
       "      <td>Paris</td>\n",
       "      <td>NaN</td>\n",
       "      <td>75508</td>\n",
       "      <td>France</td>\n",
       "      <td>EMEA</td>\n",
       "      <td>Da Cunha</td>\n",
       "      <td>Daniel</td>\n",
       "      <td>Medium</td>\n",
       "    </tr>\n",
       "    <tr>\n",
       "      <th>3</th>\n",
       "      <td>10145</td>\n",
       "      <td>45</td>\n",
       "      <td>83.26</td>\n",
       "      <td>6</td>\n",
       "      <td>3746.70</td>\n",
       "      <td>8/25/2003 0:00</td>\n",
       "      <td>Shipped</td>\n",
       "      <td>3</td>\n",
       "      <td>8</td>\n",
       "      <td>2003</td>\n",
       "      <td>...</td>\n",
       "      <td>78934 Hillside Dr.</td>\n",
       "      <td>NaN</td>\n",
       "      <td>Pasadena</td>\n",
       "      <td>CA</td>\n",
       "      <td>90003</td>\n",
       "      <td>USA</td>\n",
       "      <td>NA</td>\n",
       "      <td>Young</td>\n",
       "      <td>Julie</td>\n",
       "      <td>Medium</td>\n",
       "    </tr>\n",
       "    <tr>\n",
       "      <th>4</th>\n",
       "      <td>10159</td>\n",
       "      <td>49</td>\n",
       "      <td>106.23</td>\n",
       "      <td>14</td>\n",
       "      <td>5205.27</td>\n",
       "      <td>10/10/2003 0:00</td>\n",
       "      <td>Shipped</td>\n",
       "      <td>4</td>\n",
       "      <td>10</td>\n",
       "      <td>2003</td>\n",
       "      <td>...</td>\n",
       "      <td>7734 Strong St.</td>\n",
       "      <td>NaN</td>\n",
       "      <td>San Francisco</td>\n",
       "      <td>CA</td>\n",
       "      <td>NaN</td>\n",
       "      <td>USA</td>\n",
       "      <td>NA</td>\n",
       "      <td>Brown</td>\n",
       "      <td>Julie</td>\n",
       "      <td>Medium</td>\n",
       "    </tr>\n",
       "  </tbody>\n",
       "</table>\n",
       "<p>5 rows × 25 columns</p>\n",
       "</div>"
      ],
      "text/plain": [
       "   ORDER_NUMBER  QUANTITY_ORDERED  PRICE_EACH  ORDER_LINE_NUMBER  \\\n",
       "0         10107                30       95.70                  2   \n",
       "1         10121                34       81.35                  5   \n",
       "2         10134                41       94.74                  2   \n",
       "3         10145                45       83.26                  6   \n",
       "4         10159                49      106.23                 14   \n",
       "\n",
       "   TOTAL_VALUE_OF_THE_SALE       ORDER_DATE STATUS_OF_THE_SALE  QUARTER_ID  \\\n",
       "0                  2871.00   2/24/2003 0:00            Shipped           1   \n",
       "1                  2765.90    5/7/2003 0:00            Shipped           2   \n",
       "2                  3884.34    7/1/2003 0:00            Shipped           3   \n",
       "3                  3746.70   8/25/2003 0:00            Shipped           3   \n",
       "4                  5205.27  10/10/2003 0:00            Shipped           4   \n",
       "\n",
       "   MONTH_ID  YEAR_ID  ...                 ADDRESS_LINE_1  ADDRESS_LINE_2  \\\n",
       "0         2     2003  ...        897 Long Airport Avenue             NaN   \n",
       "1         5     2003  ...             59 rue de l'Abbaye             NaN   \n",
       "2         7     2003  ...  27 rue du Colonel Pierre Avia             NaN   \n",
       "3         8     2003  ...             78934 Hillside Dr.             NaN   \n",
       "4        10     2003  ...                7734 Strong St.             NaN   \n",
       "\n",
       "            CITY STATE POSTAL_CODE COUNTRY TERRITORY CONTACT_LAST_NAME  \\\n",
       "0            NYC    NY       10022     USA        NA                Yu   \n",
       "1          Reims   NaN       51100  France      EMEA           Henriot   \n",
       "2          Paris   NaN       75508  France      EMEA          Da Cunha   \n",
       "3       Pasadena    CA       90003     USA        NA             Young   \n",
       "4  San Francisco    CA         NaN     USA        NA             Brown   \n",
       "\n",
       "  CONTACT_FIRST_NAME DEAL_SIZE  \n",
       "0               Kwai     Small  \n",
       "1               Paul     Small  \n",
       "2             Daniel    Medium  \n",
       "3              Julie    Medium  \n",
       "4              Julie    Medium  \n",
       "\n",
       "[5 rows x 25 columns]"
      ]
     },
     "execution_count": 11,
     "metadata": {},
     "output_type": "execute_result"
    }
   ],
   "source": [
    "data.head()"
   ]
  },
  {
   "cell_type": "markdown",
   "metadata": {},
   "source": [
    "Same situation as above."
   ]
  },
  {
   "cell_type": "code",
   "execution_count": 12,
   "metadata": {},
   "outputs": [
    {
     "data": {
      "text/html": [
       "<div>\n",
       "<style scoped>\n",
       "    .dataframe tbody tr th:only-of-type {\n",
       "        vertical-align: middle;\n",
       "    }\n",
       "\n",
       "    .dataframe tbody tr th {\n",
       "        vertical-align: top;\n",
       "    }\n",
       "\n",
       "    .dataframe thead th {\n",
       "        text-align: right;\n",
       "    }\n",
       "</style>\n",
       "<table border=\"1\" class=\"dataframe\">\n",
       "  <thead>\n",
       "    <tr style=\"text-align: right;\">\n",
       "      <th></th>\n",
       "      <th>ORDER_NUMBER</th>\n",
       "      <th>QUANTITY_ORDERED</th>\n",
       "      <th>PRICE_EACH</th>\n",
       "      <th>ORDER_LINE_NUMBER</th>\n",
       "      <th>TOTAL_VALUE_OF_THE_SALE</th>\n",
       "      <th>ORDER_DATE</th>\n",
       "      <th>STATUS_OF_THE_SALE</th>\n",
       "      <th>QUARTER_ID</th>\n",
       "      <th>MONTH_ID</th>\n",
       "      <th>YEAR_ID</th>\n",
       "      <th>...</th>\n",
       "      <th>ADDRESS_LINE_1</th>\n",
       "      <th>ADDRESS_LINE_2</th>\n",
       "      <th>CITY</th>\n",
       "      <th>STATE</th>\n",
       "      <th>POSTAL_CODE</th>\n",
       "      <th>COUNTRY</th>\n",
       "      <th>TERRITORY</th>\n",
       "      <th>CONTACT_LAST_NAME</th>\n",
       "      <th>CONTACT_FIRST_NAME</th>\n",
       "      <th>DEAL_SIZE</th>\n",
       "    </tr>\n",
       "  </thead>\n",
       "  <tbody>\n",
       "    <tr>\n",
       "      <th>2818</th>\n",
       "      <td>10350</td>\n",
       "      <td>20</td>\n",
       "      <td>112.22</td>\n",
       "      <td>15</td>\n",
       "      <td>2244.40</td>\n",
       "      <td>12/2/2004 0:00</td>\n",
       "      <td>Shipped</td>\n",
       "      <td>4</td>\n",
       "      <td>12</td>\n",
       "      <td>2004</td>\n",
       "      <td>...</td>\n",
       "      <td>C/ Moralzarzal, 86</td>\n",
       "      <td>NaN</td>\n",
       "      <td>Madrid</td>\n",
       "      <td>NaN</td>\n",
       "      <td>28034</td>\n",
       "      <td>Spain</td>\n",
       "      <td>EMEA</td>\n",
       "      <td>Freyre</td>\n",
       "      <td>Diego</td>\n",
       "      <td>Small</td>\n",
       "    </tr>\n",
       "    <tr>\n",
       "      <th>2819</th>\n",
       "      <td>10373</td>\n",
       "      <td>29</td>\n",
       "      <td>137.19</td>\n",
       "      <td>1</td>\n",
       "      <td>3978.51</td>\n",
       "      <td>1/31/2005 0:00</td>\n",
       "      <td>Shipped</td>\n",
       "      <td>1</td>\n",
       "      <td>1</td>\n",
       "      <td>2005</td>\n",
       "      <td>...</td>\n",
       "      <td>Torikatu 38</td>\n",
       "      <td>NaN</td>\n",
       "      <td>Oulu</td>\n",
       "      <td>NaN</td>\n",
       "      <td>90110</td>\n",
       "      <td>Finland</td>\n",
       "      <td>EMEA</td>\n",
       "      <td>Koskitalo</td>\n",
       "      <td>Pirkko</td>\n",
       "      <td>Medium</td>\n",
       "    </tr>\n",
       "    <tr>\n",
       "      <th>2820</th>\n",
       "      <td>10386</td>\n",
       "      <td>43</td>\n",
       "      <td>125.99</td>\n",
       "      <td>4</td>\n",
       "      <td>5417.57</td>\n",
       "      <td>3/1/2005 0:00</td>\n",
       "      <td>Resolved</td>\n",
       "      <td>1</td>\n",
       "      <td>3</td>\n",
       "      <td>2005</td>\n",
       "      <td>...</td>\n",
       "      <td>C/ Moralzarzal, 86</td>\n",
       "      <td>NaN</td>\n",
       "      <td>Madrid</td>\n",
       "      <td>NaN</td>\n",
       "      <td>28034</td>\n",
       "      <td>Spain</td>\n",
       "      <td>EMEA</td>\n",
       "      <td>Freyre</td>\n",
       "      <td>Diego</td>\n",
       "      <td>Medium</td>\n",
       "    </tr>\n",
       "    <tr>\n",
       "      <th>2821</th>\n",
       "      <td>10397</td>\n",
       "      <td>34</td>\n",
       "      <td>62.24</td>\n",
       "      <td>1</td>\n",
       "      <td>2116.16</td>\n",
       "      <td>3/28/2005 0:00</td>\n",
       "      <td>Shipped</td>\n",
       "      <td>1</td>\n",
       "      <td>3</td>\n",
       "      <td>2005</td>\n",
       "      <td>...</td>\n",
       "      <td>1 rue Alsace-Lorraine</td>\n",
       "      <td>NaN</td>\n",
       "      <td>Toulouse</td>\n",
       "      <td>NaN</td>\n",
       "      <td>31000</td>\n",
       "      <td>France</td>\n",
       "      <td>EMEA</td>\n",
       "      <td>Roulet</td>\n",
       "      <td>Annette</td>\n",
       "      <td>Small</td>\n",
       "    </tr>\n",
       "    <tr>\n",
       "      <th>2822</th>\n",
       "      <td>10414</td>\n",
       "      <td>47</td>\n",
       "      <td>65.52</td>\n",
       "      <td>9</td>\n",
       "      <td>3079.44</td>\n",
       "      <td>5/6/2005 0:00</td>\n",
       "      <td>On Hold</td>\n",
       "      <td>2</td>\n",
       "      <td>5</td>\n",
       "      <td>2005</td>\n",
       "      <td>...</td>\n",
       "      <td>8616 Spinnaker Dr.</td>\n",
       "      <td>NaN</td>\n",
       "      <td>Boston</td>\n",
       "      <td>MA</td>\n",
       "      <td>51003</td>\n",
       "      <td>USA</td>\n",
       "      <td>NA</td>\n",
       "      <td>Yoshido</td>\n",
       "      <td>Juri</td>\n",
       "      <td>Medium</td>\n",
       "    </tr>\n",
       "  </tbody>\n",
       "</table>\n",
       "<p>5 rows × 25 columns</p>\n",
       "</div>"
      ],
      "text/plain": [
       "      ORDER_NUMBER  QUANTITY_ORDERED  PRICE_EACH  ORDER_LINE_NUMBER  \\\n",
       "2818         10350                20      112.22                 15   \n",
       "2819         10373                29      137.19                  1   \n",
       "2820         10386                43      125.99                  4   \n",
       "2821         10397                34       62.24                  1   \n",
       "2822         10414                47       65.52                  9   \n",
       "\n",
       "      TOTAL_VALUE_OF_THE_SALE      ORDER_DATE STATUS_OF_THE_SALE  QUARTER_ID  \\\n",
       "2818                  2244.40  12/2/2004 0:00            Shipped           4   \n",
       "2819                  3978.51  1/31/2005 0:00            Shipped           1   \n",
       "2820                  5417.57   3/1/2005 0:00           Resolved           1   \n",
       "2821                  2116.16  3/28/2005 0:00            Shipped           1   \n",
       "2822                  3079.44   5/6/2005 0:00            On Hold           2   \n",
       "\n",
       "      MONTH_ID  YEAR_ID  ...         ADDRESS_LINE_1  ADDRESS_LINE_2      CITY  \\\n",
       "2818        12     2004  ...     C/ Moralzarzal, 86             NaN    Madrid   \n",
       "2819         1     2005  ...            Torikatu 38             NaN      Oulu   \n",
       "2820         3     2005  ...     C/ Moralzarzal, 86             NaN    Madrid   \n",
       "2821         3     2005  ...  1 rue Alsace-Lorraine             NaN  Toulouse   \n",
       "2822         5     2005  ...     8616 Spinnaker Dr.             NaN    Boston   \n",
       "\n",
       "     STATE POSTAL_CODE  COUNTRY TERRITORY CONTACT_LAST_NAME  \\\n",
       "2818   NaN       28034    Spain      EMEA            Freyre   \n",
       "2819   NaN       90110  Finland      EMEA         Koskitalo   \n",
       "2820   NaN       28034    Spain      EMEA            Freyre   \n",
       "2821   NaN       31000   France      EMEA            Roulet   \n",
       "2822    MA       51003      USA        NA           Yoshido   \n",
       "\n",
       "     CONTACT_FIRST_NAME DEAL_SIZE  \n",
       "2818              Diego     Small  \n",
       "2819             Pirkko    Medium  \n",
       "2820              Diego    Medium  \n",
       "2821            Annette     Small  \n",
       "2822               Juri    Medium  \n",
       "\n",
       "[5 rows x 25 columns]"
      ]
     },
     "execution_count": 12,
     "metadata": {},
     "output_type": "execute_result"
    }
   ],
   "source": [
    "data.tail()"
   ]
  },
  {
   "cell_type": "markdown",
   "metadata": {},
   "source": [
    "Data information:"
   ]
  },
  {
   "cell_type": "code",
   "execution_count": 13,
   "metadata": {},
   "outputs": [
    {
     "name": "stdout",
     "output_type": "stream",
     "text": [
      "<class 'pandas.core.frame.DataFrame'>\n",
      "RangeIndex: 2823 entries, 0 to 2822\n",
      "Data columns (total 25 columns):\n",
      " #   Column                               Non-Null Count  Dtype  \n",
      "---  ------                               --------------  -----  \n",
      " 0   ORDER_NUMBER                         2823 non-null   int64  \n",
      " 1   QUANTITY_ORDERED                     2823 non-null   int64  \n",
      " 2   PRICE_EACH                           2823 non-null   float64\n",
      " 3   ORDER_LINE_NUMBER                    2823 non-null   int64  \n",
      " 4   TOTAL_VALUE_OF_THE_SALE              2823 non-null   float64\n",
      " 5   ORDER_DATE                           2823 non-null   object \n",
      " 6   STATUS_OF_THE_SALE                   2823 non-null   object \n",
      " 7   QUARTER_ID                           2823 non-null   int64  \n",
      " 8   MONTH_ID                             2823 non-null   int64  \n",
      " 9   YEAR_ID                              2823 non-null   int64  \n",
      " 10  PRODUCT_LINE                         2823 non-null   object \n",
      " 11  MANUFACTURER_SUGGESTED_RETAIL_PRICE  2823 non-null   int64  \n",
      " 12  PRODUCT_CODE                         2823 non-null   object \n",
      " 13  CUSTOMER_NAME                        2823 non-null   object \n",
      " 14  PHONE                                2823 non-null   object \n",
      " 15  ADDRESS_LINE_1                       2823 non-null   object \n",
      " 16  ADDRESS_LINE_2                       302 non-null    object \n",
      " 17  CITY                                 2823 non-null   object \n",
      " 18  STATE                                1337 non-null   object \n",
      " 19  POSTAL_CODE                          2747 non-null   object \n",
      " 20  COUNTRY                              2823 non-null   object \n",
      " 21  TERRITORY                            2823 non-null   object \n",
      " 22  CONTACT_LAST_NAME                    2823 non-null   object \n",
      " 23  CONTACT_FIRST_NAME                   2823 non-null   object \n",
      " 24  DEAL_SIZE                            2823 non-null   object \n",
      "dtypes: float64(2), int64(7), object(16)\n",
      "memory usage: 551.5+ KB\n"
     ]
    }
   ],
   "source": [
    "data.info()"
   ]
  },
  {
   "cell_type": "markdown",
   "metadata": {},
   "source": [
    "Decisions taken after understanding the data:\n",
    "\n",
    "- change the data type for column 'ORDER_DATE';\n",
    "- we can remove 'CONTACT_FIRST_NAME' and 'CONTACT_LAST_NAME' since we have 'CUSTOMER_NAME' => we can identify the company without having the contact first name or the contact last name;\n",
    "- some variables are not significant for our analysis: 'PHONE', 'ADDRESS_LINE_1', 'ADDRESS_LINE_2', 'POSTAL_CODE' => we can remove these variables."
   ]
  },
  {
   "cell_type": "code",
   "execution_count": 14,
   "metadata": {},
   "outputs": [
    {
     "data": {
      "text/plain": [
       "'2/24/2003 0:00'"
      ]
     },
     "execution_count": 14,
     "metadata": {},
     "output_type": "execute_result"
    }
   ],
   "source": [
    "data['ORDER_DATE'][0]"
   ]
  },
  {
   "cell_type": "code",
   "execution_count": 15,
   "metadata": {},
   "outputs": [],
   "source": [
    "data['ORDER_DATE'] = pd.to_datetime(data['ORDER_DATE'])"
   ]
  },
  {
   "cell_type": "code",
   "execution_count": 16,
   "metadata": {},
   "outputs": [
    {
     "data": {
      "text/plain": [
       "Timestamp('2003-02-24 00:00:00')"
      ]
     },
     "execution_count": 16,
     "metadata": {},
     "output_type": "execute_result"
    }
   ],
   "source": [
    "data['ORDER_DATE'][0]"
   ]
  },
  {
   "cell_type": "code",
   "execution_count": 17,
   "metadata": {},
   "outputs": [],
   "source": [
    "data['ORDER_DATE'] = [d.date() for d in data['ORDER_DATE']]"
   ]
  },
  {
   "cell_type": "code",
   "execution_count": 18,
   "metadata": {},
   "outputs": [
    {
     "data": {
      "text/plain": [
       "datetime.date(2003, 2, 24)"
      ]
     },
     "execution_count": 18,
     "metadata": {},
     "output_type": "execute_result"
    }
   ],
   "source": [
    "data['ORDER_DATE'][0]"
   ]
  },
  {
   "cell_type": "code",
   "execution_count": 19,
   "metadata": {},
   "outputs": [],
   "source": [
    "columns_to_drop = ['CONTACT_FIRST_NAME', 'CONTACT_LAST_NAME', 'PHONE','ADDRESS_LINE_1','ADDRESS_LINE_2','POSTAL_CODE']\n",
    "data = data.drop(columns_to_drop, axis = 1)"
   ]
  },
  {
   "cell_type": "code",
   "execution_count": 20,
   "metadata": {},
   "outputs": [
    {
     "name": "stdout",
     "output_type": "stream",
     "text": [
      "<class 'pandas.core.frame.DataFrame'>\n",
      "RangeIndex: 2823 entries, 0 to 2822\n",
      "Data columns (total 19 columns):\n",
      " #   Column                               Non-Null Count  Dtype  \n",
      "---  ------                               --------------  -----  \n",
      " 0   ORDER_NUMBER                         2823 non-null   int64  \n",
      " 1   QUANTITY_ORDERED                     2823 non-null   int64  \n",
      " 2   PRICE_EACH                           2823 non-null   float64\n",
      " 3   ORDER_LINE_NUMBER                    2823 non-null   int64  \n",
      " 4   TOTAL_VALUE_OF_THE_SALE              2823 non-null   float64\n",
      " 5   ORDER_DATE                           2823 non-null   object \n",
      " 6   STATUS_OF_THE_SALE                   2823 non-null   object \n",
      " 7   QUARTER_ID                           2823 non-null   int64  \n",
      " 8   MONTH_ID                             2823 non-null   int64  \n",
      " 9   YEAR_ID                              2823 non-null   int64  \n",
      " 10  PRODUCT_LINE                         2823 non-null   object \n",
      " 11  MANUFACTURER_SUGGESTED_RETAIL_PRICE  2823 non-null   int64  \n",
      " 12  PRODUCT_CODE                         2823 non-null   object \n",
      " 13  CUSTOMER_NAME                        2823 non-null   object \n",
      " 14  CITY                                 2823 non-null   object \n",
      " 15  STATE                                1337 non-null   object \n",
      " 16  COUNTRY                              2823 non-null   object \n",
      " 17  TERRITORY                            2823 non-null   object \n",
      " 18  DEAL_SIZE                            2823 non-null   object \n",
      "dtypes: float64(2), int64(7), object(10)\n",
      "memory usage: 419.2+ KB\n"
     ]
    }
   ],
   "source": [
    "data.info()"
   ]
  },
  {
   "cell_type": "markdown",
   "metadata": {},
   "source": [
    "Checking for null values:"
   ]
  },
  {
   "cell_type": "code",
   "execution_count": 21,
   "metadata": {},
   "outputs": [
    {
     "data": {
      "text/plain": [
       "ORDER_NUMBER                              0\n",
       "QUANTITY_ORDERED                          0\n",
       "PRICE_EACH                                0\n",
       "ORDER_LINE_NUMBER                         0\n",
       "TOTAL_VALUE_OF_THE_SALE                   0\n",
       "ORDER_DATE                                0\n",
       "STATUS_OF_THE_SALE                        0\n",
       "QUARTER_ID                                0\n",
       "MONTH_ID                                  0\n",
       "YEAR_ID                                   0\n",
       "PRODUCT_LINE                              0\n",
       "MANUFACTURER_SUGGESTED_RETAIL_PRICE       0\n",
       "PRODUCT_CODE                              0\n",
       "CUSTOMER_NAME                             0\n",
       "CITY                                      0\n",
       "STATE                                  1486\n",
       "COUNTRY                                   0\n",
       "TERRITORY                                 0\n",
       "DEAL_SIZE                                 0\n",
       "dtype: int64"
      ]
     },
     "execution_count": 21,
     "metadata": {},
     "output_type": "execute_result"
    }
   ],
   "source": [
    "data.isnull().sum()"
   ]
  },
  {
   "cell_type": "markdown",
   "metadata": {},
   "source": [
    "Describe the numeric columns:"
   ]
  },
  {
   "cell_type": "code",
   "execution_count": 22,
   "metadata": {},
   "outputs": [],
   "source": [
    "numeric_columns = ['QUANTITY_ORDERED', 'PRICE_EACH', 'TOTAL_VALUE_OF_THE_SALE', 'MANUFACTURER_SUGGESTED_RETAIL_PRICE']"
   ]
  },
  {
   "cell_type": "code",
   "execution_count": 23,
   "metadata": {},
   "outputs": [
    {
     "data": {
      "text/html": [
       "<div>\n",
       "<style scoped>\n",
       "    .dataframe tbody tr th:only-of-type {\n",
       "        vertical-align: middle;\n",
       "    }\n",
       "\n",
       "    .dataframe tbody tr th {\n",
       "        vertical-align: top;\n",
       "    }\n",
       "\n",
       "    .dataframe thead th {\n",
       "        text-align: right;\n",
       "    }\n",
       "</style>\n",
       "<table border=\"1\" class=\"dataframe\">\n",
       "  <thead>\n",
       "    <tr style=\"text-align: right;\">\n",
       "      <th></th>\n",
       "      <th>QUANTITY_ORDERED</th>\n",
       "      <th>PRICE_EACH</th>\n",
       "      <th>TOTAL_VALUE_OF_THE_SALE</th>\n",
       "      <th>MANUFACTURER_SUGGESTED_RETAIL_PRICE</th>\n",
       "    </tr>\n",
       "  </thead>\n",
       "  <tbody>\n",
       "    <tr>\n",
       "      <th>count</th>\n",
       "      <td>2823.000000</td>\n",
       "      <td>2823.000000</td>\n",
       "      <td>2823.000000</td>\n",
       "      <td>2823.000000</td>\n",
       "    </tr>\n",
       "    <tr>\n",
       "      <th>mean</th>\n",
       "      <td>35.092809</td>\n",
       "      <td>101.159440</td>\n",
       "      <td>3553.889072</td>\n",
       "      <td>100.715551</td>\n",
       "    </tr>\n",
       "    <tr>\n",
       "      <th>std</th>\n",
       "      <td>9.741443</td>\n",
       "      <td>42.155561</td>\n",
       "      <td>1841.865106</td>\n",
       "      <td>40.187912</td>\n",
       "    </tr>\n",
       "    <tr>\n",
       "      <th>min</th>\n",
       "      <td>6.000000</td>\n",
       "      <td>26.880000</td>\n",
       "      <td>482.130000</td>\n",
       "      <td>33.000000</td>\n",
       "    </tr>\n",
       "    <tr>\n",
       "      <th>25%</th>\n",
       "      <td>27.000000</td>\n",
       "      <td>68.860000</td>\n",
       "      <td>2203.430000</td>\n",
       "      <td>68.000000</td>\n",
       "    </tr>\n",
       "    <tr>\n",
       "      <th>50%</th>\n",
       "      <td>35.000000</td>\n",
       "      <td>95.700000</td>\n",
       "      <td>3184.800000</td>\n",
       "      <td>99.000000</td>\n",
       "    </tr>\n",
       "    <tr>\n",
       "      <th>75%</th>\n",
       "      <td>43.000000</td>\n",
       "      <td>127.100000</td>\n",
       "      <td>4508.000000</td>\n",
       "      <td>124.000000</td>\n",
       "    </tr>\n",
       "    <tr>\n",
       "      <th>max</th>\n",
       "      <td>97.000000</td>\n",
       "      <td>252.870000</td>\n",
       "      <td>14082.800000</td>\n",
       "      <td>214.000000</td>\n",
       "    </tr>\n",
       "  </tbody>\n",
       "</table>\n",
       "</div>"
      ],
      "text/plain": [
       "       QUANTITY_ORDERED   PRICE_EACH  TOTAL_VALUE_OF_THE_SALE  \\\n",
       "count       2823.000000  2823.000000              2823.000000   \n",
       "mean          35.092809   101.159440              3553.889072   \n",
       "std            9.741443    42.155561              1841.865106   \n",
       "min            6.000000    26.880000               482.130000   \n",
       "25%           27.000000    68.860000              2203.430000   \n",
       "50%           35.000000    95.700000              3184.800000   \n",
       "75%           43.000000   127.100000              4508.000000   \n",
       "max           97.000000   252.870000             14082.800000   \n",
       "\n",
       "       MANUFACTURER_SUGGESTED_RETAIL_PRICE  \n",
       "count                          2823.000000  \n",
       "mean                            100.715551  \n",
       "std                              40.187912  \n",
       "min                              33.000000  \n",
       "25%                              68.000000  \n",
       "50%                              99.000000  \n",
       "75%                             124.000000  \n",
       "max                             214.000000  "
      ]
     },
     "execution_count": 23,
     "metadata": {},
     "output_type": "execute_result"
    }
   ],
   "source": [
    "data[numeric_columns].describe()"
   ]
  },
  {
   "cell_type": "markdown",
   "metadata": {},
   "source": [
    "Boxplots:"
   ]
  },
  {
   "cell_type": "code",
   "execution_count": 24,
   "metadata": {},
   "outputs": [
    {
     "data": {
      "image/png": "[encoded data removed]",
      "text/plain": [
       "<Figure size 1080x720 with 1 Axes>"
      ]
     },
     "metadata": {
      "needs_background": "light"
     },
     "output_type": "display_data"
    }
   ],
   "source": [
    "boxplot_1 = data.boxplot(column = ['QUANTITY_ORDERED', 'PRICE_EACH', 'MANUFACTURER_SUGGESTED_RETAIL_PRICE'], figsize=(15, 10), grid = False, fontsize = 15)"
   ]
  },
  {
   "cell_type": "code",
   "execution_count": 25,
   "metadata": {},
   "outputs": [
    {
     "data": {
      "image/png": "[encoded data removed]",
      "text/plain": [
       "<Figure size 1080x720 with 1 Axes>"
      ]
     },
     "metadata": {
      "needs_background": "light"
     },
     "output_type": "display_data"
    }
   ],
   "source": [
    "boxplot_2 = data.boxplot(column = 'TOTAL_VALUE_OF_THE_SALE', figsize=(15, 10), grid = False, fontsize = 15)"
   ]
  },
  {
   "cell_type": "code",
   "execution_count": 26,
   "metadata": {},
   "outputs": [
    {
     "name": "stdout",
     "output_type": "stream",
     "text": [
      "The number of values greater than 8500: 46\n"
     ]
    }
   ],
   "source": [
    "indexes_to_drop = []\n",
    "\n",
    "for index in range(len(data['TOTAL_VALUE_OF_THE_SALE'])):\n",
    "    if(data['TOTAL_VALUE_OF_THE_SALE'][index] > 8500):\n",
    "        indexes_to_drop.append(index)\n",
    "        \n",
    "print('The number of values greater than 8500:', len(indexes_to_drop))"
   ]
  },
  {
   "cell_type": "code",
   "execution_count": 27,
   "metadata": {},
   "outputs": [],
   "source": [
    "data = data.drop(indexes_to_drop, axis = 0)\n",
    "data = data.reset_index(drop = True)"
   ]
  },
  {
   "cell_type": "code",
   "execution_count": 28,
   "metadata": {},
   "outputs": [
    {
     "data": {
      "image/png": "[encoded data removed]",
      "text/plain": [
       "<Figure size 1080x720 with 1 Axes>"
      ]
     },
     "metadata": {
      "needs_background": "light"
     },
     "output_type": "display_data"
    }
   ],
   "source": [
    "boxplot_3 = data.boxplot(column = ['QUANTITY_ORDERED', 'PRICE_EACH', 'MANUFACTURER_SUGGESTED_RETAIL_PRICE'], figsize=(15, 10), grid = False, fontsize = 15)"
   ]
  },
  {
   "cell_type": "code",
   "execution_count": 29,
   "metadata": {},
   "outputs": [
    {
     "data": {
      "image/png": "[encoded data removed]",
      "text/plain": [
       "<Figure size 1080x720 with 1 Axes>"
      ]
     },
     "metadata": {
      "needs_background": "light"
     },
     "output_type": "display_data"
    }
   ],
   "source": [
    "boxplot_4 = data.boxplot(column = 'TOTAL_VALUE_OF_THE_SALE', figsize=(15, 10), grid = False, fontsize = 15)"
   ]
  },
  {
   "cell_type": "markdown",
   "metadata": {},
   "source": [
    "Histograms:\n",
    "\n",
    "- all the histograms are a little bit skewed to the right"
   ]
  },
  {
   "cell_type": "code",
   "execution_count": 30,
   "metadata": {},
   "outputs": [
    {
     "data": {
      "image/png": "[encoded data removed]",
      "text/plain": [
       "<Figure size 720x360 with 1 Axes>"
      ]
     },
     "metadata": {
      "needs_background": "light"
     },
     "output_type": "display_data"
    }
   ],
   "source": [
    "hist_1 = data.hist(column = 'QUANTITY_ORDERED', figsize=(10, 5), grid = False)"
   ]
  },
  {
   "cell_type": "code",
   "execution_count": 31,
   "metadata": {},
   "outputs": [
    {
     "data": {
      "image/png": "[encoded data removed]",
      "text/plain": [
       "<Figure size 720x360 with 1 Axes>"
      ]
     },
     "metadata": {
      "needs_background": "light"
     },
     "output_type": "display_data"
    }
   ],
   "source": [
    "hist_2 = data.hist(column = 'PRICE_EACH', figsize=(10, 5), grid = False)"
   ]
  },
  {
   "cell_type": "code",
   "execution_count": 32,
   "metadata": {},
   "outputs": [
    {
     "data": {
      "image/png": "[encoded data removed]",
      "text/plain": [
       "<Figure size 720x360 with 1 Axes>"
      ]
     },
     "metadata": {
      "needs_background": "light"
     },
     "output_type": "display_data"
    }
   ],
   "source": [
    "hist_3 = data.hist(column = 'TOTAL_VALUE_OF_THE_SALE', figsize=(10, 5), grid = False)"
   ]
  },
  {
   "cell_type": "code",
   "execution_count": 33,
   "metadata": {},
   "outputs": [
    {
     "data": {
      "image/png": "[encoded data removed]",
      "text/plain": [
       "<Figure size 720x360 with 1 Axes>"
      ]
     },
     "metadata": {
      "needs_background": "light"
     },
     "output_type": "display_data"
    }
   ],
   "source": [
    "hist_4 = data.hist(column = 'MANUFACTURER_SUGGESTED_RETAIL_PRICE', figsize=(10, 5), grid = False)"
   ]
  },
  {
   "cell_type": "markdown",
   "metadata": {},
   "source": [
    "# Customer segmentation with SOM"
   ]
  },
  {
   "cell_type": "markdown",
   "metadata": {},
   "source": [
    "Calculate Recency, Frequency and Monetary value for each customer.\n",
    "\n",
    "RFM (Recency, Frequency and Monetary value) is a method used for analyzing customer value.\n",
    "\n",
    "- Recency : Recency is the number of days between the customer's latest order date and the global latest date.\n",
    "- Frequency: Number of purchases made by the customer.\n",
    "- Monetary Value: Revenue generated by the customer."
   ]
  },
  {
   "cell_type": "code",
   "execution_count": 34,
   "metadata": {},
   "outputs": [
    {
     "data": {
      "text/plain": [
       "datetime.date(2005, 6, 1)"
      ]
     },
     "execution_count": 34,
     "metadata": {},
     "output_type": "execute_result"
    }
   ],
   "source": [
    "latest_date = data['ORDER_DATE'].max() + dt.timedelta(days = 1) # latest date in the data set\n",
    "latest_date"
   ]
  },
  {
   "cell_type": "code",
   "execution_count": 35,
   "metadata": {},
   "outputs": [],
   "source": [
    "data_RFM = data.groupby(['CUSTOMER_NAME']).agg({'ORDER_DATE': lambda x: (latest_date - x.max()).days, \n",
    "                                                'ORDER_NUMBER': 'count', \n",
    "                                                'TOTAL_VALUE_OF_THE_SALE': 'sum'})\n",
    "\n",
    "# rename the columns\n",
    "data_RFM.rename(columns = {'ORDER_DATE': 'Recency',\n",
    "                           'ORDER_NUMBER': 'Frequency',\n",
    "                           'TOTAL_VALUE_OF_THE_SALE': 'Monetary_Value'}, inplace = True)"
   ]
  },
  {
   "cell_type": "code",
   "execution_count": 36,
   "metadata": {},
   "outputs": [
    {
     "data": {
      "text/html": [
       "<div>\n",
       "<style scoped>\n",
       "    .dataframe tbody tr th:only-of-type {\n",
       "        vertical-align: middle;\n",
       "    }\n",
       "\n",
       "    .dataframe tbody tr th {\n",
       "        vertical-align: top;\n",
       "    }\n",
       "\n",
       "    .dataframe thead th {\n",
       "        text-align: right;\n",
       "    }\n",
       "</style>\n",
       "<table border=\"1\" class=\"dataframe\">\n",
       "  <thead>\n",
       "    <tr style=\"text-align: right;\">\n",
       "      <th></th>\n",
       "      <th>Recency</th>\n",
       "      <th>Frequency</th>\n",
       "      <th>Monetary_Value</th>\n",
       "    </tr>\n",
       "    <tr>\n",
       "      <th>CUSTOMER_NAME</th>\n",
       "      <th></th>\n",
       "      <th></th>\n",
       "      <th></th>\n",
       "    </tr>\n",
       "  </thead>\n",
       "  <tbody>\n",
       "    <tr>\n",
       "      <th>AV Stores, Co.</th>\n",
       "      <td>196</td>\n",
       "      <td>51</td>\n",
       "      <td>157807.81</td>\n",
       "    </tr>\n",
       "    <tr>\n",
       "      <th>Alpha Cognac</th>\n",
       "      <td>65</td>\n",
       "      <td>20</td>\n",
       "      <td>70488.44</td>\n",
       "    </tr>\n",
       "    <tr>\n",
       "      <th>Amica Models &amp; Co.</th>\n",
       "      <td>265</td>\n",
       "      <td>26</td>\n",
       "      <td>94117.26</td>\n",
       "    </tr>\n",
       "    <tr>\n",
       "      <th>Anna's Decorations, Ltd</th>\n",
       "      <td>84</td>\n",
       "      <td>46</td>\n",
       "      <td>153996.13</td>\n",
       "    </tr>\n",
       "    <tr>\n",
       "      <th>Atelier graphique</th>\n",
       "      <td>188</td>\n",
       "      <td>7</td>\n",
       "      <td>24179.96</td>\n",
       "    </tr>\n",
       "  </tbody>\n",
       "</table>\n",
       "</div>"
      ],
      "text/plain": [
       "                         Recency  Frequency  Monetary_Value\n",
       "CUSTOMER_NAME                                              \n",
       "AV Stores, Co.               196         51       157807.81\n",
       "Alpha Cognac                  65         20        70488.44\n",
       "Amica Models & Co.           265         26        94117.26\n",
       "Anna's Decorations, Ltd       84         46       153996.13\n",
       "Atelier graphique            188          7        24179.96"
      ]
     },
     "execution_count": 36,
     "metadata": {},
     "output_type": "execute_result"
    }
   ],
   "source": [
    "data_RFM.head()"
   ]
  },
  {
   "cell_type": "code",
   "execution_count": 37,
   "metadata": {},
   "outputs": [
    {
     "data": {
      "image/png": "[encoded data removed]",
      "text/plain": [
       "<Figure size 720x360 with 1 Axes>"
      ]
     },
     "metadata": {
      "needs_background": "light"
     },
     "output_type": "display_data"
    }
   ],
   "source": [
    "hist_5 = data_RFM.hist(column = 'Recency', figsize = (10, 5), grid = False)"
   ]
  },
  {
   "cell_type": "code",
   "execution_count": 38,
   "metadata": {},
   "outputs": [
    {
     "data": {
      "image/png": "[encoded data removed]",
      "text/plain": [
       "<Figure size 720x360 with 1 Axes>"
      ]
     },
     "metadata": {
      "needs_background": "light"
     },
     "output_type": "display_data"
    }
   ],
   "source": [
    "hist_6 = data_RFM.hist(column = 'Frequency', figsize = (10, 5), grid = False)"
   ]
  },
  {
   "cell_type": "code",
   "execution_count": 39,
   "metadata": {},
   "outputs": [
    {
     "data": {
      "image/png": "[encoded data removed]",
      "text/plain": [
       "<Figure size 720x360 with 1 Axes>"
      ]
     },
     "metadata": {
      "needs_background": "light"
     },
     "output_type": "display_data"
    }
   ],
   "source": [
    "hist_7 = data_RFM.hist(column = 'Monetary_Value', figsize = (10, 5), grid = False)"
   ]
  },
  {
   "cell_type": "code",
   "execution_count": 40,
   "metadata": {},
   "outputs": [
    {
     "data": {
      "text/html": [
       "<div>\n",
       "<style scoped>\n",
       "    .dataframe tbody tr th:only-of-type {\n",
       "        vertical-align: middle;\n",
       "    }\n",
       "\n",
       "    .dataframe tbody tr th {\n",
       "        vertical-align: top;\n",
       "    }\n",
       "\n",
       "    .dataframe thead th {\n",
       "        text-align: right;\n",
       "    }\n",
       "</style>\n",
       "<table border=\"1\" class=\"dataframe\">\n",
       "  <thead>\n",
       "    <tr style=\"text-align: right;\">\n",
       "      <th></th>\n",
       "      <th>Recency</th>\n",
       "      <th>Frequency</th>\n",
       "      <th>Monetary_Value</th>\n",
       "    </tr>\n",
       "    <tr>\n",
       "      <th>CUSTOMER_NAME</th>\n",
       "      <th></th>\n",
       "      <th></th>\n",
       "      <th></th>\n",
       "    </tr>\n",
       "  </thead>\n",
       "  <tbody>\n",
       "    <tr>\n",
       "      <th>AV Stores, Co.</th>\n",
       "      <td>5.278115</td>\n",
       "      <td>3.931826</td>\n",
       "      <td>11.969133</td>\n",
       "    </tr>\n",
       "    <tr>\n",
       "      <th>Alpha Cognac</th>\n",
       "      <td>4.174387</td>\n",
       "      <td>2.995732</td>\n",
       "      <td>11.163204</td>\n",
       "    </tr>\n",
       "    <tr>\n",
       "      <th>Amica Models &amp; Co.</th>\n",
       "      <td>5.579730</td>\n",
       "      <td>3.258097</td>\n",
       "      <td>11.452297</td>\n",
       "    </tr>\n",
       "    <tr>\n",
       "      <th>Anna's Decorations, Ltd</th>\n",
       "      <td>4.430817</td>\n",
       "      <td>3.828641</td>\n",
       "      <td>11.944683</td>\n",
       "    </tr>\n",
       "    <tr>\n",
       "      <th>Atelier graphique</th>\n",
       "      <td>5.236442</td>\n",
       "      <td>1.945910</td>\n",
       "      <td>10.093279</td>\n",
       "    </tr>\n",
       "  </tbody>\n",
       "</table>\n",
       "</div>"
      ],
      "text/plain": [
       "                          Recency  Frequency  Monetary_Value\n",
       "CUSTOMER_NAME                                               \n",
       "AV Stores, Co.           5.278115   3.931826       11.969133\n",
       "Alpha Cognac             4.174387   2.995732       11.163204\n",
       "Amica Models & Co.       5.579730   3.258097       11.452297\n",
       "Anna's Decorations, Ltd  4.430817   3.828641       11.944683\n",
       "Atelier graphique        5.236442   1.945910       10.093279"
      ]
     },
     "execution_count": 40,
     "metadata": {},
     "output_type": "execute_result"
    }
   ],
   "source": [
    "log_data_RFM = np.log(data_RFM)\n",
    "log_data_RFM.head()"
   ]
  },
  {
   "cell_type": "code",
   "execution_count": 41,
   "metadata": {},
   "outputs": [
    {
     "data": {
      "image/png": "[encoded data removed]",
      "text/plain": [
       "<Figure size 720x360 with 1 Axes>"
      ]
     },
     "metadata": {
      "needs_background": "light"
     },
     "output_type": "display_data"
    }
   ],
   "source": [
    "hist_8 = log_data_RFM.hist(column = 'Recency', figsize = (10, 5), grid = False)"
   ]
  },
  {
   "cell_type": "code",
   "execution_count": 42,
   "metadata": {},
   "outputs": [
    {
     "data": {
      "image/png": "[encoded data removed]",
      "text/plain": [
       "<Figure size 720x360 with 1 Axes>"
      ]
     },
     "metadata": {
      "needs_background": "light"
     },
     "output_type": "display_data"
    }
   ],
   "source": [
    "hist_9 = log_data_RFM.hist(column = 'Frequency', figsize = (10, 5), grid = False)"
   ]
  },
  {
   "cell_type": "code",
   "execution_count": 43,
   "metadata": {},
   "outputs": [
    {
     "data": {
      "image/png": "[encoded data removed]",
      "text/plain": [
       "<Figure size 720x360 with 1 Axes>"
      ]
     },
     "metadata": {
      "needs_background": "light"
     },
     "output_type": "display_data"
    }
   ],
   "source": [
    "hist_10 = log_data_RFM.hist(column = 'Monetary_Value', figsize = (10, 5), grid = False)"
   ]
  },
  {
   "cell_type": "markdown",
   "metadata": {},
   "source": [
    "SOM assumptions"
   ]
  },
  {
   "cell_type": "code",
   "execution_count": 44,
   "metadata": {},
   "outputs": [],
   "source": [
    "# numeric data\n",
    "# [0, 1] values (preferable)\n",
    "\n",
    "\n",
    "# Advantages:\n",
    "\n",
    "# They do not make assumptions regarding the distributions of variables and nor do they require independence\n",
    "# among variables. Second, they are easier to implement and are able to solve nonlinear\n",
    "# problems of very high complexity. Last, they more effectively cope with noisy and\n",
    "# missing data, very small dimensionality and samples of unlimited size."
   ]
  },
  {
   "cell_type": "code",
   "execution_count": 45,
   "metadata": {},
   "outputs": [
    {
     "name": "stdout",
     "output_type": "stream",
     "text": [
      "<class 'pandas.core.frame.DataFrame'>\n",
      "Index: 92 entries, AV Stores, Co. to giftsbymail.co.uk\n",
      "Data columns (total 3 columns):\n",
      " #   Column          Non-Null Count  Dtype  \n",
      "---  ------          --------------  -----  \n",
      " 0   Recency         92 non-null     float64\n",
      " 1   Frequency       92 non-null     float64\n",
      " 2   Monetary_Value  92 non-null     float64\n",
      "dtypes: float64(3)\n",
      "memory usage: 2.9+ KB\n"
     ]
    }
   ],
   "source": [
    "# 1.\n",
    "log_data_RFM.info()"
   ]
  },
  {
   "cell_type": "code",
   "execution_count": 46,
   "metadata": {},
   "outputs": [
    {
     "data": {
      "text/html": [
       "<div>\n",
       "<style scoped>\n",
       "    .dataframe tbody tr th:only-of-type {\n",
       "        vertical-align: middle;\n",
       "    }\n",
       "\n",
       "    .dataframe tbody tr th {\n",
       "        vertical-align: top;\n",
       "    }\n",
       "\n",
       "    .dataframe thead th {\n",
       "        text-align: right;\n",
       "    }\n",
       "</style>\n",
       "<table border=\"1\" class=\"dataframe\">\n",
       "  <thead>\n",
       "    <tr style=\"text-align: right;\">\n",
       "      <th></th>\n",
       "      <th>0</th>\n",
       "      <th>1</th>\n",
       "      <th>2</th>\n",
       "    </tr>\n",
       "  </thead>\n",
       "  <tbody>\n",
       "    <tr>\n",
       "      <th>0</th>\n",
       "      <td>0.846877</td>\n",
       "      <td>0.637169</td>\n",
       "      <td>0.623948</td>\n",
       "    </tr>\n",
       "    <tr>\n",
       "      <th>1</th>\n",
       "      <td>0.669783</td>\n",
       "      <td>0.426648</td>\n",
       "      <td>0.447499</td>\n",
       "    </tr>\n",
       "    <tr>\n",
       "      <th>2</th>\n",
       "      <td>0.895271</td>\n",
       "      <td>0.485652</td>\n",
       "      <td>0.510793</td>\n",
       "    </tr>\n",
       "    <tr>\n",
       "      <th>3</th>\n",
       "      <td>0.710927</td>\n",
       "      <td>0.613964</td>\n",
       "      <td>0.618595</td>\n",
       "    </tr>\n",
       "    <tr>\n",
       "      <th>4</th>\n",
       "      <td>0.840190</td>\n",
       "      <td>0.190551</td>\n",
       "      <td>0.213252</td>\n",
       "    </tr>\n",
       "  </tbody>\n",
       "</table>\n",
       "</div>"
      ],
      "text/plain": [
       "          0         1         2\n",
       "0  0.846877  0.637169  0.623948\n",
       "1  0.669783  0.426648  0.447499\n",
       "2  0.895271  0.485652  0.510793\n",
       "3  0.710927  0.613964  0.618595\n",
       "4  0.840190  0.190551  0.213252"
      ]
     },
     "execution_count": 46,
     "metadata": {},
     "output_type": "execute_result"
    }
   ],
   "source": [
    "# 2.\n",
    "feature_scaler = MinMaxScaler(feature_range = (0, 1))\n",
    " \n",
    "scaled_log_data_RFM = feature_scaler.fit_transform(log_data_RFM)\n",
    "scaled_log_data_RFM = pd.DataFrame(data = scaled_log_data_RFM)\n",
    "scaled_log_data_RFM.head()"
   ]
  },
  {
   "cell_type": "markdown",
   "metadata": {},
   "source": [
    "Define parameters for SOM network"
   ]
  },
  {
   "cell_type": "code",
   "execution_count": 47,
   "metadata": {},
   "outputs": [],
   "source": [
    "som_width = 8\n",
    "som_length = 8\n",
    "epochs = 10000\n",
    "initial_learning_rate = 0.01\n",
    "np.random.seed(10)"
   ]
  },
  {
   "cell_type": "code",
   "execution_count": 48,
   "metadata": {},
   "outputs": [
    {
     "name": "stdout",
     "output_type": "stream",
     "text": [
      "Data set raw count = 92 column count = 3.\n"
     ]
    }
   ],
   "source": [
    "raws, cols = scaled_log_data_RFM.shape\n",
    "print(\"Data set raw count = %d column count = %d.\" % (raws, cols))"
   ]
  },
  {
   "cell_type": "code",
   "execution_count": 49,
   "metadata": {},
   "outputs": [],
   "source": [
    "initial_radius = max(som_width, som_length) / 2\n",
    "time_constant =  epochs / np.log(initial_radius)"
   ]
  },
  {
   "cell_type": "code",
   "execution_count": 50,
   "metadata": {
    "scrolled": true
   },
   "outputs": [
    {
     "name": "stdout",
     "output_type": "stream",
     "text": [
      "Initial weights set to SOM network:\n",
      "[[[0.77132064 0.02075195 0.63364823]\n",
      "  [0.74880388 0.49850701 0.22479665]\n",
      "  [0.19806286 0.76053071 0.16911084]\n",
      "  [0.08833981 0.68535982 0.95339335]\n",
      "  [0.00394827 0.51219226 0.81262096]\n",
      "  [0.61252607 0.72175532 0.29187607]\n",
      "  [0.91777412 0.71457578 0.54254437]\n",
      "  [0.14217005 0.37334076 0.67413362]]\n",
      "\n",
      " [[0.44183317 0.43401399 0.61776698]\n",
      "  [0.51313824 0.65039718 0.60103895]\n",
      "  [0.8052232  0.52164715 0.90864888]\n",
      "  [0.31923609 0.09045935 0.30070006]\n",
      "  [0.11398436 0.82868133 0.04689632]\n",
      "  [0.62628715 0.54758616 0.819287  ]\n",
      "  [0.19894754 0.8568503  0.35165264]\n",
      "  [0.75464769 0.29596171 0.88393648]]\n",
      "\n",
      " [[0.32551164 0.1650159  0.39252924]\n",
      "  [0.09346037 0.82110566 0.15115202]\n",
      "  [0.38411445 0.94426071 0.98762547]\n",
      "  [0.45630455 0.82612284 0.25137413]\n",
      "  [0.59737165 0.90283176 0.53455795]\n",
      "  [0.59020136 0.03928177 0.35718176]\n",
      "  [0.07961309 0.30545992 0.33071931]\n",
      "  [0.7738303  0.03995921 0.42949218]]\n",
      "\n",
      " [[0.31492687 0.63649114 0.34634715]\n",
      "  [0.04309736 0.87991517 0.76324059]\n",
      "  [0.87809664 0.41750914 0.60557756]\n",
      "  [0.51346663 0.59783665 0.26221566]\n",
      "  [0.30087131 0.02539978 0.30306256]\n",
      "  [0.24207588 0.55757819 0.56550702]\n",
      "  [0.47513225 0.29279798 0.06425106]\n",
      "  [0.97881915 0.33970784 0.49504863]]\n",
      "\n",
      " [[0.97708073 0.44077382 0.31827281]\n",
      "  [0.51979699 0.57813643 0.85393375]\n",
      "  [0.06809727 0.46453081 0.78194912]\n",
      "  [0.71860281 0.58602198 0.03709441]\n",
      "  [0.35065639 0.56319068 0.29972987]\n",
      "  [0.51233415 0.67346693 0.15919373]\n",
      "  [0.05047767 0.33781589 0.10806377]\n",
      "  [0.17890281 0.8858271  0.36536497]]\n",
      "\n",
      " [[0.21876935 0.75249617 0.10687958]\n",
      "  [0.74460324 0.46978529 0.59825567]\n",
      "  [0.14762019 0.18403482 0.64507213]\n",
      "  [0.04862801 0.24861251 0.54240852]\n",
      "  [0.22677334 0.38141153 0.92223279]\n",
      "  [0.92535687 0.56674992 0.53347088]\n",
      "  [0.01486002 0.97789926 0.5730289 ]\n",
      "  [0.791757   0.56155736 0.87733524]]\n",
      "\n",
      " [[0.58419583 0.70884983 0.14853345]\n",
      "  [0.42845074 0.69389007 0.10461974]\n",
      "  [0.43960524 0.16620215 0.50697863]\n",
      "  [0.81903586 0.09010673 0.80006875]\n",
      "  [0.56512635 0.58934771 0.19810066]\n",
      "  [0.43611826 0.29590376 0.03755768]\n",
      "  [0.03068484 0.453105   0.74486408]\n",
      "  [0.55729541 0.3851136  0.1680728 ]]\n",
      "\n",
      " [[0.83826132 0.5990518  0.78271482]\n",
      "  [0.84850918 0.60316298 0.78106062]\n",
      "  [0.61573688 0.02116519 0.75046461]\n",
      "  [0.17604213 0.45851421 0.51312271]\n",
      "  [0.48402089 0.84438579 0.17481389]\n",
      "  [0.01463488 0.84876407 0.74267458]\n",
      "  [0.45669754 0.41689841 0.11672951]\n",
      "  [0.33867913 0.09465904 0.71583087]]]\n"
     ]
    }
   ],
   "source": [
    "som_net = np.random.random((som_width, som_length, cols))\n",
    "print(\"Initial weights set to SOM network:\")\n",
    "print(som_net)"
   ]
  },
  {
   "cell_type": "markdown",
   "metadata": {},
   "source": [
    "Define basic functions needed to decay learning rate, radius and calculate Euclidian distance"
   ]
  },
  {
   "cell_type": "code",
   "execution_count": 51,
   "metadata": {},
   "outputs": [],
   "source": [
    "def update_radius(initial_radius, i, time_constant):\n",
    "    return initial_radius * np.exp(-i / time_constant)\n",
    "\n",
    "def update_learning_rate(initial_learning_rate, i, n_iterations):\n",
    "    return initial_learning_rate * np.exp(-i / n_iterations)\n",
    "\n",
    "def calculate_euclidian_dis(point1, point2):\n",
    "    return np.sqrt(np.sum((point1 - point2) ** 2))"
   ]
  },
  {
   "cell_type": "markdown",
   "metadata": {},
   "source": [
    "Logic to calculcate best matching unit"
   ]
  },
  {
   "cell_type": "code",
   "execution_count": 52,
   "metadata": {},
   "outputs": [],
   "source": [
    "def find_best_matching_Unit(data_point):\n",
    "    bmu_pos = np.array([0, 0])\n",
    "    min_dist = np.iinfo(np.int).max\n",
    "    input_dim = len(data_point)\n",
    "    \n",
    "    for x in range(som_width):\n",
    "        for y in range(som_length):\n",
    "            som_weight_vector = som_net[x, y, :].reshape(1, 3)\n",
    "            euclidian_dist = calculate_euclidian_dis(som_weight_vector, data_point)\n",
    "            if euclidian_dist < min_dist:\n",
    "                min_dist = euclidian_dist\n",
    "                bmu_pos = np.array([x, y])\n",
    "    \n",
    "    bmu = som_net[bmu_pos[0], bmu_pos[1], :].reshape(1, 3)\n",
    "    return (bmu, bmu_pos)"
   ]
  },
  {
   "cell_type": "markdown",
   "metadata": {},
   "source": [
    "Neighbourhood function to calculate influence from best matching unit and selected node"
   ]
  },
  {
   "cell_type": "code",
   "execution_count": 53,
   "metadata": {},
   "outputs": [],
   "source": [
    "def neighbourhood_function(bmu_location, selected_node_location, radius):\n",
    "    euclidien_dist_to_bmu = calculate_euclidian_dis(bmu_location, selected_node_location)\n",
    "    return np.exp(- euclidien_dist_to_bmu / (2 * (radius ** 2)))"
   ]
  },
  {
   "cell_type": "markdown",
   "metadata": {},
   "source": [
    "Train SOM network with our data set"
   ]
  },
  {
   "cell_type": "code",
   "execution_count": 54,
   "metadata": {},
   "outputs": [],
   "source": [
    "# shuffle the data set\n",
    "scaled_log_data_RFM = scaled_log_data_RFM.sample(frac = 1)\n",
    "\n",
    "rad_values = list()\n",
    "learn_rates_values = list()\n",
    "rad_values.append(initial_radius)\n",
    "learn_rates_values.append(initial_learning_rate)\n",
    "\n",
    "for i in range(epochs):\n",
    "    data_point = np.array(scaled_log_data_RFM.sample())\n",
    "    bmu, bmu_idx = find_best_matching_Unit(data_point)\n",
    "\n",
    "    r_new = update_radius(initial_radius, i, time_constant)\n",
    "    new_learning_rate = update_learning_rate(initial_learning_rate, i, epochs)\n",
    "    \n",
    "    rad_values.append(r_new)\n",
    "    learn_rates_values.append(new_learning_rate)\n",
    "    \n",
    "    for x in range(som_width):\n",
    "        for y in range(som_length):\n",
    "            w = som_net[x, y, :].reshape(1, 3)\n",
    "            w_dist = calculate_euclidian_dis(np.array([x, y]), bmu_idx)\n",
    "            \n",
    "            if w_dist <= r_new:\n",
    "                influence = neighbourhood_function(bmu, w, r_new)\n",
    "                new_w = w + (new_learning_rate * influence * (data_point - w))\n",
    "                som_net[x, y, :] = new_w.reshape(1, 3)   "
   ]
  },
  {
   "cell_type": "code",
   "execution_count": 55,
   "metadata": {},
   "outputs": [
    {
     "data": {
      "text/plain": [
       "Text(0.5, 1.0, 'Radius values')"
      ]
     },
     "execution_count": 55,
     "metadata": {},
     "output_type": "execute_result"
    },
    {
     "data": {
      "image/png": "[encoded data removed]",
      "text/plain": [
       "<Figure size 432x288 with 1 Axes>"
      ]
     },
     "metadata": {
      "needs_background": "light"
     },
     "output_type": "display_data"
    }
   ],
   "source": [
    "plt.plot(rad_values)\n",
    "plt.title('Radius values')"
   ]
  },
  {
   "cell_type": "code",
   "execution_count": 56,
   "metadata": {},
   "outputs": [
    {
     "data": {
      "text/plain": [
       "Text(0.5, 1.0, 'Learning Rates values')"
      ]
     },
     "execution_count": 56,
     "metadata": {},
     "output_type": "execute_result"
    },
    {
     "data": {
      "image/png": "[encoded data removed]",
      "text/plain": [
       "<Figure size 432x288 with 1 Axes>"
      ]
     },
     "metadata": {
      "needs_background": "light"
     },
     "output_type": "display_data"
    }
   ],
   "source": [
    "plt.plot(learn_rates_values)\n",
    "plt.title('Learning Rates values')"
   ]
  },
  {
   "cell_type": "markdown",
   "metadata": {},
   "source": [
    "Visualize the weights of the SOM after number of epoch times"
   ]
  },
  {
   "cell_type": "code",
   "execution_count": 57,
   "metadata": {},
   "outputs": [
    {
     "data": {
      "image/png": "[encoded data removed]",
      "text/plain": [
       "<Figure size 504x504 with 1 Axes>"
      ]
     },
     "metadata": {
      "needs_background": "light"
     },
     "output_type": "display_data"
    }
   ],
   "source": [
    "fig = plt.figure(figsize = (7, 7))\n",
    "ax = fig.add_subplot(1, 1, 1, aspect='equal')\n",
    "ax.set_xlim((0, som_width + 1))\n",
    "ax.set_ylim((0, som_length + 1))\n",
    "ax.set_title('Self-Organising Map after %d iterations' % epochs)\n",
    "\n",
    "for x in range(1, som_width + 1):\n",
    "    for y in range(1, som_length + 1):\n",
    "        ax.add_patch(patches.Circle((x, y), 0.5, facecolor = som_net[x-1, y-1,:], edgecolor = 'black'))\n",
    "plt.show()"
   ]
  },
  {
   "cell_type": "markdown",
   "metadata": {},
   "source": [
    "Dividing the customers into 3 groups\n",
    "\n",
    "Recency / Frequency / Monetary_Value : Level 3 > Level 2 > Level 1\n",
    "\n",
    "- Lower the recency, higher the Recency level\n",
    "- Higher the number of orders, higher the Frequency level\n",
    "- Higher the monetary value, higher the Monetary_Value level"
   ]
  },
  {
   "cell_type": "code",
   "execution_count": 58,
   "metadata": {},
   "outputs": [
    {
     "data": {
      "text/html": [
       "<div>\n",
       "<style scoped>\n",
       "    .dataframe tbody tr th:only-of-type {\n",
       "        vertical-align: middle;\n",
       "    }\n",
       "\n",
       "    .dataframe tbody tr th {\n",
       "        vertical-align: top;\n",
       "    }\n",
       "\n",
       "    .dataframe thead th {\n",
       "        text-align: right;\n",
       "    }\n",
       "</style>\n",
       "<table border=\"1\" class=\"dataframe\">\n",
       "  <thead>\n",
       "    <tr style=\"text-align: right;\">\n",
       "      <th></th>\n",
       "      <th>Recency</th>\n",
       "      <th>Frequency</th>\n",
       "      <th>Monetary_Value</th>\n",
       "    </tr>\n",
       "    <tr>\n",
       "      <th>CUSTOMER_NAME</th>\n",
       "      <th></th>\n",
       "      <th></th>\n",
       "      <th></th>\n",
       "    </tr>\n",
       "  </thead>\n",
       "  <tbody>\n",
       "    <tr>\n",
       "      <th>AV Stores, Co.</th>\n",
       "      <td>196</td>\n",
       "      <td>51</td>\n",
       "      <td>157807.81</td>\n",
       "    </tr>\n",
       "    <tr>\n",
       "      <th>Alpha Cognac</th>\n",
       "      <td>65</td>\n",
       "      <td>20</td>\n",
       "      <td>70488.44</td>\n",
       "    </tr>\n",
       "    <tr>\n",
       "      <th>Amica Models &amp; Co.</th>\n",
       "      <td>265</td>\n",
       "      <td>26</td>\n",
       "      <td>94117.26</td>\n",
       "    </tr>\n",
       "    <tr>\n",
       "      <th>Anna's Decorations, Ltd</th>\n",
       "      <td>84</td>\n",
       "      <td>46</td>\n",
       "      <td>153996.13</td>\n",
       "    </tr>\n",
       "    <tr>\n",
       "      <th>Atelier graphique</th>\n",
       "      <td>188</td>\n",
       "      <td>7</td>\n",
       "      <td>24179.96</td>\n",
       "    </tr>\n",
       "  </tbody>\n",
       "</table>\n",
       "</div>"
      ],
      "text/plain": [
       "                         Recency  Frequency  Monetary_Value\n",
       "CUSTOMER_NAME                                              \n",
       "AV Stores, Co.               196         51       157807.81\n",
       "Alpha Cognac                  65         20        70488.44\n",
       "Amica Models & Co.           265         26        94117.26\n",
       "Anna's Decorations, Ltd       84         46       153996.13\n",
       "Atelier graphique            188          7        24179.96"
      ]
     },
     "execution_count": 58,
     "metadata": {},
     "output_type": "execute_result"
    }
   ],
   "source": [
    "data_RFM.head()"
   ]
  },
  {
   "cell_type": "code",
   "execution_count": 59,
   "metadata": {},
   "outputs": [
    {
     "data": {
      "text/html": [
       "<div>\n",
       "<style scoped>\n",
       "    .dataframe tbody tr th:only-of-type {\n",
       "        vertical-align: middle;\n",
       "    }\n",
       "\n",
       "    .dataframe tbody tr th {\n",
       "        vertical-align: top;\n",
       "    }\n",
       "\n",
       "    .dataframe thead th {\n",
       "        text-align: right;\n",
       "    }\n",
       "</style>\n",
       "<table border=\"1\" class=\"dataframe\">\n",
       "  <thead>\n",
       "    <tr style=\"text-align: right;\">\n",
       "      <th></th>\n",
       "      <th>Recency</th>\n",
       "      <th>Frequency</th>\n",
       "      <th>Monetary_Value</th>\n",
       "      <th>R</th>\n",
       "      <th>F</th>\n",
       "      <th>M</th>\n",
       "    </tr>\n",
       "    <tr>\n",
       "      <th>CUSTOMER_NAME</th>\n",
       "      <th></th>\n",
       "      <th></th>\n",
       "      <th></th>\n",
       "      <th></th>\n",
       "      <th></th>\n",
       "      <th></th>\n",
       "    </tr>\n",
       "  </thead>\n",
       "  <tbody>\n",
       "    <tr>\n",
       "      <th>AV Stores, Co.</th>\n",
       "      <td>196</td>\n",
       "      <td>51</td>\n",
       "      <td>157807.81</td>\n",
       "      <td>2</td>\n",
       "      <td>3</td>\n",
       "      <td>3</td>\n",
       "    </tr>\n",
       "    <tr>\n",
       "      <th>Alpha Cognac</th>\n",
       "      <td>65</td>\n",
       "      <td>20</td>\n",
       "      <td>70488.44</td>\n",
       "      <td>3</td>\n",
       "      <td>1</td>\n",
       "      <td>1</td>\n",
       "    </tr>\n",
       "    <tr>\n",
       "      <th>Amica Models &amp; Co.</th>\n",
       "      <td>265</td>\n",
       "      <td>26</td>\n",
       "      <td>94117.26</td>\n",
       "      <td>1</td>\n",
       "      <td>2</td>\n",
       "      <td>2</td>\n",
       "    </tr>\n",
       "    <tr>\n",
       "      <th>Anna's Decorations, Ltd</th>\n",
       "      <td>84</td>\n",
       "      <td>46</td>\n",
       "      <td>153996.13</td>\n",
       "      <td>3</td>\n",
       "      <td>3</td>\n",
       "      <td>3</td>\n",
       "    </tr>\n",
       "    <tr>\n",
       "      <th>Atelier graphique</th>\n",
       "      <td>188</td>\n",
       "      <td>7</td>\n",
       "      <td>24179.96</td>\n",
       "      <td>2</td>\n",
       "      <td>1</td>\n",
       "      <td>1</td>\n",
       "    </tr>\n",
       "  </tbody>\n",
       "</table>\n",
       "</div>"
      ],
      "text/plain": [
       "                         Recency  Frequency  Monetary_Value  R  F  M\n",
       "CUSTOMER_NAME                                                       \n",
       "AV Stores, Co.               196         51       157807.81  2  3  3\n",
       "Alpha Cognac                  65         20        70488.44  3  1  1\n",
       "Amica Models & Co.           265         26        94117.26  1  2  2\n",
       "Anna's Decorations, Ltd       84         46       153996.13  3  3  3\n",
       "Atelier graphique            188          7        24179.96  2  1  1"
      ]
     },
     "execution_count": 59,
     "metadata": {},
     "output_type": "execute_result"
    }
   ],
   "source": [
    "Recency_Labels = pd.qcut(data_RFM['Recency'], q = 3, labels = list(range(3, 0, -1)))\n",
    "Frequency_Labels = pd.qcut(data_RFM['Frequency'], q = 3, labels = range(1, 4))\n",
    "Monetary_Value_Labels = pd.qcut(data_RFM['Monetary_Value'], q = 3, labels = range(1, 4))\n",
    "\n",
    "data_RFM['R'] = Recency_Labels\n",
    "data_RFM['F'] = Frequency_Labels\n",
    "data_RFM['M'] = Monetary_Value_Labels\n",
    "\n",
    "data_RFM.head()"
   ]
  },
  {
   "cell_type": "code",
   "execution_count": 60,
   "metadata": {},
   "outputs": [
    {
     "data": {
      "text/html": [
       "<div>\n",
       "<style scoped>\n",
       "    .dataframe tbody tr th:only-of-type {\n",
       "        vertical-align: middle;\n",
       "    }\n",
       "\n",
       "    .dataframe tbody tr th {\n",
       "        vertical-align: top;\n",
       "    }\n",
       "\n",
       "    .dataframe thead th {\n",
       "        text-align: right;\n",
       "    }\n",
       "</style>\n",
       "<table border=\"1\" class=\"dataframe\">\n",
       "  <thead>\n",
       "    <tr style=\"text-align: right;\">\n",
       "      <th></th>\n",
       "      <th>Recency</th>\n",
       "      <th>Frequency</th>\n",
       "      <th>Monetary_Value</th>\n",
       "      <th>R</th>\n",
       "      <th>F</th>\n",
       "      <th>M</th>\n",
       "      <th>RFM_Score</th>\n",
       "    </tr>\n",
       "    <tr>\n",
       "      <th>CUSTOMER_NAME</th>\n",
       "      <th></th>\n",
       "      <th></th>\n",
       "      <th></th>\n",
       "      <th></th>\n",
       "      <th></th>\n",
       "      <th></th>\n",
       "      <th></th>\n",
       "    </tr>\n",
       "  </thead>\n",
       "  <tbody>\n",
       "    <tr>\n",
       "      <th>AV Stores, Co.</th>\n",
       "      <td>196</td>\n",
       "      <td>51</td>\n",
       "      <td>157807.81</td>\n",
       "      <td>2</td>\n",
       "      <td>3</td>\n",
       "      <td>3</td>\n",
       "      <td>8.0</td>\n",
       "    </tr>\n",
       "    <tr>\n",
       "      <th>Alpha Cognac</th>\n",
       "      <td>65</td>\n",
       "      <td>20</td>\n",
       "      <td>70488.44</td>\n",
       "      <td>3</td>\n",
       "      <td>1</td>\n",
       "      <td>1</td>\n",
       "      <td>5.0</td>\n",
       "    </tr>\n",
       "    <tr>\n",
       "      <th>Amica Models &amp; Co.</th>\n",
       "      <td>265</td>\n",
       "      <td>26</td>\n",
       "      <td>94117.26</td>\n",
       "      <td>1</td>\n",
       "      <td>2</td>\n",
       "      <td>2</td>\n",
       "      <td>5.0</td>\n",
       "    </tr>\n",
       "    <tr>\n",
       "      <th>Anna's Decorations, Ltd</th>\n",
       "      <td>84</td>\n",
       "      <td>46</td>\n",
       "      <td>153996.13</td>\n",
       "      <td>3</td>\n",
       "      <td>3</td>\n",
       "      <td>3</td>\n",
       "      <td>9.0</td>\n",
       "    </tr>\n",
       "    <tr>\n",
       "      <th>Atelier graphique</th>\n",
       "      <td>188</td>\n",
       "      <td>7</td>\n",
       "      <td>24179.96</td>\n",
       "      <td>2</td>\n",
       "      <td>1</td>\n",
       "      <td>1</td>\n",
       "      <td>4.0</td>\n",
       "    </tr>\n",
       "  </tbody>\n",
       "</table>\n",
       "</div>"
      ],
      "text/plain": [
       "                         Recency  Frequency  Monetary_Value  R  F  M  \\\n",
       "CUSTOMER_NAME                                                          \n",
       "AV Stores, Co.               196         51       157807.81  2  3  3   \n",
       "Alpha Cognac                  65         20        70488.44  3  1  1   \n",
       "Amica Models & Co.           265         26        94117.26  1  2  2   \n",
       "Anna's Decorations, Ltd       84         46       153996.13  3  3  3   \n",
       "Atelier graphique            188          7        24179.96  2  1  1   \n",
       "\n",
       "                         RFM_Score  \n",
       "CUSTOMER_NAME                       \n",
       "AV Stores, Co.                 8.0  \n",
       "Alpha Cognac                   5.0  \n",
       "Amica Models & Co.             5.0  \n",
       "Anna's Decorations, Ltd        9.0  \n",
       "Atelier graphique              4.0  "
      ]
     },
     "execution_count": 60,
     "metadata": {},
     "output_type": "execute_result"
    }
   ],
   "source": [
    "# Calculate RFM_Score\n",
    "data_RFM['RFM_Score'] = data_RFM[['R', 'F', 'M']].sum(axis = 1)\n",
    "data_RFM.head()"
   ]
  },
  {
   "cell_type": "markdown",
   "metadata": {},
   "source": [
    "Labelling the levels\n",
    "\n",
    "- RFM Score > 6 - High Value Customer\n",
    "- RFM Score <= 6 and RFM Score >= 4 - Mid Value Customer\n",
    "- RFM Score < 4 - Low Value Customer"
   ]
  },
  {
   "cell_type": "code",
   "execution_count": 61,
   "metadata": {},
   "outputs": [
    {
     "data": {
      "text/html": [
       "<div>\n",
       "<style scoped>\n",
       "    .dataframe tbody tr th:only-of-type {\n",
       "        vertical-align: middle;\n",
       "    }\n",
       "\n",
       "    .dataframe tbody tr th {\n",
       "        vertical-align: top;\n",
       "    }\n",
       "\n",
       "    .dataframe thead th {\n",
       "        text-align: right;\n",
       "    }\n",
       "</style>\n",
       "<table border=\"1\" class=\"dataframe\">\n",
       "  <thead>\n",
       "    <tr style=\"text-align: right;\">\n",
       "      <th></th>\n",
       "      <th>Recency</th>\n",
       "      <th>Frequency</th>\n",
       "      <th>Monetary_Value</th>\n",
       "      <th>R</th>\n",
       "      <th>F</th>\n",
       "      <th>M</th>\n",
       "      <th>RFM_Score</th>\n",
       "      <th>RFM_Level</th>\n",
       "    </tr>\n",
       "    <tr>\n",
       "      <th>CUSTOMER_NAME</th>\n",
       "      <th></th>\n",
       "      <th></th>\n",
       "      <th></th>\n",
       "      <th></th>\n",
       "      <th></th>\n",
       "      <th></th>\n",
       "      <th></th>\n",
       "      <th></th>\n",
       "    </tr>\n",
       "  </thead>\n",
       "  <tbody>\n",
       "    <tr>\n",
       "      <th>AV Stores, Co.</th>\n",
       "      <td>196</td>\n",
       "      <td>51</td>\n",
       "      <td>157807.81</td>\n",
       "      <td>2</td>\n",
       "      <td>3</td>\n",
       "      <td>3</td>\n",
       "      <td>8.0</td>\n",
       "      <td>High Value Customer</td>\n",
       "    </tr>\n",
       "    <tr>\n",
       "      <th>Alpha Cognac</th>\n",
       "      <td>65</td>\n",
       "      <td>20</td>\n",
       "      <td>70488.44</td>\n",
       "      <td>3</td>\n",
       "      <td>1</td>\n",
       "      <td>1</td>\n",
       "      <td>5.0</td>\n",
       "      <td>Mid Value Customer</td>\n",
       "    </tr>\n",
       "    <tr>\n",
       "      <th>Amica Models &amp; Co.</th>\n",
       "      <td>265</td>\n",
       "      <td>26</td>\n",
       "      <td>94117.26</td>\n",
       "      <td>1</td>\n",
       "      <td>2</td>\n",
       "      <td>2</td>\n",
       "      <td>5.0</td>\n",
       "      <td>Mid Value Customer</td>\n",
       "    </tr>\n",
       "    <tr>\n",
       "      <th>Anna's Decorations, Ltd</th>\n",
       "      <td>84</td>\n",
       "      <td>46</td>\n",
       "      <td>153996.13</td>\n",
       "      <td>3</td>\n",
       "      <td>3</td>\n",
       "      <td>3</td>\n",
       "      <td>9.0</td>\n",
       "      <td>High Value Customer</td>\n",
       "    </tr>\n",
       "    <tr>\n",
       "      <th>Atelier graphique</th>\n",
       "      <td>188</td>\n",
       "      <td>7</td>\n",
       "      <td>24179.96</td>\n",
       "      <td>2</td>\n",
       "      <td>1</td>\n",
       "      <td>1</td>\n",
       "      <td>4.0</td>\n",
       "      <td>Mid Value Customer</td>\n",
       "    </tr>\n",
       "  </tbody>\n",
       "</table>\n",
       "</div>"
      ],
      "text/plain": [
       "                         Recency  Frequency  Monetary_Value  R  F  M  \\\n",
       "CUSTOMER_NAME                                                          \n",
       "AV Stores, Co.               196         51       157807.81  2  3  3   \n",
       "Alpha Cognac                  65         20        70488.44  3  1  1   \n",
       "Amica Models & Co.           265         26        94117.26  1  2  2   \n",
       "Anna's Decorations, Ltd       84         46       153996.13  3  3  3   \n",
       "Atelier graphique            188          7        24179.96  2  1  1   \n",
       "\n",
       "                         RFM_Score            RFM_Level  \n",
       "CUSTOMER_NAME                                            \n",
       "AV Stores, Co.                 8.0  High Value Customer  \n",
       "Alpha Cognac                   5.0   Mid Value Customer  \n",
       "Amica Models & Co.             5.0   Mid Value Customer  \n",
       "Anna's Decorations, Ltd        9.0  High Value Customer  \n",
       "Atelier graphique              4.0   Mid Value Customer  "
      ]
     },
     "execution_count": 61,
     "metadata": {},
     "output_type": "execute_result"
    }
   ],
   "source": [
    "def rfm_level(df):\n",
    "    if np.bool(df['RFM_Score'] > 6):\n",
    "        return 'High Value Customer'\n",
    "    elif np.bool((df['RFM_Score'] <= 6) & (df['RFM_Score'] >= 4)):\n",
    "        return 'Mid Value Customer'\n",
    "    else:\n",
    "        return 'Low Value Customer'\n",
    "\n",
    "# Create a new variable: RFM_Level\n",
    "data_RFM['RFM_Level'] = data_RFM.apply(rfm_level, axis = 1)\n",
    "\n",
    "data_RFM.head()"
   ]
  },
  {
   "cell_type": "code",
   "execution_count": 62,
   "metadata": {},
   "outputs": [
    {
     "name": "stdout",
     "output_type": "stream",
     "text": [
      "                    Recency Frequency Monetary_Value      \n",
      "                       mean      mean           mean count\n",
      "RFM_Level                                                 \n",
      "High Value Customer   103.1      45.6       157630.3    38\n",
      "Low Value Customer    354.8      15.5        52884.1    18\n",
      "Mid Value Customer    181.0      21.2        73228.8    36\n"
     ]
    }
   ],
   "source": [
    "# analyzing customer segments\n",
    " \n",
    "rfm_level_agg = data_RFM.groupby(['RFM_Level']).agg({\n",
    "    'Recency': 'mean',\n",
    "    'Frequency': 'mean',\n",
    "    'Monetary_Value':['mean', 'count']}).round(1)\n",
    "\n",
    "print(rfm_level_agg)"
   ]
  },
  {
   "cell_type": "markdown",
   "metadata": {},
   "source": [
    "# RFM_Level classification"
   ]
  },
  {
   "cell_type": "markdown",
   "metadata": {},
   "source": [
    "Split the data"
   ]
  },
  {
   "cell_type": "code",
   "execution_count": 63,
   "metadata": {},
   "outputs": [
    {
     "name": "stdout",
     "output_type": "stream",
     "text": [
      "Length of train set x: 73 y: 73\n",
      "Length of test set x: 19 y: 19\n"
     ]
    }
   ],
   "source": [
    "total_len = len(data_RFM)\n",
    "train_len = int(0.8 * total_len)\n",
    "\n",
    "X_train = data_RFM.iloc[:, 0:3][:train_len]\n",
    "X_test = data_RFM.iloc[:, 0:3][train_len:]\n",
    "\n",
    "y_train = data_RFM['RFM_Level'][:train_len]\n",
    "y_test = data_RFM['RFM_Level'][train_len:]\n",
    "\n",
    "print(\"Length of train set x:\", X_train.shape[0], \"y:\", y_train.shape[0])\n",
    "print(\"Length of test set x:\", X_test.shape[0], \"y:\", y_test.shape[0])"
   ]
  },
  {
   "cell_type": "code",
   "execution_count": 64,
   "metadata": {},
   "outputs": [],
   "source": [
    "y_train = pd.get_dummies(y_train)\n",
    "y_test = pd.get_dummies(y_test)"
   ]
  },
  {
   "cell_type": "code",
   "execution_count": 65,
   "metadata": {},
   "outputs": [
    {
     "data": {
      "text/html": [
       "<div>\n",
       "<style scoped>\n",
       "    .dataframe tbody tr th:only-of-type {\n",
       "        vertical-align: middle;\n",
       "    }\n",
       "\n",
       "    .dataframe tbody tr th {\n",
       "        vertical-align: top;\n",
       "    }\n",
       "\n",
       "    .dataframe thead th {\n",
       "        text-align: right;\n",
       "    }\n",
       "</style>\n",
       "<table border=\"1\" class=\"dataframe\">\n",
       "  <thead>\n",
       "    <tr style=\"text-align: right;\">\n",
       "      <th></th>\n",
       "      <th>Recency</th>\n",
       "      <th>Frequency</th>\n",
       "      <th>Monetary_Value</th>\n",
       "    </tr>\n",
       "    <tr>\n",
       "      <th>CUSTOMER_NAME</th>\n",
       "      <th></th>\n",
       "      <th></th>\n",
       "      <th></th>\n",
       "    </tr>\n",
       "  </thead>\n",
       "  <tbody>\n",
       "    <tr>\n",
       "      <th>AV Stores, Co.</th>\n",
       "      <td>196</td>\n",
       "      <td>51</td>\n",
       "      <td>157807.81</td>\n",
       "    </tr>\n",
       "    <tr>\n",
       "      <th>Alpha Cognac</th>\n",
       "      <td>65</td>\n",
       "      <td>20</td>\n",
       "      <td>70488.44</td>\n",
       "    </tr>\n",
       "    <tr>\n",
       "      <th>Amica Models &amp; Co.</th>\n",
       "      <td>265</td>\n",
       "      <td>26</td>\n",
       "      <td>94117.26</td>\n",
       "    </tr>\n",
       "    <tr>\n",
       "      <th>Anna's Decorations, Ltd</th>\n",
       "      <td>84</td>\n",
       "      <td>46</td>\n",
       "      <td>153996.13</td>\n",
       "    </tr>\n",
       "    <tr>\n",
       "      <th>Atelier graphique</th>\n",
       "      <td>188</td>\n",
       "      <td>7</td>\n",
       "      <td>24179.96</td>\n",
       "    </tr>\n",
       "  </tbody>\n",
       "</table>\n",
       "</div>"
      ],
      "text/plain": [
       "                         Recency  Frequency  Monetary_Value\n",
       "CUSTOMER_NAME                                              \n",
       "AV Stores, Co.               196         51       157807.81\n",
       "Alpha Cognac                  65         20        70488.44\n",
       "Amica Models & Co.           265         26        94117.26\n",
       "Anna's Decorations, Ltd       84         46       153996.13\n",
       "Atelier graphique            188          7        24179.96"
      ]
     },
     "execution_count": 65,
     "metadata": {},
     "output_type": "execute_result"
    }
   ],
   "source": [
    "X_train.head()"
   ]
  },
  {
   "cell_type": "code",
   "execution_count": 66,
   "metadata": {},
   "outputs": [
    {
     "data": {
      "text/html": [
       "<div>\n",
       "<style scoped>\n",
       "    .dataframe tbody tr th:only-of-type {\n",
       "        vertical-align: middle;\n",
       "    }\n",
       "\n",
       "    .dataframe tbody tr th {\n",
       "        vertical-align: top;\n",
       "    }\n",
       "\n",
       "    .dataframe thead th {\n",
       "        text-align: right;\n",
       "    }\n",
       "</style>\n",
       "<table border=\"1\" class=\"dataframe\">\n",
       "  <thead>\n",
       "    <tr style=\"text-align: right;\">\n",
       "      <th></th>\n",
       "      <th>Recency</th>\n",
       "      <th>Frequency</th>\n",
       "      <th>Monetary_Value</th>\n",
       "    </tr>\n",
       "    <tr>\n",
       "      <th>CUSTOMER_NAME</th>\n",
       "      <th></th>\n",
       "      <th></th>\n",
       "      <th></th>\n",
       "    </tr>\n",
       "  </thead>\n",
       "  <tbody>\n",
       "    <tr>\n",
       "      <th>Signal Collectibles Ltd.</th>\n",
       "      <td>477</td>\n",
       "      <td>15</td>\n",
       "      <td>50218.51</td>\n",
       "    </tr>\n",
       "    <tr>\n",
       "      <th>Signal Gift Stores</th>\n",
       "      <td>184</td>\n",
       "      <td>29</td>\n",
       "      <td>82751.08</td>\n",
       "    </tr>\n",
       "    <tr>\n",
       "      <th>Souveniers And Things Co.</th>\n",
       "      <td>3</td>\n",
       "      <td>46</td>\n",
       "      <td>151570.98</td>\n",
       "    </tr>\n",
       "    <tr>\n",
       "      <th>Stylish Desk Decors, Co.</th>\n",
       "      <td>180</td>\n",
       "      <td>26</td>\n",
       "      <td>88804.50</td>\n",
       "    </tr>\n",
       "    <tr>\n",
       "      <th>Suominen Souveniers</th>\n",
       "      <td>146</td>\n",
       "      <td>29</td>\n",
       "      <td>103354.95</td>\n",
       "    </tr>\n",
       "  </tbody>\n",
       "</table>\n",
       "</div>"
      ],
      "text/plain": [
       "                           Recency  Frequency  Monetary_Value\n",
       "CUSTOMER_NAME                                                \n",
       "Signal Collectibles Ltd.       477         15        50218.51\n",
       "Signal Gift Stores             184         29        82751.08\n",
       "Souveniers And Things Co.        3         46       151570.98\n",
       "Stylish Desk Decors, Co.       180         26        88804.50\n",
       "Suominen Souveniers            146         29       103354.95"
      ]
     },
     "execution_count": 66,
     "metadata": {},
     "output_type": "execute_result"
    }
   ],
   "source": [
    "X_test.head()"
   ]
  },
  {
   "cell_type": "code",
   "execution_count": 67,
   "metadata": {},
   "outputs": [
    {
     "data": {
      "text/html": [
       "<div>\n",
       "<style scoped>\n",
       "    .dataframe tbody tr th:only-of-type {\n",
       "        vertical-align: middle;\n",
       "    }\n",
       "\n",
       "    .dataframe tbody tr th {\n",
       "        vertical-align: top;\n",
       "    }\n",
       "\n",
       "    .dataframe thead th {\n",
       "        text-align: right;\n",
       "    }\n",
       "</style>\n",
       "<table border=\"1\" class=\"dataframe\">\n",
       "  <thead>\n",
       "    <tr style=\"text-align: right;\">\n",
       "      <th></th>\n",
       "      <th>High Value Customer</th>\n",
       "      <th>Low Value Customer</th>\n",
       "      <th>Mid Value Customer</th>\n",
       "    </tr>\n",
       "    <tr>\n",
       "      <th>CUSTOMER_NAME</th>\n",
       "      <th></th>\n",
       "      <th></th>\n",
       "      <th></th>\n",
       "    </tr>\n",
       "  </thead>\n",
       "  <tbody>\n",
       "    <tr>\n",
       "      <th>AV Stores, Co.</th>\n",
       "      <td>1</td>\n",
       "      <td>0</td>\n",
       "      <td>0</td>\n",
       "    </tr>\n",
       "    <tr>\n",
       "      <th>Alpha Cognac</th>\n",
       "      <td>0</td>\n",
       "      <td>0</td>\n",
       "      <td>1</td>\n",
       "    </tr>\n",
       "    <tr>\n",
       "      <th>Amica Models &amp; Co.</th>\n",
       "      <td>0</td>\n",
       "      <td>0</td>\n",
       "      <td>1</td>\n",
       "    </tr>\n",
       "    <tr>\n",
       "      <th>Anna's Decorations, Ltd</th>\n",
       "      <td>1</td>\n",
       "      <td>0</td>\n",
       "      <td>0</td>\n",
       "    </tr>\n",
       "    <tr>\n",
       "      <th>Atelier graphique</th>\n",
       "      <td>0</td>\n",
       "      <td>0</td>\n",
       "      <td>1</td>\n",
       "    </tr>\n",
       "  </tbody>\n",
       "</table>\n",
       "</div>"
      ],
      "text/plain": [
       "                         High Value Customer  Low Value Customer  \\\n",
       "CUSTOMER_NAME                                                      \n",
       "AV Stores, Co.                             1                   0   \n",
       "Alpha Cognac                               0                   0   \n",
       "Amica Models & Co.                         0                   0   \n",
       "Anna's Decorations, Ltd                    1                   0   \n",
       "Atelier graphique                          0                   0   \n",
       "\n",
       "                         Mid Value Customer  \n",
       "CUSTOMER_NAME                                \n",
       "AV Stores, Co.                            0  \n",
       "Alpha Cognac                              1  \n",
       "Amica Models & Co.                        1  \n",
       "Anna's Decorations, Ltd                   0  \n",
       "Atelier graphique                         1  "
      ]
     },
     "execution_count": 67,
     "metadata": {},
     "output_type": "execute_result"
    }
   ],
   "source": [
    "y_train.head()"
   ]
  },
  {
   "cell_type": "code",
   "execution_count": 68,
   "metadata": {},
   "outputs": [
    {
     "data": {
      "text/html": [
       "<div>\n",
       "<style scoped>\n",
       "    .dataframe tbody tr th:only-of-type {\n",
       "        vertical-align: middle;\n",
       "    }\n",
       "\n",
       "    .dataframe tbody tr th {\n",
       "        vertical-align: top;\n",
       "    }\n",
       "\n",
       "    .dataframe thead th {\n",
       "        text-align: right;\n",
       "    }\n",
       "</style>\n",
       "<table border=\"1\" class=\"dataframe\">\n",
       "  <thead>\n",
       "    <tr style=\"text-align: right;\">\n",
       "      <th></th>\n",
       "      <th>High Value Customer</th>\n",
       "      <th>Low Value Customer</th>\n",
       "      <th>Mid Value Customer</th>\n",
       "    </tr>\n",
       "    <tr>\n",
       "      <th>CUSTOMER_NAME</th>\n",
       "      <th></th>\n",
       "      <th></th>\n",
       "      <th></th>\n",
       "    </tr>\n",
       "  </thead>\n",
       "  <tbody>\n",
       "    <tr>\n",
       "      <th>Signal Collectibles Ltd.</th>\n",
       "      <td>0</td>\n",
       "      <td>1</td>\n",
       "      <td>0</td>\n",
       "    </tr>\n",
       "    <tr>\n",
       "      <th>Signal Gift Stores</th>\n",
       "      <td>0</td>\n",
       "      <td>0</td>\n",
       "      <td>1</td>\n",
       "    </tr>\n",
       "    <tr>\n",
       "      <th>Souveniers And Things Co.</th>\n",
       "      <td>1</td>\n",
       "      <td>0</td>\n",
       "      <td>0</td>\n",
       "    </tr>\n",
       "    <tr>\n",
       "      <th>Stylish Desk Decors, Co.</th>\n",
       "      <td>0</td>\n",
       "      <td>0</td>\n",
       "      <td>1</td>\n",
       "    </tr>\n",
       "    <tr>\n",
       "      <th>Suominen Souveniers</th>\n",
       "      <td>1</td>\n",
       "      <td>0</td>\n",
       "      <td>0</td>\n",
       "    </tr>\n",
       "  </tbody>\n",
       "</table>\n",
       "</div>"
      ],
      "text/plain": [
       "                           High Value Customer  Low Value Customer  \\\n",
       "CUSTOMER_NAME                                                        \n",
       "Signal Collectibles Ltd.                     0                   1   \n",
       "Signal Gift Stores                           0                   0   \n",
       "Souveniers And Things Co.                    1                   0   \n",
       "Stylish Desk Decors, Co.                     0                   0   \n",
       "Suominen Souveniers                          1                   0   \n",
       "\n",
       "                           Mid Value Customer  \n",
       "CUSTOMER_NAME                                  \n",
       "Signal Collectibles Ltd.                    0  \n",
       "Signal Gift Stores                          1  \n",
       "Souveniers And Things Co.                   0  \n",
       "Stylish Desk Decors, Co.                    1  \n",
       "Suominen Souveniers                         0  "
      ]
     },
     "execution_count": 68,
     "metadata": {},
     "output_type": "execute_result"
    }
   ],
   "source": [
    "y_test.head()"
   ]
  },
  {
   "cell_type": "markdown",
   "metadata": {},
   "source": [
    "Build the model"
   ]
  },
  {
   "cell_type": "code",
   "execution_count": 69,
   "metadata": {},
   "outputs": [],
   "source": [
    "model = Sequential()\n",
    "model.add(Dense(500, input_dim = 3, activation = 'relu'))\n",
    "# model.add(Dense(500, activation = 'relu'))\n",
    "# model.add(Dense(300, activation = 'relu'))\n",
    "model.add(Dropout(0.2))\n",
    "model.add(Dense(3, activation = 'softmax'))\n",
    "model.compile(loss = 'categorical_crossentropy', optimizer = 'adam', metrics = ['accuracy'])"
   ]
  },
  {
   "cell_type": "code",
   "execution_count": 70,
   "metadata": {},
   "outputs": [
    {
     "name": "stdout",
     "output_type": "stream",
     "text": [
      "Model: \"sequential_1\"\n",
      "_________________________________________________________________\n",
      "Layer (type)                 Output Shape              Param #   \n",
      "=================================================================\n",
      "dense_1 (Dense)              (None, 500)               2000      \n",
      "_________________________________________________________________\n",
      "dropout_1 (Dropout)          (None, 500)               0         \n",
      "_________________________________________________________________\n",
      "dense_2 (Dense)              (None, 3)                 1503      \n",
      "=================================================================\n",
      "Total params: 3,503\n",
      "Trainable params: 3,503\n",
      "Non-trainable params: 0\n",
      "_________________________________________________________________\n"
     ]
    }
   ],
   "source": [
    "model.summary()"
   ]
  },
  {
   "cell_type": "code",
   "execution_count": 71,
   "metadata": {},
   "outputs": [
    {
     "name": "stdout",
     "output_type": "stream",
     "text": [
      "Train on 73 samples, validate on 19 samples\n",
      "Epoch 1/100\n",
      "73/73 [==============================] - 0s 3ms/step - loss: 2480.1747 - accuracy: 0.2603 - val_loss: 2639.7483 - val_accuracy: 0.4211\n",
      "Epoch 2/100\n",
      "73/73 [==============================] - 0s 92us/step - loss: 2284.2799 - accuracy: 0.4110 - val_loss: 1206.7203 - val_accuracy: 0.4211\n",
      "Epoch 3/100\n",
      "73/73 [==============================] - 0s 97us/step - loss: 2034.4954 - accuracy: 0.3836 - val_loss: 623.6847 - val_accuracy: 0.4211\n",
      "Epoch 4/100\n",
      "73/73 [==============================] - 0s 104us/step - loss: 1947.9425 - accuracy: 0.3014 - val_loss: 603.4576 - val_accuracy: 0.4211\n",
      "Epoch 5/100\n",
      "73/73 [==============================] - 0s 85us/step - loss: 1693.5722 - accuracy: 0.4521 - val_loss: 495.3473 - val_accuracy: 0.4211\n",
      "Epoch 6/100\n",
      "73/73 [==============================] - 0s 72us/step - loss: 1840.7837 - accuracy: 0.3973 - val_loss: 1310.0822 - val_accuracy: 0.4211\n",
      "Epoch 7/100\n",
      "73/73 [==============================] - 0s 79us/step - loss: 1910.0967 - accuracy: 0.4795 - val_loss: 1971.3727 - val_accuracy: 0.4211\n",
      "Epoch 8/100\n",
      "73/73 [==============================] - 0s 77us/step - loss: 1921.1920 - accuracy: 0.3836 - val_loss: 1017.9370 - val_accuracy: 0.4211\n",
      "Epoch 9/100\n",
      "73/73 [==============================] - 0s 83us/step - loss: 1370.3462 - accuracy: 0.4247 - val_loss: 104.8509 - val_accuracy: 0.4211\n",
      "Epoch 10/100\n",
      "73/73 [==============================] - 0s 78us/step - loss: 2287.3095 - accuracy: 0.3151 - val_loss: 412.5461 - val_accuracy: 0.4211\n",
      "Epoch 11/100\n",
      "73/73 [==============================] - 0s 76us/step - loss: 1693.5499 - accuracy: 0.4110 - val_loss: 1577.4174 - val_accuracy: 0.4211\n",
      "Epoch 12/100\n",
      "73/73 [==============================] - 0s 72us/step - loss: 1808.0933 - accuracy: 0.4521 - val_loss: 1859.9495 - val_accuracy: 0.4211\n",
      "Epoch 13/100\n",
      "73/73 [==============================] - 0s 87us/step - loss: 1918.2862 - accuracy: 0.4384 - val_loss: 1438.4274 - val_accuracy: 0.4211\n",
      "Epoch 14/100\n",
      "73/73 [==============================] - 0s 90us/step - loss: 1999.9718 - accuracy: 0.3973 - val_loss: 1213.0751 - val_accuracy: 0.4211\n",
      "Epoch 15/100\n",
      "73/73 [==============================] - 0s 90us/step - loss: 1478.2018 - accuracy: 0.3836 - val_loss: 1703.4883 - val_accuracy: 0.4211\n",
      "Epoch 16/100\n",
      "73/73 [==============================] - 0s 77us/step - loss: 1543.7966 - accuracy: 0.4110 - val_loss: 1226.4517 - val_accuracy: 0.4211\n",
      "Epoch 17/100\n",
      "73/73 [==============================] - 0s 76us/step - loss: 1538.4509 - accuracy: 0.4110 - val_loss: 103.6131 - val_accuracy: 0.5263\n",
      "Epoch 18/100\n",
      "73/73 [==============================] - 0s 82us/step - loss: 2779.5719 - accuracy: 0.2877 - val_loss: 67.2032 - val_accuracy: 0.5263\n",
      "Epoch 19/100\n",
      "73/73 [==============================] - 0s 73us/step - loss: 2445.5202 - accuracy: 0.3288 - val_loss: 913.5121 - val_accuracy: 0.4211\n",
      "Epoch 20/100\n",
      "73/73 [==============================] - 0s 88us/step - loss: 1500.3854 - accuracy: 0.4658 - val_loss: 2101.2729 - val_accuracy: 0.4211\n",
      "Epoch 21/100\n",
      "73/73 [==============================] - 0s 80us/step - loss: 1856.4522 - accuracy: 0.4384 - val_loss: 1954.8746 - val_accuracy: 0.4211\n",
      "Epoch 22/100\n",
      "73/73 [==============================] - 0s 104us/step - loss: 1729.2048 - accuracy: 0.3836 - val_loss: 888.2524 - val_accuracy: 0.4211\n",
      "Epoch 23/100\n",
      "73/73 [==============================] - 0s 80us/step - loss: 1561.5542 - accuracy: 0.3836 - val_loss: 223.5895 - val_accuracy: 0.5263\n",
      "Epoch 24/100\n",
      "73/73 [==============================] - 0s 82us/step - loss: 1713.8625 - accuracy: 0.4110 - val_loss: 568.5710 - val_accuracy: 0.4211\n",
      "Epoch 25/100\n",
      "73/73 [==============================] - 0s 77us/step - loss: 1651.5889 - accuracy: 0.3288 - val_loss: 944.6188 - val_accuracy: 0.4211\n",
      "Epoch 26/100\n",
      "73/73 [==============================] - 0s 86us/step - loss: 1506.1851 - accuracy: 0.3425 - val_loss: 1366.9426 - val_accuracy: 0.4211\n",
      "Epoch 27/100\n",
      "73/73 [==============================] - 0s 84us/step - loss: 1381.4869 - accuracy: 0.3973 - val_loss: 1399.6637 - val_accuracy: 0.4211\n",
      "Epoch 28/100\n",
      "73/73 [==============================] - 0s 86us/step - loss: 1763.6209 - accuracy: 0.4247 - val_loss: 1578.5244 - val_accuracy: 0.4211\n",
      "Epoch 29/100\n",
      "73/73 [==============================] - 0s 74us/step - loss: 1340.4535 - accuracy: 0.4247 - val_loss: 928.6078 - val_accuracy: 0.4211\n",
      "Epoch 30/100\n",
      "73/73 [==============================] - 0s 79us/step - loss: 1449.4106 - accuracy: 0.4658 - val_loss: 338.1218 - val_accuracy: 0.4211\n",
      "Epoch 31/100\n",
      "73/73 [==============================] - 0s 97us/step - loss: 1628.0380 - accuracy: 0.3973 - val_loss: 317.1611 - val_accuracy: 0.6842\n",
      "Epoch 32/100\n",
      "73/73 [==============================] - 0s 146us/step - loss: 1866.1248 - accuracy: 0.3699 - val_loss: 632.4693 - val_accuracy: 0.4211\n",
      "Epoch 33/100\n",
      "73/73 [==============================] - 0s 86us/step - loss: 1820.6415 - accuracy: 0.3014 - val_loss: 1636.8361 - val_accuracy: 0.4211\n",
      "Epoch 34/100\n",
      "73/73 [==============================] - 0s 84us/step - loss: 1597.4064 - accuracy: 0.4247 - val_loss: 1829.4186 - val_accuracy: 0.4211\n",
      "Epoch 35/100\n",
      "73/73 [==============================] - 0s 78us/step - loss: 1961.4739 - accuracy: 0.3562 - val_loss: 1293.2344 - val_accuracy: 0.4211\n",
      "Epoch 36/100\n",
      "73/73 [==============================] - 0s 80us/step - loss: 1281.2374 - accuracy: 0.4384 - val_loss: 582.1106 - val_accuracy: 0.4211\n",
      "Epoch 37/100\n",
      "73/73 [==============================] - 0s 75us/step - loss: 1323.6104 - accuracy: 0.3836 - val_loss: 214.1165 - val_accuracy: 0.5263\n",
      "Epoch 38/100\n",
      "73/73 [==============================] - 0s 80us/step - loss: 1304.7430 - accuracy: 0.4795 - val_loss: 668.2684 - val_accuracy: 0.4211\n",
      "Epoch 39/100\n",
      "73/73 [==============================] - 0s 88us/step - loss: 1899.5707 - accuracy: 0.3151 - val_loss: 1730.4222 - val_accuracy: 0.4211\n",
      "Epoch 40/100\n",
      "73/73 [==============================] - 0s 78us/step - loss: 1586.0772 - accuracy: 0.4795 - val_loss: 1929.6168 - val_accuracy: 0.4211\n",
      "Epoch 41/100\n",
      "73/73 [==============================] - 0s 73us/step - loss: 1571.1077 - accuracy: 0.4247 - val_loss: 1320.3357 - val_accuracy: 0.4211\n",
      "Epoch 42/100\n",
      "73/73 [==============================] - 0s 79us/step - loss: 1638.6484 - accuracy: 0.4247 - val_loss: 744.0533 - val_accuracy: 0.4211\n",
      "Epoch 43/100\n",
      "73/73 [==============================] - 0s 91us/step - loss: 1118.1847 - accuracy: 0.4658 - val_loss: 380.6145 - val_accuracy: 0.4211\n",
      "Epoch 44/100\n",
      "73/73 [==============================] - 0s 83us/step - loss: 1706.0799 - accuracy: 0.3562 - val_loss: 422.6187 - val_accuracy: 0.4211\n",
      "Epoch 45/100\n",
      "73/73 [==============================] - 0s 88us/step - loss: 1339.6396 - accuracy: 0.3425 - val_loss: 558.7562 - val_accuracy: 0.4211\n",
      "Epoch 46/100\n",
      "73/73 [==============================] - 0s 80us/step - loss: 1297.8840 - accuracy: 0.3973 - val_loss: 795.9234 - val_accuracy: 0.4211\n",
      "Epoch 47/100\n",
      "73/73 [==============================] - 0s 84us/step - loss: 1246.0600 - accuracy: 0.3288 - val_loss: 769.3766 - val_accuracy: 0.4211\n",
      "Epoch 48/100\n",
      "73/73 [==============================] - 0s 129us/step - loss: 1178.8332 - accuracy: 0.3699 - val_loss: 493.7662 - val_accuracy: 0.4211\n",
      "Epoch 49/100\n",
      "73/73 [==============================] - 0s 75us/step - loss: 1412.8356 - accuracy: 0.3836 - val_loss: 614.2635 - val_accuracy: 0.4211\n",
      "Epoch 50/100\n",
      "73/73 [==============================] - 0s 81us/step - loss: 979.0718 - accuracy: 0.4521 - val_loss: 587.3618 - val_accuracy: 0.4211\n",
      "Epoch 51/100\n",
      "73/73 [==============================] - 0s 79us/step - loss: 852.9639 - accuracy: 0.4521 - val_loss: 605.2082 - val_accuracy: 0.4211\n",
      "Epoch 52/100\n",
      "73/73 [==============================] - 0s 75us/step - loss: 954.9803 - accuracy: 0.3562 - val_loss: 691.6949 - val_accuracy: 0.4211\n",
      "Epoch 53/100\n",
      "73/73 [==============================] - 0s 84us/step - loss: 962.2126 - accuracy: 0.3973 - val_loss: 560.8751 - val_accuracy: 0.4211\n",
      "Epoch 54/100\n",
      "73/73 [==============================] - 0s 82us/step - loss: 1100.2753 - accuracy: 0.3699 - val_loss: 444.0648 - val_accuracy: 0.4211\n",
      "Epoch 55/100\n",
      "73/73 [==============================] - 0s 79us/step - loss: 1206.5810 - accuracy: 0.3836 - val_loss: 720.8173 - val_accuracy: 0.4211\n"
     ]
    },
    {
     "name": "stdout",
     "output_type": "stream",
     "text": [
      "Epoch 56/100\n",
      "73/73 [==============================] - 0s 75us/step - loss: 1041.4242 - accuracy: 0.4110 - val_loss: 830.6151 - val_accuracy: 0.4211\n",
      "Epoch 57/100\n",
      "73/73 [==============================] - 0s 87us/step - loss: 703.6394 - accuracy: 0.4795 - val_loss: 1142.4451 - val_accuracy: 0.4211\n",
      "Epoch 58/100\n",
      "73/73 [==============================] - 0s 78us/step - loss: 1291.5519 - accuracy: 0.4247 - val_loss: 937.9075 - val_accuracy: 0.4211\n",
      "Epoch 59/100\n",
      "73/73 [==============================] - 0s 92us/step - loss: 1387.5443 - accuracy: 0.4110 - val_loss: 376.5732 - val_accuracy: 0.5263\n",
      "Epoch 60/100\n",
      "73/73 [==============================] - 0s 79us/step - loss: 1103.6027 - accuracy: 0.3973 - val_loss: 209.8081 - val_accuracy: 0.4211\n",
      "Epoch 61/100\n",
      "73/73 [==============================] - 0s 78us/step - loss: 1224.4988 - accuracy: 0.3562 - val_loss: 879.1295 - val_accuracy: 0.4211\n",
      "Epoch 62/100\n",
      "73/73 [==============================] - 0s 78us/step - loss: 1037.8906 - accuracy: 0.4247 - val_loss: 944.0512 - val_accuracy: 0.4211\n",
      "Epoch 63/100\n",
      "73/73 [==============================] - 0s 82us/step - loss: 1104.7673 - accuracy: 0.4247 - val_loss: 460.0206 - val_accuracy: 0.4211\n",
      "Epoch 64/100\n",
      "73/73 [==============================] - 0s 86us/step - loss: 782.5637 - accuracy: 0.4658 - val_loss: 133.4894 - val_accuracy: 0.5789\n",
      "Epoch 65/100\n",
      "73/73 [==============================] - 0s 110us/step - loss: 1126.4199 - accuracy: 0.4110 - val_loss: 85.7956 - val_accuracy: 0.5789\n",
      "Epoch 66/100\n",
      "73/73 [==============================] - 0s 84us/step - loss: 1137.7621 - accuracy: 0.3973 - val_loss: 432.0673 - val_accuracy: 0.4211\n",
      "Epoch 67/100\n",
      "73/73 [==============================] - 0s 79us/step - loss: 1119.0662 - accuracy: 0.4521 - val_loss: 933.5317 - val_accuracy: 0.4211\n",
      "Epoch 68/100\n",
      "73/73 [==============================] - 0s 72us/step - loss: 801.0458 - accuracy: 0.4521 - val_loss: 630.3297 - val_accuracy: 0.4211\n",
      "Epoch 69/100\n",
      "73/73 [==============================] - 0s 75us/step - loss: 737.7003 - accuracy: 0.4932 - val_loss: 72.7457 - val_accuracy: 0.4211\n",
      "Epoch 70/100\n",
      "73/73 [==============================] - 0s 75us/step - loss: 1317.5626 - accuracy: 0.3699 - val_loss: 80.7599 - val_accuracy: 0.5263\n",
      "Epoch 71/100\n",
      "73/73 [==============================] - 0s 86us/step - loss: 1151.0859 - accuracy: 0.4521 - val_loss: 1121.9336 - val_accuracy: 0.4211\n",
      "Epoch 72/100\n",
      "73/73 [==============================] - 0s 79us/step - loss: 1341.5157 - accuracy: 0.4110 - val_loss: 1319.1436 - val_accuracy: 0.4211\n",
      "Epoch 73/100\n",
      "73/73 [==============================] - 0s 84us/step - loss: 1246.9877 - accuracy: 0.3973 - val_loss: 953.0819 - val_accuracy: 0.4211\n",
      "Epoch 74/100\n",
      "73/73 [==============================] - 0s 88us/step - loss: 1022.3511 - accuracy: 0.4247 - val_loss: 431.1198 - val_accuracy: 0.4211\n",
      "Epoch 75/100\n",
      "73/73 [==============================] - 0s 84us/step - loss: 955.6543 - accuracy: 0.3973 - val_loss: 240.9856 - val_accuracy: 0.4211\n",
      "Epoch 76/100\n",
      "73/73 [==============================] - 0s 74us/step - loss: 1680.6837 - accuracy: 0.4110 - val_loss: 653.7114 - val_accuracy: 0.4211\n",
      "Epoch 77/100\n",
      "73/73 [==============================] - 0s 74us/step - loss: 1039.5307 - accuracy: 0.4384 - val_loss: 1094.0177 - val_accuracy: 0.4211\n",
      "Epoch 78/100\n",
      "73/73 [==============================] - 0s 73us/step - loss: 971.7596 - accuracy: 0.4247 - val_loss: 769.8463 - val_accuracy: 0.4737\n",
      "Epoch 79/100\n",
      "73/73 [==============================] - 0s 77us/step - loss: 749.0702 - accuracy: 0.4795 - val_loss: 39.2097 - val_accuracy: 0.5789\n",
      "Epoch 80/100\n",
      "73/73 [==============================] - 0s 77us/step - loss: 1040.2653 - accuracy: 0.3836 - val_loss: 72.2248 - val_accuracy: 0.5789\n",
      "Epoch 81/100\n",
      "73/73 [==============================] - 0s 78us/step - loss: 1078.5416 - accuracy: 0.3836 - val_loss: 950.9216 - val_accuracy: 0.4211\n",
      "Epoch 82/100\n",
      "73/73 [==============================] - 0s 78us/step - loss: 922.0686 - accuracy: 0.4658 - val_loss: 1802.3024 - val_accuracy: 0.4211\n",
      "Epoch 83/100\n",
      "73/73 [==============================] - 0s 83us/step - loss: 1711.4240 - accuracy: 0.4384 - val_loss: 1550.8167 - val_accuracy: 0.4211\n",
      "Epoch 84/100\n",
      "73/73 [==============================] - 0s 93us/step - loss: 1152.3717 - accuracy: 0.4932 - val_loss: 625.8976 - val_accuracy: 0.5263\n",
      "Epoch 85/100\n",
      "73/73 [==============================] - 0s 121us/step - loss: 773.0353 - accuracy: 0.4247 - val_loss: 44.0534 - val_accuracy: 0.7368\n",
      "Epoch 86/100\n",
      "73/73 [==============================] - 0s 79us/step - loss: 1161.7743 - accuracy: 0.3562 - val_loss: 180.9187 - val_accuracy: 0.5263\n",
      "Epoch 87/100\n",
      "73/73 [==============================] - 0s 80us/step - loss: 922.7104 - accuracy: 0.3699 - val_loss: 1080.3521 - val_accuracy: 0.4211\n",
      "Epoch 88/100\n",
      "73/73 [==============================] - 0s 82us/step - loss: 1046.6233 - accuracy: 0.4658 - val_loss: 1100.1432 - val_accuracy: 0.4211\n",
      "Epoch 89/100\n",
      "73/73 [==============================] - 0s 77us/step - loss: 1002.5944 - accuracy: 0.4110 - val_loss: 548.7643 - val_accuracy: 0.4211\n",
      "Epoch 90/100\n",
      "73/73 [==============================] - 0s 78us/step - loss: 682.1363 - accuracy: 0.3973 - val_loss: 107.4854 - val_accuracy: 0.6316\n",
      "Epoch 91/100\n",
      "73/73 [==============================] - 0s 77us/step - loss: 797.9551 - accuracy: 0.4110 - val_loss: 136.5495 - val_accuracy: 0.5263\n",
      "Epoch 92/100\n",
      "73/73 [==============================] - 0s 82us/step - loss: 820.5615 - accuracy: 0.3973 - val_loss: 990.5485 - val_accuracy: 0.4211\n",
      "Epoch 93/100\n",
      "73/73 [==============================] - 0s 78us/step - loss: 1066.2102 - accuracy: 0.3699 - val_loss: 1195.1803 - val_accuracy: 0.4211\n",
      "Epoch 94/100\n",
      "73/73 [==============================] - 0s 74us/step - loss: 1075.2584 - accuracy: 0.4384 - val_loss: 641.8791 - val_accuracy: 0.4211\n",
      "Epoch 95/100\n",
      "73/73 [==============================] - 0s 94us/step - loss: 1119.8424 - accuracy: 0.4247 - val_loss: 274.2814 - val_accuracy: 0.4211\n",
      "Epoch 96/100\n",
      "73/73 [==============================] - 0s 78us/step - loss: 779.5781 - accuracy: 0.5068 - val_loss: 202.2832 - val_accuracy: 0.4211\n",
      "Epoch 97/100\n",
      "73/73 [==============================] - 0s 74us/step - loss: 600.6109 - accuracy: 0.4658 - val_loss: 362.6181 - val_accuracy: 0.5263\n",
      "Epoch 98/100\n",
      "73/73 [==============================] - 0s 71us/step - loss: 865.1916 - accuracy: 0.4247 - val_loss: 539.0765 - val_accuracy: 0.5263\n",
      "Epoch 99/100\n",
      "73/73 [==============================] - 0s 104us/step - loss: 836.2958 - accuracy: 0.3836 - val_loss: 652.9148 - val_accuracy: 0.5263\n",
      "Epoch 100/100\n",
      "73/73 [==============================] - 0s 125us/step - loss: 689.7318 - accuracy: 0.4247 - val_loss: 632.3071 - val_accuracy: 0.4211\n"
     ]
    },
    {
     "data": {
      "text/plain": [
       "<keras.callbacks.callbacks.History at 0x7fad587b5fd0>"
      ]
     },
     "execution_count": 71,
     "metadata": {},
     "output_type": "execute_result"
    }
   ],
   "source": [
    "model.fit(X_train, y_train, validation_data = (X_test, y_test), epochs = 100, verbose = 1)"
   ]
  },
  {
   "cell_type": "markdown",
   "metadata": {},
   "source": [
    "Data augmentation"
   ]
  },
  {
   "cell_type": "code",
   "execution_count": 72,
   "metadata": {},
   "outputs": [],
   "source": [
    "copy_1_data_RFM = data_RFM.copy()"
   ]
  },
  {
   "cell_type": "code",
   "execution_count": 73,
   "metadata": {},
   "outputs": [],
   "source": [
    "copy_1_data_RFM['Recency'] = copy_1_data_RFM['Recency'] + 5\n",
    "copy_1_data_RFM['Frequency'] = copy_1_data_RFM['Frequency'] + 5\n",
    "copy_1_data_RFM['Monetary_Value'] = copy_1_data_RFM['Monetary_Value'] + 5"
   ]
  },
  {
   "cell_type": "code",
   "execution_count": 74,
   "metadata": {},
   "outputs": [
    {
     "data": {
      "text/html": [
       "<div>\n",
       "<style scoped>\n",
       "    .dataframe tbody tr th:only-of-type {\n",
       "        vertical-align: middle;\n",
       "    }\n",
       "\n",
       "    .dataframe tbody tr th {\n",
       "        vertical-align: top;\n",
       "    }\n",
       "\n",
       "    .dataframe thead th {\n",
       "        text-align: right;\n",
       "    }\n",
       "</style>\n",
       "<table border=\"1\" class=\"dataframe\">\n",
       "  <thead>\n",
       "    <tr style=\"text-align: right;\">\n",
       "      <th></th>\n",
       "      <th>Recency</th>\n",
       "      <th>Frequency</th>\n",
       "      <th>Monetary_Value</th>\n",
       "      <th>R</th>\n",
       "      <th>F</th>\n",
       "      <th>M</th>\n",
       "      <th>RFM_Score</th>\n",
       "      <th>RFM_Level</th>\n",
       "    </tr>\n",
       "    <tr>\n",
       "      <th>CUSTOMER_NAME</th>\n",
       "      <th></th>\n",
       "      <th></th>\n",
       "      <th></th>\n",
       "      <th></th>\n",
       "      <th></th>\n",
       "      <th></th>\n",
       "      <th></th>\n",
       "      <th></th>\n",
       "    </tr>\n",
       "  </thead>\n",
       "  <tbody>\n",
       "    <tr>\n",
       "      <th>AV Stores, Co.</th>\n",
       "      <td>201</td>\n",
       "      <td>56</td>\n",
       "      <td>157812.81</td>\n",
       "      <td>2</td>\n",
       "      <td>3</td>\n",
       "      <td>3</td>\n",
       "      <td>8.0</td>\n",
       "      <td>High Value Customer</td>\n",
       "    </tr>\n",
       "    <tr>\n",
       "      <th>Alpha Cognac</th>\n",
       "      <td>70</td>\n",
       "      <td>25</td>\n",
       "      <td>70493.44</td>\n",
       "      <td>3</td>\n",
       "      <td>1</td>\n",
       "      <td>1</td>\n",
       "      <td>5.0</td>\n",
       "      <td>Mid Value Customer</td>\n",
       "    </tr>\n",
       "    <tr>\n",
       "      <th>Amica Models &amp; Co.</th>\n",
       "      <td>270</td>\n",
       "      <td>31</td>\n",
       "      <td>94122.26</td>\n",
       "      <td>1</td>\n",
       "      <td>2</td>\n",
       "      <td>2</td>\n",
       "      <td>5.0</td>\n",
       "      <td>Mid Value Customer</td>\n",
       "    </tr>\n",
       "    <tr>\n",
       "      <th>Anna's Decorations, Ltd</th>\n",
       "      <td>89</td>\n",
       "      <td>51</td>\n",
       "      <td>154001.13</td>\n",
       "      <td>3</td>\n",
       "      <td>3</td>\n",
       "      <td>3</td>\n",
       "      <td>9.0</td>\n",
       "      <td>High Value Customer</td>\n",
       "    </tr>\n",
       "    <tr>\n",
       "      <th>Atelier graphique</th>\n",
       "      <td>193</td>\n",
       "      <td>12</td>\n",
       "      <td>24184.96</td>\n",
       "      <td>2</td>\n",
       "      <td>1</td>\n",
       "      <td>1</td>\n",
       "      <td>4.0</td>\n",
       "      <td>Mid Value Customer</td>\n",
       "    </tr>\n",
       "  </tbody>\n",
       "</table>\n",
       "</div>"
      ],
      "text/plain": [
       "                         Recency  Frequency  Monetary_Value  R  F  M  \\\n",
       "CUSTOMER_NAME                                                          \n",
       "AV Stores, Co.               201         56       157812.81  2  3  3   \n",
       "Alpha Cognac                  70         25        70493.44  3  1  1   \n",
       "Amica Models & Co.           270         31        94122.26  1  2  2   \n",
       "Anna's Decorations, Ltd       89         51       154001.13  3  3  3   \n",
       "Atelier graphique            193         12        24184.96  2  1  1   \n",
       "\n",
       "                         RFM_Score            RFM_Level  \n",
       "CUSTOMER_NAME                                            \n",
       "AV Stores, Co.                 8.0  High Value Customer  \n",
       "Alpha Cognac                   5.0   Mid Value Customer  \n",
       "Amica Models & Co.             5.0   Mid Value Customer  \n",
       "Anna's Decorations, Ltd        9.0  High Value Customer  \n",
       "Atelier graphique              4.0   Mid Value Customer  "
      ]
     },
     "execution_count": 74,
     "metadata": {},
     "output_type": "execute_result"
    }
   ],
   "source": [
    "copy_1_data_RFM.head()"
   ]
  },
  {
   "cell_type": "code",
   "execution_count": 75,
   "metadata": {},
   "outputs": [],
   "source": [
    "copy_2_data_RFM = data_RFM.copy()"
   ]
  },
  {
   "cell_type": "code",
   "execution_count": 76,
   "metadata": {},
   "outputs": [],
   "source": [
    "copy_2_data_RFM['Recency'] = copy_2_data_RFM['Recency'] - 5\n",
    "copy_2_data_RFM['Frequency'] = copy_2_data_RFM['Frequency'] - 5\n",
    "copy_2_data_RFM['Monetary_Value'] = copy_2_data_RFM['Monetary_Value'] - 5"
   ]
  },
  {
   "cell_type": "code",
   "execution_count": 77,
   "metadata": {},
   "outputs": [
    {
     "data": {
      "text/html": [
       "<div>\n",
       "<style scoped>\n",
       "    .dataframe tbody tr th:only-of-type {\n",
       "        vertical-align: middle;\n",
       "    }\n",
       "\n",
       "    .dataframe tbody tr th {\n",
       "        vertical-align: top;\n",
       "    }\n",
       "\n",
       "    .dataframe thead th {\n",
       "        text-align: right;\n",
       "    }\n",
       "</style>\n",
       "<table border=\"1\" class=\"dataframe\">\n",
       "  <thead>\n",
       "    <tr style=\"text-align: right;\">\n",
       "      <th></th>\n",
       "      <th>Recency</th>\n",
       "      <th>Frequency</th>\n",
       "      <th>Monetary_Value</th>\n",
       "      <th>R</th>\n",
       "      <th>F</th>\n",
       "      <th>M</th>\n",
       "      <th>RFM_Score</th>\n",
       "      <th>RFM_Level</th>\n",
       "    </tr>\n",
       "    <tr>\n",
       "      <th>CUSTOMER_NAME</th>\n",
       "      <th></th>\n",
       "      <th></th>\n",
       "      <th></th>\n",
       "      <th></th>\n",
       "      <th></th>\n",
       "      <th></th>\n",
       "      <th></th>\n",
       "      <th></th>\n",
       "    </tr>\n",
       "  </thead>\n",
       "  <tbody>\n",
       "    <tr>\n",
       "      <th>AV Stores, Co.</th>\n",
       "      <td>191</td>\n",
       "      <td>46</td>\n",
       "      <td>157802.81</td>\n",
       "      <td>2</td>\n",
       "      <td>3</td>\n",
       "      <td>3</td>\n",
       "      <td>8.0</td>\n",
       "      <td>High Value Customer</td>\n",
       "    </tr>\n",
       "    <tr>\n",
       "      <th>Alpha Cognac</th>\n",
       "      <td>60</td>\n",
       "      <td>15</td>\n",
       "      <td>70483.44</td>\n",
       "      <td>3</td>\n",
       "      <td>1</td>\n",
       "      <td>1</td>\n",
       "      <td>5.0</td>\n",
       "      <td>Mid Value Customer</td>\n",
       "    </tr>\n",
       "    <tr>\n",
       "      <th>Amica Models &amp; Co.</th>\n",
       "      <td>260</td>\n",
       "      <td>21</td>\n",
       "      <td>94112.26</td>\n",
       "      <td>1</td>\n",
       "      <td>2</td>\n",
       "      <td>2</td>\n",
       "      <td>5.0</td>\n",
       "      <td>Mid Value Customer</td>\n",
       "    </tr>\n",
       "    <tr>\n",
       "      <th>Anna's Decorations, Ltd</th>\n",
       "      <td>79</td>\n",
       "      <td>41</td>\n",
       "      <td>153991.13</td>\n",
       "      <td>3</td>\n",
       "      <td>3</td>\n",
       "      <td>3</td>\n",
       "      <td>9.0</td>\n",
       "      <td>High Value Customer</td>\n",
       "    </tr>\n",
       "    <tr>\n",
       "      <th>Atelier graphique</th>\n",
       "      <td>183</td>\n",
       "      <td>2</td>\n",
       "      <td>24174.96</td>\n",
       "      <td>2</td>\n",
       "      <td>1</td>\n",
       "      <td>1</td>\n",
       "      <td>4.0</td>\n",
       "      <td>Mid Value Customer</td>\n",
       "    </tr>\n",
       "  </tbody>\n",
       "</table>\n",
       "</div>"
      ],
      "text/plain": [
       "                         Recency  Frequency  Monetary_Value  R  F  M  \\\n",
       "CUSTOMER_NAME                                                          \n",
       "AV Stores, Co.               191         46       157802.81  2  3  3   \n",
       "Alpha Cognac                  60         15        70483.44  3  1  1   \n",
       "Amica Models & Co.           260         21        94112.26  1  2  2   \n",
       "Anna's Decorations, Ltd       79         41       153991.13  3  3  3   \n",
       "Atelier graphique            183          2        24174.96  2  1  1   \n",
       "\n",
       "                         RFM_Score            RFM_Level  \n",
       "CUSTOMER_NAME                                            \n",
       "AV Stores, Co.                 8.0  High Value Customer  \n",
       "Alpha Cognac                   5.0   Mid Value Customer  \n",
       "Amica Models & Co.             5.0   Mid Value Customer  \n",
       "Anna's Decorations, Ltd        9.0  High Value Customer  \n",
       "Atelier graphique              4.0   Mid Value Customer  "
      ]
     },
     "execution_count": 77,
     "metadata": {},
     "output_type": "execute_result"
    }
   ],
   "source": [
    "copy_2_data_RFM.head()"
   ]
  },
  {
   "cell_type": "code",
   "execution_count": 78,
   "metadata": {},
   "outputs": [],
   "source": [
    "concatenated_data_RFM = pd.concat([data_RFM, copy_1_data_RFM, copy_2_data_RFM])"
   ]
  },
  {
   "cell_type": "code",
   "execution_count": 79,
   "metadata": {},
   "outputs": [
    {
     "name": "stdout",
     "output_type": "stream",
     "text": [
      "Length of train set x: 220 y: 220\n",
      "Length of test set x: 56 y: 56\n"
     ]
    }
   ],
   "source": [
    "total_len = len(concatenated_data_RFM)\n",
    "train_len = int(0.8 * total_len)\n",
    "\n",
    "X_train = concatenated_data_RFM.iloc[:, 0:3][:train_len]\n",
    "X_test = concatenated_data_RFM.iloc[:, 0:3][train_len:]\n",
    "\n",
    "y_train = concatenated_data_RFM['RFM_Level'][:train_len]\n",
    "y_test = concatenated_data_RFM['RFM_Level'][train_len:]\n",
    "\n",
    "print(\"Length of train set x:\", X_train.shape[0], \"y:\", y_train.shape[0])\n",
    "print(\"Length of test set x:\", X_test.shape[0], \"y:\", y_test.shape[0])"
   ]
  },
  {
   "cell_type": "code",
   "execution_count": 80,
   "metadata": {},
   "outputs": [],
   "source": [
    "y_train = pd.get_dummies(y_train)\n",
    "y_test = pd.get_dummies(y_test)"
   ]
  },
  {
   "cell_type": "code",
   "execution_count": 81,
   "metadata": {},
   "outputs": [
    {
     "name": "stdout",
     "output_type": "stream",
     "text": [
      "Train on 220 samples, validate on 56 samples\n",
      "Epoch 1/100\n",
      "220/220 [==============================] - 0s 53us/step - loss: 743.4391 - accuracy: 0.4318 - val_loss: 161.8897 - val_accuracy: 0.6071\n",
      "Epoch 2/100\n",
      "220/220 [==============================] - 0s 48us/step - loss: 693.8553 - accuracy: 0.4773 - val_loss: 599.3862 - val_accuracy: 0.5000\n",
      "Epoch 3/100\n",
      "220/220 [==============================] - 0s 56us/step - loss: 829.1051 - accuracy: 0.4364 - val_loss: 299.9150 - val_accuracy: 0.5179\n",
      "Epoch 4/100\n",
      "220/220 [==============================] - 0s 60us/step - loss: 756.7747 - accuracy: 0.4273 - val_loss: 399.7833 - val_accuracy: 0.4464\n",
      "Epoch 5/100\n",
      "220/220 [==============================] - 0s 56us/step - loss: 769.0820 - accuracy: 0.4182 - val_loss: 361.7580 - val_accuracy: 0.5000\n",
      "Epoch 6/100\n",
      "220/220 [==============================] - 0s 55us/step - loss: 800.3429 - accuracy: 0.4500 - val_loss: 172.5477 - val_accuracy: 0.5714\n",
      "Epoch 7/100\n",
      "220/220 [==============================] - 0s 56us/step - loss: 688.1306 - accuracy: 0.4318 - val_loss: 371.1732 - val_accuracy: 0.4464\n",
      "Epoch 8/100\n",
      "220/220 [==============================] - 0s 59us/step - loss: 683.3237 - accuracy: 0.4227 - val_loss: 252.0491 - val_accuracy: 0.5000\n",
      "Epoch 9/100\n",
      "220/220 [==============================] - 0s 55us/step - loss: 659.4032 - accuracy: 0.4182 - val_loss: 206.7675 - val_accuracy: 0.4464\n",
      "Epoch 10/100\n",
      "220/220 [==============================] - 0s 56us/step - loss: 766.5461 - accuracy: 0.4636 - val_loss: 309.5565 - val_accuracy: 0.4464\n",
      "Epoch 11/100\n",
      "220/220 [==============================] - 0s 54us/step - loss: 598.5282 - accuracy: 0.4455 - val_loss: 107.7360 - val_accuracy: 0.5536\n",
      "Epoch 12/100\n",
      "220/220 [==============================] - 0s 52us/step - loss: 631.7318 - accuracy: 0.3818 - val_loss: 341.1943 - val_accuracy: 0.4821\n",
      "Epoch 13/100\n",
      "220/220 [==============================] - 0s 54us/step - loss: 729.7559 - accuracy: 0.4409 - val_loss: 512.3593 - val_accuracy: 0.5000\n",
      "Epoch 14/100\n",
      "220/220 [==============================] - 0s 53us/step - loss: 572.0816 - accuracy: 0.4636 - val_loss: 104.5150 - val_accuracy: 0.6607\n",
      "Epoch 15/100\n",
      "220/220 [==============================] - 0s 51us/step - loss: 569.4240 - accuracy: 0.4727 - val_loss: 581.1870 - val_accuracy: 0.5000\n",
      "Epoch 16/100\n",
      "220/220 [==============================] - 0s 53us/step - loss: 546.6155 - accuracy: 0.5045 - val_loss: 70.5994 - val_accuracy: 0.6964\n",
      "Epoch 17/100\n",
      "220/220 [==============================] - 0s 53us/step - loss: 505.4467 - accuracy: 0.4273 - val_loss: 302.3140 - val_accuracy: 0.4464\n",
      "Epoch 18/100\n",
      "220/220 [==============================] - 0s 50us/step - loss: 567.1576 - accuracy: 0.4636 - val_loss: 114.4518 - val_accuracy: 0.5357\n",
      "Epoch 19/100\n",
      "220/220 [==============================] - 0s 51us/step - loss: 575.6574 - accuracy: 0.4864 - val_loss: 300.2937 - val_accuracy: 0.5357\n",
      "Epoch 20/100\n",
      "220/220 [==============================] - 0s 49us/step - loss: 470.0861 - accuracy: 0.4455 - val_loss: 127.9854 - val_accuracy: 0.6250\n",
      "Epoch 21/100\n",
      "220/220 [==============================] - 0s 53us/step - loss: 554.6963 - accuracy: 0.4727 - val_loss: 329.4952 - val_accuracy: 0.5357\n",
      "Epoch 22/100\n",
      "220/220 [==============================] - 0s 64us/step - loss: 424.2587 - accuracy: 0.4818 - val_loss: 36.6110 - val_accuracy: 0.7321\n",
      "Epoch 23/100\n",
      "220/220 [==============================] - 0s 54us/step - loss: 415.7399 - accuracy: 0.4591 - val_loss: 296.6747 - val_accuracy: 0.5000\n",
      "Epoch 24/100\n",
      "220/220 [==============================] - 0s 57us/step - loss: 438.8181 - accuracy: 0.5545 - val_loss: 225.3043 - val_accuracy: 0.5000\n",
      "Epoch 25/100\n",
      "220/220 [==============================] - 0s 51us/step - loss: 390.3671 - accuracy: 0.5364 - val_loss: 174.0223 - val_accuracy: 0.5714\n",
      "Epoch 26/100\n",
      "220/220 [==============================] - 0s 50us/step - loss: 454.5438 - accuracy: 0.4864 - val_loss: 257.0027 - val_accuracy: 0.4464\n",
      "Epoch 27/100\n",
      "220/220 [==============================] - 0s 56us/step - loss: 452.3417 - accuracy: 0.4227 - val_loss: 108.5622 - val_accuracy: 0.6071\n",
      "Epoch 28/100\n",
      "220/220 [==============================] - 0s 49us/step - loss: 317.0031 - accuracy: 0.5591 - val_loss: 112.1515 - val_accuracy: 0.5357\n",
      "Epoch 29/100\n",
      "220/220 [==============================] - 0s 63us/step - loss: 336.8064 - accuracy: 0.4864 - val_loss: 83.9200 - val_accuracy: 0.5714\n",
      "Epoch 30/100\n",
      "220/220 [==============================] - 0s 51us/step - loss: 284.1777 - accuracy: 0.5591 - val_loss: 137.6962 - val_accuracy: 0.5893\n",
      "Epoch 31/100\n",
      "220/220 [==============================] - 0s 54us/step - loss: 314.5364 - accuracy: 0.5364 - val_loss: 167.5277 - val_accuracy: 0.5357\n",
      "Epoch 32/100\n",
      "220/220 [==============================] - 0s 59us/step - loss: 353.9020 - accuracy: 0.5000 - val_loss: 81.7231 - val_accuracy: 0.5714\n",
      "Epoch 33/100\n",
      "220/220 [==============================] - 0s 51us/step - loss: 288.5587 - accuracy: 0.5364 - val_loss: 124.6930 - val_accuracy: 0.5179\n",
      "Epoch 34/100\n",
      "220/220 [==============================] - 0s 52us/step - loss: 291.4669 - accuracy: 0.5364 - val_loss: 23.6231 - val_accuracy: 0.8393\n",
      "Epoch 35/100\n",
      "220/220 [==============================] - 0s 55us/step - loss: 412.1608 - accuracy: 0.4773 - val_loss: 242.7403 - val_accuracy: 0.5000\n",
      "Epoch 36/100\n",
      "220/220 [==============================] - 0s 54us/step - loss: 310.6226 - accuracy: 0.5045 - val_loss: 31.2406 - val_accuracy: 0.7857\n",
      "Epoch 37/100\n",
      "220/220 [==============================] - 0s 55us/step - loss: 306.7462 - accuracy: 0.5182 - val_loss: 128.2288 - val_accuracy: 0.5357\n",
      "Epoch 38/100\n",
      "220/220 [==============================] - 0s 65us/step - loss: 246.6983 - accuracy: 0.5318 - val_loss: 248.4278 - val_accuracy: 0.5357\n",
      "Epoch 39/100\n",
      "220/220 [==============================] - 0s 52us/step - loss: 305.7361 - accuracy: 0.5545 - val_loss: 78.5746 - val_accuracy: 0.6071\n",
      "Epoch 40/100\n",
      "220/220 [==============================] - 0s 59us/step - loss: 208.3830 - accuracy: 0.5409 - val_loss: 56.1420 - val_accuracy: 0.6607\n",
      "Epoch 41/100\n",
      "220/220 [==============================] - 0s 54us/step - loss: 212.5850 - accuracy: 0.5409 - val_loss: 54.5720 - val_accuracy: 0.6429\n",
      "Epoch 42/100\n",
      "220/220 [==============================] - 0s 50us/step - loss: 216.0180 - accuracy: 0.5773 - val_loss: 168.9057 - val_accuracy: 0.5179\n",
      "Epoch 43/100\n",
      "220/220 [==============================] - 0s 52us/step - loss: 223.1313 - accuracy: 0.5727 - val_loss: 47.5421 - val_accuracy: 0.7143\n",
      "Epoch 44/100\n",
      "220/220 [==============================] - 0s 49us/step - loss: 300.5607 - accuracy: 0.5227 - val_loss: 105.7891 - val_accuracy: 0.6250\n",
      "Epoch 45/100\n",
      "220/220 [==============================] - 0s 53us/step - loss: 164.8975 - accuracy: 0.5636 - val_loss: 60.2251 - val_accuracy: 0.7679\n",
      "Epoch 46/100\n",
      "220/220 [==============================] - 0s 59us/step - loss: 174.5621 - accuracy: 0.5636 - val_loss: 105.5367 - val_accuracy: 0.6250\n",
      "Epoch 47/100\n",
      "220/220 [==============================] - 0s 51us/step - loss: 219.1541 - accuracy: 0.5682 - val_loss: 78.8649 - val_accuracy: 0.5714\n",
      "Epoch 48/100\n",
      "220/220 [==============================] - 0s 52us/step - loss: 176.0461 - accuracy: 0.5545 - val_loss: 25.2294 - val_accuracy: 0.8393\n",
      "Epoch 49/100\n",
      "220/220 [==============================] - 0s 52us/step - loss: 156.0460 - accuracy: 0.5818 - val_loss: 86.1096 - val_accuracy: 0.5714\n",
      "Epoch 50/100\n",
      "220/220 [==============================] - 0s 52us/step - loss: 155.6171 - accuracy: 0.6364 - val_loss: 26.8592 - val_accuracy: 0.8036\n",
      "Epoch 51/100\n",
      "220/220 [==============================] - 0s 57us/step - loss: 138.7474 - accuracy: 0.6182 - val_loss: 29.8075 - val_accuracy: 0.7857\n",
      "Epoch 52/100\n",
      "220/220 [==============================] - 0s 78us/step - loss: 142.3682 - accuracy: 0.6091 - val_loss: 73.1185 - val_accuracy: 0.6071\n",
      "Epoch 53/100\n",
      "220/220 [==============================] - 0s 54us/step - loss: 172.3717 - accuracy: 0.5773 - val_loss: 26.5814 - val_accuracy: 0.8214\n",
      "Epoch 54/100\n",
      "220/220 [==============================] - 0s 50us/step - loss: 213.4079 - accuracy: 0.5591 - val_loss: 101.0121 - val_accuracy: 0.6250\n",
      "Epoch 55/100\n",
      "220/220 [==============================] - 0s 51us/step - loss: 137.4577 - accuracy: 0.6136 - val_loss: 36.1460 - val_accuracy: 0.7143\n"
     ]
    },
    {
     "name": "stdout",
     "output_type": "stream",
     "text": [
      "Epoch 56/100\n",
      "220/220 [==============================] - 0s 63us/step - loss: 113.8035 - accuracy: 0.6364 - val_loss: 36.1213 - val_accuracy: 0.7857\n",
      "Epoch 57/100\n",
      "220/220 [==============================] - 0s 54us/step - loss: 136.7234 - accuracy: 0.6273 - val_loss: 38.6240 - val_accuracy: 0.6786\n",
      "Epoch 58/100\n",
      "220/220 [==============================] - 0s 58us/step - loss: 105.0778 - accuracy: 0.6636 - val_loss: 91.2273 - val_accuracy: 0.6071\n",
      "Epoch 59/100\n",
      "220/220 [==============================] - 0s 51us/step - loss: 142.7519 - accuracy: 0.6045 - val_loss: 50.9994 - val_accuracy: 0.7500\n",
      "Epoch 60/100\n",
      "220/220 [==============================] - 0s 56us/step - loss: 129.0153 - accuracy: 0.5909 - val_loss: 24.4172 - val_accuracy: 0.8571\n",
      "Epoch 61/100\n",
      "220/220 [==============================] - 0s 54us/step - loss: 130.7360 - accuracy: 0.5955 - val_loss: 42.7361 - val_accuracy: 0.6964\n",
      "Epoch 62/100\n",
      "220/220 [==============================] - 0s 58us/step - loss: 100.0798 - accuracy: 0.6409 - val_loss: 38.0325 - val_accuracy: 0.6964\n",
      "Epoch 63/100\n",
      "220/220 [==============================] - 0s 52us/step - loss: 97.9577 - accuracy: 0.6318 - val_loss: 56.9414 - val_accuracy: 0.6429\n",
      "Epoch 64/100\n",
      "220/220 [==============================] - 0s 50us/step - loss: 123.6641 - accuracy: 0.6364 - val_loss: 25.3689 - val_accuracy: 0.8571\n",
      "Epoch 65/100\n",
      "220/220 [==============================] - 0s 59us/step - loss: 100.0397 - accuracy: 0.6409 - val_loss: 52.9882 - val_accuracy: 0.7143\n",
      "Epoch 66/100\n",
      "220/220 [==============================] - 0s 52us/step - loss: 140.1678 - accuracy: 0.5727 - val_loss: 66.9010 - val_accuracy: 0.6607\n",
      "Epoch 67/100\n",
      "220/220 [==============================] - 0s 50us/step - loss: 129.0584 - accuracy: 0.6091 - val_loss: 43.5335 - val_accuracy: 0.7679\n",
      "Epoch 68/100\n",
      "220/220 [==============================] - 0s 53us/step - loss: 106.2221 - accuracy: 0.6273 - val_loss: 30.5444 - val_accuracy: 0.7857\n",
      "Epoch 69/100\n",
      "220/220 [==============================] - 0s 51us/step - loss: 102.7201 - accuracy: 0.6364 - val_loss: 58.0871 - val_accuracy: 0.5893\n",
      "Epoch 70/100\n",
      "220/220 [==============================] - 0s 56us/step - loss: 97.6106 - accuracy: 0.6455 - val_loss: 29.0527 - val_accuracy: 0.8214\n",
      "Epoch 71/100\n",
      "220/220 [==============================] - 0s 51us/step - loss: 70.3018 - accuracy: 0.6818 - val_loss: 72.1693 - val_accuracy: 0.6429\n",
      "Epoch 72/100\n",
      "220/220 [==============================] - 0s 50us/step - loss: 91.5095 - accuracy: 0.6182 - val_loss: 38.5130 - val_accuracy: 0.7321\n",
      "Epoch 73/100\n",
      "220/220 [==============================] - 0s 51us/step - loss: 92.7770 - accuracy: 0.6273 - val_loss: 30.3020 - val_accuracy: 0.8036\n",
      "Epoch 74/100\n",
      "220/220 [==============================] - 0s 53us/step - loss: 73.2262 - accuracy: 0.6818 - val_loss: 53.0457 - val_accuracy: 0.6429\n",
      "Epoch 75/100\n",
      "220/220 [==============================] - 0s 50us/step - loss: 75.1863 - accuracy: 0.6773 - val_loss: 29.6711 - val_accuracy: 0.8214\n",
      "Epoch 76/100\n",
      "220/220 [==============================] - 0s 54us/step - loss: 80.4930 - accuracy: 0.6636 - val_loss: 23.3605 - val_accuracy: 0.8393\n",
      "Epoch 77/100\n",
      "220/220 [==============================] - 0s 52us/step - loss: 80.1288 - accuracy: 0.6364 - val_loss: 23.4497 - val_accuracy: 0.8393\n",
      "Epoch 78/100\n",
      "220/220 [==============================] - 0s 52us/step - loss: 97.3973 - accuracy: 0.6364 - val_loss: 54.5932 - val_accuracy: 0.6786\n",
      "Epoch 79/100\n",
      "220/220 [==============================] - 0s 52us/step - loss: 71.9151 - accuracy: 0.6773 - val_loss: 24.1419 - val_accuracy: 0.8214\n",
      "Epoch 80/100\n",
      "220/220 [==============================] - 0s 53us/step - loss: 75.1619 - accuracy: 0.6455 - val_loss: 39.7025 - val_accuracy: 0.7500\n",
      "Epoch 81/100\n",
      "220/220 [==============================] - 0s 64us/step - loss: 96.0380 - accuracy: 0.6273 - val_loss: 23.4813 - val_accuracy: 0.8571\n",
      "Epoch 82/100\n",
      "220/220 [==============================] - 0s 56us/step - loss: 66.5225 - accuracy: 0.6591 - val_loss: 30.6076 - val_accuracy: 0.7143\n",
      "Epoch 83/100\n",
      "220/220 [==============================] - 0s 51us/step - loss: 64.5282 - accuracy: 0.6545 - val_loss: 52.9055 - val_accuracy: 0.6071\n",
      "Epoch 84/100\n",
      "220/220 [==============================] - 0s 53us/step - loss: 69.0325 - accuracy: 0.6636 - val_loss: 22.2311 - val_accuracy: 0.8750\n",
      "Epoch 85/100\n",
      "220/220 [==============================] - 0s 59us/step - loss: 65.3439 - accuracy: 0.6591 - val_loss: 25.6000 - val_accuracy: 0.8214\n",
      "Epoch 86/100\n",
      "220/220 [==============================] - 0s 53us/step - loss: 68.4744 - accuracy: 0.6773 - val_loss: 24.8496 - val_accuracy: 0.8214\n",
      "Epoch 87/100\n",
      "220/220 [==============================] - 0s 51us/step - loss: 77.9273 - accuracy: 0.6500 - val_loss: 46.5406 - val_accuracy: 0.6250\n",
      "Epoch 88/100\n",
      "220/220 [==============================] - 0s 52us/step - loss: 87.5990 - accuracy: 0.6136 - val_loss: 51.1848 - val_accuracy: 0.7143\n",
      "Epoch 89/100\n",
      "220/220 [==============================] - 0s 52us/step - loss: 73.5097 - accuracy: 0.6045 - val_loss: 33.5992 - val_accuracy: 0.7143\n",
      "Epoch 90/100\n",
      "220/220 [==============================] - 0s 58us/step - loss: 72.8531 - accuracy: 0.6545 - val_loss: 75.8422 - val_accuracy: 0.6071\n",
      "Epoch 91/100\n",
      "220/220 [==============================] - 0s 52us/step - loss: 88.5606 - accuracy: 0.6091 - val_loss: 23.8108 - val_accuracy: 0.7500\n",
      "Epoch 92/100\n",
      "220/220 [==============================] - 0s 53us/step - loss: 72.2845 - accuracy: 0.6227 - val_loss: 26.7655 - val_accuracy: 0.7857\n",
      "Epoch 93/100\n",
      "220/220 [==============================] - 0s 51us/step - loss: 53.0747 - accuracy: 0.6909 - val_loss: 26.9004 - val_accuracy: 0.7321\n",
      "Epoch 94/100\n",
      "220/220 [==============================] - 0s 54us/step - loss: 48.8394 - accuracy: 0.6682 - val_loss: 21.4826 - val_accuracy: 0.8036\n",
      "Epoch 95/100\n",
      "220/220 [==============================] - 0s 55us/step - loss: 55.7075 - accuracy: 0.6500 - val_loss: 21.6926 - val_accuracy: 0.8214\n",
      "Epoch 96/100\n",
      "220/220 [==============================] - 0s 57us/step - loss: 63.1557 - accuracy: 0.6273 - val_loss: 20.1509 - val_accuracy: 0.7857\n",
      "Epoch 97/100\n",
      "220/220 [==============================] - 0s 52us/step - loss: 51.3306 - accuracy: 0.6500 - val_loss: 54.1897 - val_accuracy: 0.6071\n",
      "Epoch 98/100\n",
      "220/220 [==============================] - 0s 52us/step - loss: 65.0891 - accuracy: 0.6545 - val_loss: 18.9861 - val_accuracy: 0.8571\n",
      "Epoch 99/100\n",
      "220/220 [==============================] - 0s 53us/step - loss: 50.6148 - accuracy: 0.6545 - val_loss: 19.0846 - val_accuracy: 0.8571\n",
      "Epoch 100/100\n",
      "220/220 [==============================] - 0s 57us/step - loss: 47.8281 - accuracy: 0.6909 - val_loss: 58.6120 - val_accuracy: 0.6071\n"
     ]
    },
    {
     "data": {
      "text/plain": [
       "<keras.callbacks.callbacks.History at 0x7fad6407d630>"
      ]
     },
     "execution_count": 81,
     "metadata": {},
     "output_type": "execute_result"
    }
   ],
   "source": [
    "model.fit(X_train, y_train, validation_data = (X_test, y_test), epochs = 100, verbose = 1)"
   ]
  },
  {
   "cell_type": "markdown",
   "metadata": {},
   "source": [
    "Predict one observation"
   ]
  },
  {
   "cell_type": "code",
   "execution_count": 82,
   "metadata": {},
   "outputs": [],
   "source": [
    "prediction = model.predict(np.array(X_test.iloc[1]).reshape(1, 3))"
   ]
  },
  {
   "cell_type": "code",
   "execution_count": 83,
   "metadata": {},
   "outputs": [
    {
     "data": {
      "text/plain": [
       "array([[1., 0., 0.]], dtype=float32)"
      ]
     },
     "execution_count": 83,
     "metadata": {},
     "output_type": "execute_result"
    }
   ],
   "source": [
    "prediction"
   ]
  },
  {
   "cell_type": "code",
   "execution_count": 84,
   "metadata": {},
   "outputs": [],
   "source": [
    "predicted_label = np.argmax(prediction, axis = 1)"
   ]
  },
  {
   "cell_type": "code",
   "execution_count": 85,
   "metadata": {},
   "outputs": [
    {
     "data": {
      "text/plain": [
       "array([0])"
      ]
     },
     "execution_count": 85,
     "metadata": {},
     "output_type": "execute_result"
    }
   ],
   "source": [
    "predicted_label"
   ]
  },
  {
   "cell_type": "code",
   "execution_count": 86,
   "metadata": {},
   "outputs": [
    {
     "data": {
      "text/plain": [
       "High Value Customer    1\n",
       "Low Value Customer     0\n",
       "Mid Value Customer     0\n",
       "Name: Gifts4AllAges.com, dtype: uint8"
      ]
     },
     "execution_count": 86,
     "metadata": {},
     "output_type": "execute_result"
    }
   ],
   "source": [
    "y_test.iloc[1]"
   ]
  },
  {
   "cell_type": "code",
   "execution_count": null,
   "metadata": {},
   "outputs": [],
   "source": []
  },
  {
   "cell_type": "code",
   "execution_count": null,
   "metadata": {},
   "outputs": [],
   "source": []
  },
  {
   "cell_type": "markdown",
   "metadata": {},
   "source": [
    "# Self-Organising Maps (first example) - Iris dataset"
   ]
  },
  {
   "cell_type": "code",
   "execution_count": 87,
   "metadata": {},
   "outputs": [],
   "source": [
    "# https://www.kaggle.com/warunaw/self-organizing-maps/notebook"
   ]
  },
  {
   "cell_type": "code",
   "execution_count": 88,
   "metadata": {},
   "outputs": [],
   "source": [
    "iris = datasets.load_iris()"
   ]
  },
  {
   "cell_type": "code",
   "execution_count": 89,
   "metadata": {},
   "outputs": [
    {
     "data": {
      "text/plain": [
       "['sepal length (cm)',\n",
       " 'sepal width (cm)',\n",
       " 'petal length (cm)',\n",
       " 'petal width (cm)']"
      ]
     },
     "execution_count": 89,
     "metadata": {},
     "output_type": "execute_result"
    }
   ],
   "source": [
    "iris.feature_names"
   ]
  },
  {
   "cell_type": "code",
   "execution_count": 90,
   "metadata": {},
   "outputs": [
    {
     "data": {
      "text/plain": [
       "array(['setosa', 'versicolor', 'virginica'], dtype='<U10')"
      ]
     },
     "execution_count": 90,
     "metadata": {},
     "output_type": "execute_result"
    }
   ],
   "source": [
    "iris.target_names"
   ]
  },
  {
   "cell_type": "code",
   "execution_count": 91,
   "metadata": {},
   "outputs": [
    {
     "data": {
      "text/plain": [
       "'sepal length (cm)'"
      ]
     },
     "execution_count": 91,
     "metadata": {},
     "output_type": "execute_result"
    }
   ],
   "source": [
    "iris.feature_names[0]"
   ]
  },
  {
   "cell_type": "code",
   "execution_count": 92,
   "metadata": {},
   "outputs": [],
   "source": [
    "df = pd.DataFrame({iris.feature_names[0]: iris.data[:, 0], iris.feature_names[1]: iris.data[:, 1],\n",
    "                   iris.feature_names[2]: iris.data[:, 2], iris.feature_names[3]: iris.data[:, 3]\n",
    "                  })"
   ]
  },
  {
   "cell_type": "code",
   "execution_count": 93,
   "metadata": {},
   "outputs": [
    {
     "data": {
      "text/html": [
       "<div>\n",
       "<style scoped>\n",
       "    .dataframe tbody tr th:only-of-type {\n",
       "        vertical-align: middle;\n",
       "    }\n",
       "\n",
       "    .dataframe tbody tr th {\n",
       "        vertical-align: top;\n",
       "    }\n",
       "\n",
       "    .dataframe thead th {\n",
       "        text-align: right;\n",
       "    }\n",
       "</style>\n",
       "<table border=\"1\" class=\"dataframe\">\n",
       "  <thead>\n",
       "    <tr style=\"text-align: right;\">\n",
       "      <th></th>\n",
       "      <th>sepal length (cm)</th>\n",
       "      <th>sepal width (cm)</th>\n",
       "      <th>petal length (cm)</th>\n",
       "      <th>petal width (cm)</th>\n",
       "    </tr>\n",
       "  </thead>\n",
       "  <tbody>\n",
       "    <tr>\n",
       "      <th>0</th>\n",
       "      <td>5.1</td>\n",
       "      <td>3.5</td>\n",
       "      <td>1.4</td>\n",
       "      <td>0.2</td>\n",
       "    </tr>\n",
       "    <tr>\n",
       "      <th>1</th>\n",
       "      <td>4.9</td>\n",
       "      <td>3.0</td>\n",
       "      <td>1.4</td>\n",
       "      <td>0.2</td>\n",
       "    </tr>\n",
       "    <tr>\n",
       "      <th>2</th>\n",
       "      <td>4.7</td>\n",
       "      <td>3.2</td>\n",
       "      <td>1.3</td>\n",
       "      <td>0.2</td>\n",
       "    </tr>\n",
       "    <tr>\n",
       "      <th>3</th>\n",
       "      <td>4.6</td>\n",
       "      <td>3.1</td>\n",
       "      <td>1.5</td>\n",
       "      <td>0.2</td>\n",
       "    </tr>\n",
       "    <tr>\n",
       "      <th>4</th>\n",
       "      <td>5.0</td>\n",
       "      <td>3.6</td>\n",
       "      <td>1.4</td>\n",
       "      <td>0.2</td>\n",
       "    </tr>\n",
       "  </tbody>\n",
       "</table>\n",
       "</div>"
      ],
      "text/plain": [
       "   sepal length (cm)  sepal width (cm)  petal length (cm)  petal width (cm)\n",
       "0                5.1               3.5                1.4               0.2\n",
       "1                4.9               3.0                1.4               0.2\n",
       "2                4.7               3.2                1.3               0.2\n",
       "3                4.6               3.1                1.5               0.2\n",
       "4                5.0               3.6                1.4               0.2"
      ]
     },
     "execution_count": 93,
     "metadata": {},
     "output_type": "execute_result"
    }
   ],
   "source": [
    "df.head()"
   ]
  },
  {
   "cell_type": "code",
   "execution_count": 94,
   "metadata": {},
   "outputs": [
    {
     "data": {
      "text/html": [
       "<div>\n",
       "<style scoped>\n",
       "    .dataframe tbody tr th:only-of-type {\n",
       "        vertical-align: middle;\n",
       "    }\n",
       "\n",
       "    .dataframe tbody tr th {\n",
       "        vertical-align: top;\n",
       "    }\n",
       "\n",
       "    .dataframe thead th {\n",
       "        text-align: right;\n",
       "    }\n",
       "</style>\n",
       "<table border=\"1\" class=\"dataframe\">\n",
       "  <thead>\n",
       "    <tr style=\"text-align: right;\">\n",
       "      <th></th>\n",
       "      <th>0</th>\n",
       "      <th>1</th>\n",
       "      <th>2</th>\n",
       "      <th>3</th>\n",
       "    </tr>\n",
       "  </thead>\n",
       "  <tbody>\n",
       "    <tr>\n",
       "      <th>0</th>\n",
       "      <td>0.222222</td>\n",
       "      <td>0.625000</td>\n",
       "      <td>0.067797</td>\n",
       "      <td>0.041667</td>\n",
       "    </tr>\n",
       "    <tr>\n",
       "      <th>1</th>\n",
       "      <td>0.166667</td>\n",
       "      <td>0.416667</td>\n",
       "      <td>0.067797</td>\n",
       "      <td>0.041667</td>\n",
       "    </tr>\n",
       "    <tr>\n",
       "      <th>2</th>\n",
       "      <td>0.111111</td>\n",
       "      <td>0.500000</td>\n",
       "      <td>0.050847</td>\n",
       "      <td>0.041667</td>\n",
       "    </tr>\n",
       "    <tr>\n",
       "      <th>3</th>\n",
       "      <td>0.083333</td>\n",
       "      <td>0.458333</td>\n",
       "      <td>0.084746</td>\n",
       "      <td>0.041667</td>\n",
       "    </tr>\n",
       "    <tr>\n",
       "      <th>4</th>\n",
       "      <td>0.194444</td>\n",
       "      <td>0.666667</td>\n",
       "      <td>0.067797</td>\n",
       "      <td>0.041667</td>\n",
       "    </tr>\n",
       "  </tbody>\n",
       "</table>\n",
       "</div>"
      ],
      "text/plain": [
       "          0         1         2         3\n",
       "0  0.222222  0.625000  0.067797  0.041667\n",
       "1  0.166667  0.416667  0.067797  0.041667\n",
       "2  0.111111  0.500000  0.050847  0.041667\n",
       "3  0.083333  0.458333  0.084746  0.041667\n",
       "4  0.194444  0.666667  0.067797  0.041667"
      ]
     },
     "execution_count": 94,
     "metadata": {},
     "output_type": "execute_result"
    }
   ],
   "source": [
    "feature_scaler = MinMaxScaler(feature_range = (0, 1))\n",
    "\n",
    "df_scaled = feature_scaler.fit_transform(df)\n",
    "df_scaled = pd.DataFrame(data = df_scaled)\n",
    "df_scaled.head()"
   ]
  },
  {
   "cell_type": "markdown",
   "metadata": {},
   "source": [
    "Define parameters for SOM network"
   ]
  },
  {
   "cell_type": "code",
   "execution_count": 95,
   "metadata": {},
   "outputs": [],
   "source": [
    "som_width = 8\n",
    "som_length = 8\n",
    "epochs = 10000\n",
    "initial_learning_rate = 0.01\n",
    "np.random.seed(10)"
   ]
  },
  {
   "cell_type": "code",
   "execution_count": 96,
   "metadata": {},
   "outputs": [
    {
     "name": "stdout",
     "output_type": "stream",
     "text": [
      "Data set raw count=150 column count=4\n"
     ]
    }
   ],
   "source": [
    "raws, cols = df_scaled.shape\n",
    "print(\"Data set raw count=%d column count=%d\" % (raws, cols))"
   ]
  },
  {
   "cell_type": "code",
   "execution_count": 97,
   "metadata": {},
   "outputs": [],
   "source": [
    "initial_radius = max(som_width, som_length) / 2\n",
    "time_constant =  epochs / np.log(initial_radius)"
   ]
  },
  {
   "cell_type": "code",
   "execution_count": 98,
   "metadata": {
    "scrolled": true
   },
   "outputs": [
    {
     "name": "stdout",
     "output_type": "stream",
     "text": [
      "Initial weights set to SOM network:\n",
      "[[[0.77132064 0.02075195 0.63364823 0.74880388]\n",
      "  [0.49850701 0.22479665 0.19806286 0.76053071]\n",
      "  [0.16911084 0.08833981 0.68535982 0.95339335]\n",
      "  [0.00394827 0.51219226 0.81262096 0.61252607]\n",
      "  [0.72175532 0.29187607 0.91777412 0.71457578]\n",
      "  [0.54254437 0.14217005 0.37334076 0.67413362]\n",
      "  [0.44183317 0.43401399 0.61776698 0.51313824]\n",
      "  [0.65039718 0.60103895 0.8052232  0.52164715]]\n",
      "\n",
      " [[0.90864888 0.31923609 0.09045935 0.30070006]\n",
      "  [0.11398436 0.82868133 0.04689632 0.62628715]\n",
      "  [0.54758616 0.819287   0.19894754 0.8568503 ]\n",
      "  [0.35165264 0.75464769 0.29596171 0.88393648]\n",
      "  [0.32551164 0.1650159  0.39252924 0.09346037]\n",
      "  [0.82110566 0.15115202 0.38411445 0.94426071]\n",
      "  [0.98762547 0.45630455 0.82612284 0.25137413]\n",
      "  [0.59737165 0.90283176 0.53455795 0.59020136]]\n",
      "\n",
      " [[0.03928177 0.35718176 0.07961309 0.30545992]\n",
      "  [0.33071931 0.7738303  0.03995921 0.42949218]\n",
      "  [0.31492687 0.63649114 0.34634715 0.04309736]\n",
      "  [0.87991517 0.76324059 0.87809664 0.41750914]\n",
      "  [0.60557756 0.51346663 0.59783665 0.26221566]\n",
      "  [0.30087131 0.02539978 0.30306256 0.24207588]\n",
      "  [0.55757819 0.56550702 0.47513225 0.29279798]\n",
      "  [0.06425106 0.97881915 0.33970784 0.49504863]]\n",
      "\n",
      " [[0.97708073 0.44077382 0.31827281 0.51979699]\n",
      "  [0.57813643 0.85393375 0.06809727 0.46453081]\n",
      "  [0.78194912 0.71860281 0.58602198 0.03709441]\n",
      "  [0.35065639 0.56319068 0.29972987 0.51233415]\n",
      "  [0.67346693 0.15919373 0.05047767 0.33781589]\n",
      "  [0.10806377 0.17890281 0.8858271  0.36536497]\n",
      "  [0.21876935 0.75249617 0.10687958 0.74460324]\n",
      "  [0.46978529 0.59825567 0.14762019 0.18403482]]\n",
      "\n",
      " [[0.64507213 0.04862801 0.24861251 0.54240852]\n",
      "  [0.22677334 0.38141153 0.92223279 0.92535687]\n",
      "  [0.56674992 0.53347088 0.01486002 0.97789926]\n",
      "  [0.5730289  0.791757   0.56155736 0.87733524]\n",
      "  [0.58419583 0.70884983 0.14853345 0.42845074]\n",
      "  [0.69389007 0.10461974 0.43960524 0.16620215]\n",
      "  [0.50697863 0.81903586 0.09010673 0.80006875]\n",
      "  [0.56512635 0.58934771 0.19810066 0.43611826]]\n",
      "\n",
      " [[0.29590376 0.03755768 0.03068484 0.453105  ]\n",
      "  [0.74486408 0.55729541 0.3851136  0.1680728 ]\n",
      "  [0.83826132 0.5990518  0.78271482 0.84850918]\n",
      "  [0.60316298 0.78106062 0.61573688 0.02116519]\n",
      "  [0.75046461 0.17604213 0.45851421 0.51312271]\n",
      "  [0.48402089 0.84438579 0.17481389 0.01463488]\n",
      "  [0.84876407 0.74267458 0.45669754 0.41689841]\n",
      "  [0.11672951 0.33867913 0.09465904 0.71583087]]\n",
      "\n",
      " [[0.0770854  0.20595026 0.57377623 0.29383156]\n",
      "  [0.65572674 0.80356835 0.3512135  0.09344038]\n",
      "  [0.81331608 0.78486672 0.39341911 0.86447919]\n",
      "  [0.38403077 0.25730289 0.82940192 0.7363827 ]\n",
      "  [0.50760091 0.64432662 0.21318657 0.89570895]\n",
      "  [0.96594625 0.31700156 0.86555262 0.31028371]\n",
      "  [0.02526395 0.04919516 0.18462684 0.06903334]\n",
      "  [0.25747542 0.91358173 0.45784951 0.13021179]]\n",
      "\n",
      " [[0.80989167 0.40346984 0.02443264 0.85683104]\n",
      "  [0.27429482 0.70910596 0.35577234 0.79430906]\n",
      "  [0.84461886 0.53814752 0.55908652 0.12250998]\n",
      "  [0.37764192 0.42874733 0.51120865 0.89176257]\n",
      "  [0.30021061 0.39644188 0.79327323 0.41227608]\n",
      "  [0.18486755 0.84024732 0.5692714  0.06005021]\n",
      "  [0.98891697 0.22878233 0.61470171 0.36802668]\n",
      "  [0.80277594 0.62756185 0.82121648 0.28825314]]]\n"
     ]
    }
   ],
   "source": [
    "som_net = np.random.random((som_width, som_length, cols))\n",
    "print(\"Initial weights set to SOM network:\")\n",
    "print(som_net)"
   ]
  },
  {
   "cell_type": "markdown",
   "metadata": {},
   "source": [
    "Define basic functions needed to decay learning rate, radius and calculate Euclidian distance"
   ]
  },
  {
   "cell_type": "code",
   "execution_count": 99,
   "metadata": {},
   "outputs": [],
   "source": [
    "def update_radius(initial_radius, i, time_constant):\n",
    "    return initial_radius * np.exp(-i / time_constant)\n",
    "\n",
    "def update_learning_rate(initial_learning_rate, i, n_iterations):\n",
    "    return initial_learning_rate * np.exp(-i / n_iterations)\n",
    "\n",
    "def calculate_euclidian_dis(point1, point2):\n",
    "    return np.sqrt(np.sum((point1 - point2) ** 2))"
   ]
  },
  {
   "cell_type": "markdown",
   "metadata": {},
   "source": [
    "Logic to calculcate best matching unit"
   ]
  },
  {
   "cell_type": "code",
   "execution_count": 100,
   "metadata": {},
   "outputs": [],
   "source": [
    "def find_best_matching_Unit(data_point):\n",
    "    bmu_pos = np.array([0, 0])\n",
    "    min_dist = np.iinfo(np.int).max\n",
    "    input_dim = len(data_point)\n",
    "    \n",
    "    for x in range(som_width):\n",
    "        for y in range(som_length):\n",
    "            som_weight_vector = som_net[x, y, :].reshape(1, 4)\n",
    "            euclidian_dist = calculate_euclidian_dis(som_weight_vector, data_point)\n",
    "            if euclidian_dist < min_dist:\n",
    "                min_dist = euclidian_dist\n",
    "                bmu_pos = np.array([x, y])\n",
    "    \n",
    "    bmu = som_net[bmu_pos[0], bmu_pos[1], :].reshape(1, 4)\n",
    "    return (bmu, bmu_pos)"
   ]
  },
  {
   "cell_type": "markdown",
   "metadata": {},
   "source": [
    "Neighbourhood function to calculate influence from best matching unit and selected node"
   ]
  },
  {
   "cell_type": "code",
   "execution_count": 101,
   "metadata": {},
   "outputs": [],
   "source": [
    "def neighbourhood_function(bmu_location, selected_node_location, radius):\n",
    "    euclidien_dist_to_bmu = calculate_euclidian_dis(bmu_location, selected_node_location)\n",
    "    return np.exp(-euclidien_dist_to_bmu / (2 * (radius ** 2)))"
   ]
  },
  {
   "cell_type": "markdown",
   "metadata": {},
   "source": [
    "Train SOM network with Iris data set"
   ]
  },
  {
   "cell_type": "code",
   "execution_count": 102,
   "metadata": {},
   "outputs": [],
   "source": [
    "# shuffle data set\n",
    "df_scaled = df_scaled.sample(frac = 1)\n",
    "\n",
    "rad_values = list()\n",
    "learn_rates_values = list()\n",
    "rad_values.append(initial_radius)\n",
    "learn_rates_values.append(initial_learning_rate)\n",
    "\n",
    "for i in range(epochs):\n",
    "    data_point = np.array(df_scaled.sample())\n",
    "    bmu, bmu_idx = find_best_matching_Unit(data_point)\n",
    "\n",
    "    r_new = update_radius(initial_radius, i, time_constant)\n",
    "    new_learning_rate = update_learning_rate(initial_learning_rate, i, epochs)\n",
    "    \n",
    "    rad_values.append(r_new)\n",
    "    learn_rates_values.append(new_learning_rate)\n",
    "    \n",
    "    for x in range(som_width):\n",
    "        for y in range(som_length):\n",
    "            w = som_net[x, y, :].reshape(1, 4)\n",
    "            w_dist = calculate_euclidian_dis(np.array([x, y]), bmu_idx)\n",
    "            \n",
    "            if w_dist <= r_new:\n",
    "                influence = neighbourhood_function(bmu, w, r_new)\n",
    "                new_w = w + (new_learning_rate * influence * (data_point - w))\n",
    "                som_net[x, y, :] = new_w.reshape(1, 4)   "
   ]
  },
  {
   "cell_type": "code",
   "execution_count": 103,
   "metadata": {},
   "outputs": [
    {
     "data": {
      "text/plain": [
       "Text(0.5, 1.0, 'Radius values')"
      ]
     },
     "execution_count": 103,
     "metadata": {},
     "output_type": "execute_result"
    },
    {
     "data": {
      "image/png": "[encoded data removed]",
      "text/plain": [
       "<Figure size 432x288 with 1 Axes>"
      ]
     },
     "metadata": {
      "needs_background": "light"
     },
     "output_type": "display_data"
    }
   ],
   "source": [
    "plt.plot(rad_values)\n",
    "plt.title('Radius values')"
   ]
  },
  {
   "cell_type": "code",
   "execution_count": 104,
   "metadata": {},
   "outputs": [
    {
     "data": {
      "text/plain": [
       "Text(0.5, 1.0, 'Learning Rates values')"
      ]
     },
     "execution_count": 104,
     "metadata": {},
     "output_type": "execute_result"
    },
    {
     "data": {
      "image/png": "[encoded data removed]",
      "text/plain": [
       "<Figure size 432x288 with 1 Axes>"
      ]
     },
     "metadata": {
      "needs_background": "light"
     },
     "output_type": "display_data"
    }
   ],
   "source": [
    "plt.plot(learn_rates_values)\n",
    "plt.title('Learning Rates values')"
   ]
  },
  {
   "cell_type": "markdown",
   "metadata": {},
   "source": [
    "Visualize the weights of the SOM after number of epoch times"
   ]
  },
  {
   "cell_type": "code",
   "execution_count": 105,
   "metadata": {},
   "outputs": [
    {
     "data": {
      "image/png": "[encoded data removed]",
      "text/plain": [
       "<Figure size 504x504 with 1 Axes>"
      ]
     },
     "metadata": {
      "needs_background": "light"
     },
     "output_type": "display_data"
    }
   ],
   "source": [
    "fig = plt.figure(figsize = (7, 7))\n",
    "ax = fig.add_subplot(1, 1, 1, aspect = 'equal')\n",
    "ax.set_xlim((0, som_width + 1))\n",
    "ax.set_ylim((0, som_length + 1))\n",
    "ax.set_title('Self-Organising Map after %d iterations' % epochs)\n",
    "\n",
    "for x in range(1, som_width + 1):\n",
    "    for y in range(1, som_length + 1):\n",
    "        ax.add_patch(patches.Circle((x, y), 0.5, facecolor = som_net[x-1, y-1, :], edgecolor = 'black'))\n",
    "plt.show()"
   ]
  },
  {
   "cell_type": "code",
   "execution_count": null,
   "metadata": {},
   "outputs": [],
   "source": []
  },
  {
   "cell_type": "code",
   "execution_count": null,
   "metadata": {},
   "outputs": [],
   "source": []
  },
  {
   "cell_type": "markdown",
   "metadata": {},
   "source": [
    "# Self-Organising Maps (second example) - RGB model"
   ]
  },
  {
   "cell_type": "code",
   "execution_count": 106,
   "metadata": {},
   "outputs": [],
   "source": [
    "# http://www.ai-junkie.com/ann/som/som4.html\n",
    "# http://blog.yhat.com/posts/self-organizing-maps-2.html"
   ]
  },
  {
   "cell_type": "code",
   "execution_count": 107,
   "metadata": {},
   "outputs": [],
   "source": [
    "raw_data = np.random.randint(0, 255, (3, 100))"
   ]
  },
  {
   "cell_type": "code",
   "execution_count": 108,
   "metadata": {},
   "outputs": [
    {
     "data": {
      "text/plain": [
       "(3, 100)"
      ]
     },
     "execution_count": 108,
     "metadata": {},
     "output_type": "execute_result"
    }
   ],
   "source": [
    "raw_data.shape"
   ]
  },
  {
   "cell_type": "markdown",
   "metadata": {},
   "source": [
    "SOM Setup"
   ]
  },
  {
   "cell_type": "code",
   "execution_count": 109,
   "metadata": {},
   "outputs": [],
   "source": [
    "network_dimensions = np.array([5, 5])\n",
    "n_iterations = 100000\n",
    "init_learning_rate = 0.01\n",
    "\n",
    "normalise_data = True\n",
    "\n",
    "# if True, assume all data on common scale\n",
    "# if False, normalise to [0 1] range along each column\n",
    "normalise_by_column = False"
   ]
  },
  {
   "cell_type": "code",
   "execution_count": 110,
   "metadata": {},
   "outputs": [],
   "source": [
    "# establish variables based on data\n",
    "m = raw_data.shape[0]\n",
    "n = raw_data.shape[1]\n",
    "\n",
    "# initial neighbourhood radius\n",
    "init_radius = max(network_dimensions[0], network_dimensions[1]) / 2\n",
    "# radius decay parameter\n",
    "time_constant = n_iterations / np.log(init_radius)\n",
    "\n",
    "data = raw_data\n",
    "# check if data needs to be normalised\n",
    "if normalise_data:\n",
    "    if normalise_by_column:\n",
    "        # normalise along each column\n",
    "        col_maxes = raw_data.max(axis = 0)\n",
    "        data = raw_data / col_maxes[np.newaxis, :]\n",
    "    else:\n",
    "        # normalise entire dataset\n",
    "        data = raw_data / data.max()"
   ]
  },
  {
   "cell_type": "code",
   "execution_count": 111,
   "metadata": {},
   "outputs": [],
   "source": [
    "# setup random weights between 0 and 1\n",
    "# weight matrix needs to be one m-dimensional vector for each neuron in the SOM\n",
    "net = np.random.random((network_dimensions[0], network_dimensions[1], m))"
   ]
  },
  {
   "cell_type": "markdown",
   "metadata": {},
   "source": [
    "SOM Function Definitions"
   ]
  },
  {
   "cell_type": "code",
   "execution_count": 112,
   "metadata": {},
   "outputs": [],
   "source": [
    "def find_bmu(t, net, m):\n",
    "    \"\"\"\n",
    "        Find the best matching unit for a given vector, t, in the SOM\n",
    "        Returns: a (bmu, bmu_idx) tuple where bmu is the high-dimensional BMU\n",
    "                 and bmu_idx is the index of this vector in the SOM\n",
    "    \"\"\"\n",
    "    bmu_idx = np.array([0, 0])\n",
    "    # set the initial minimum distance to a huge number\n",
    "    min_dist = np.iinfo(np.int).max    \n",
    "    # calculate the high-dimensional distance between each neuron and the input\n",
    "    for x in range(net.shape[0]):\n",
    "        for y in range(net.shape[1]):\n",
    "            w = net[x, y, :].reshape(m, 1)\n",
    "            # don't bother with actual Euclidean distance, to avoid expensive sqrt operation\n",
    "            sq_dist = np.sum((w - t) ** 2)\n",
    "            if sq_dist < min_dist:\n",
    "                min_dist = sq_dist\n",
    "                bmu_idx = np.array([x, y])\n",
    "    # get vector corresponding to bmu_idx\n",
    "    bmu = net[bmu_idx[0], bmu_idx[1], :].reshape(m, 1)\n",
    "    # return the (bmu, bmu_idx) tuple\n",
    "    return (bmu, bmu_idx)"
   ]
  },
  {
   "cell_type": "code",
   "execution_count": 113,
   "metadata": {},
   "outputs": [
    {
     "data": {
      "text/plain": [
       "(array([[0.2185663 , 0.64772317, 0.07870244, 0.06314421]]), array([6, 7]))"
      ]
     },
     "execution_count": 113,
     "metadata": {},
     "output_type": "execute_result"
    }
   ],
   "source": [
    "(bmu, bmu_idx)"
   ]
  },
  {
   "cell_type": "code",
   "execution_count": 114,
   "metadata": {},
   "outputs": [],
   "source": [
    "# page 3, equation 2\n",
    "def decay_radius(initial_radius, i, time_constant):\n",
    "    return initial_radius * np.exp(-i / time_constant)"
   ]
  },
  {
   "cell_type": "code",
   "execution_count": 115,
   "metadata": {},
   "outputs": [],
   "source": [
    "# page 4, equation 4\n",
    "def decay_learning_rate(initial_learning_rate, i, n_iterations):\n",
    "    return initial_learning_rate * np.exp(-i / n_iterations)"
   ]
  },
  {
   "cell_type": "code",
   "execution_count": 116,
   "metadata": {},
   "outputs": [],
   "source": [
    "# page 4, equation 6\n",
    "# if distance is huge => the update will be small\n",
    "def calculate_influence(distance, radius):\n",
    "    return np.exp(-distance / (2 * (radius ** 2)))"
   ]
  },
  {
   "cell_type": "markdown",
   "metadata": {},
   "source": [
    "SOM Learning"
   ]
  },
  {
   "cell_type": "code",
   "execution_count": 117,
   "metadata": {},
   "outputs": [],
   "source": [
    "for i in range(n_iterations):\n",
    "    \n",
    "    # select a training example at random\n",
    "    t = data[:, np.random.randint(0, n)].reshape(np.array([m, 1]))\n",
    "    \n",
    "    # find its Best Matching Unit\n",
    "    bmu, bmu_idx = find_bmu(t, net, m)\n",
    "    \n",
    "    # decay the SOM parameters\n",
    "    r = decay_radius(init_radius, i, time_constant)\n",
    "    l = decay_learning_rate(init_learning_rate, i, n_iterations)\n",
    "    \n",
    "    # now we know the BMU, update its weight vector to move closer to input\n",
    "    # and move its neighbours in 2-D space closer\n",
    "    # by a factor proportional to their 2-D distance from the BMU\n",
    "    for x in range(net.shape[0]):\n",
    "        for y in range(net.shape[1]):\n",
    "            w = net[x, y, :].reshape(m, 1)\n",
    "            # get the 2-D distance (again, not the actual Euclidean distance)\n",
    "            w_dist = np.sum((np.array([x, y]) - bmu_idx) ** 2)\n",
    "            # if the distance is within the current neighbourhood radius\n",
    "            if w_dist <= r ** 2:\n",
    "                # calculate the degree of influence (based on the 2-D distance)\n",
    "                influence = calculate_influence(w_dist, r)\n",
    "                # now update the neuron's weight using the formula:\n",
    "                # new w = old w + (learning rate * influence * delta)\n",
    "                # where delta = input vector (t) - old w\n",
    "                new_w = w + (l * influence * (t - w))\n",
    "                # commit the new weight\n",
    "                net[x, y, :] = new_w.reshape(1, 3)"
   ]
  },
  {
   "cell_type": "markdown",
   "metadata": {},
   "source": [
    "Plot the Colour Map"
   ]
  },
  {
   "cell_type": "code",
   "execution_count": 118,
   "metadata": {},
   "outputs": [
    {
     "data": {
      "image/png": "[encoded data removed]",
      "text/plain": [
       "<Figure size 432x288 with 1 Axes>"
      ]
     },
     "metadata": {
      "needs_background": "light"
     },
     "output_type": "display_data"
    }
   ],
   "source": [
    "fig = plt.figure()\n",
    "# setup axes\n",
    "ax = fig.add_subplot(111, aspect = 'equal')\n",
    "ax.set_xlim((0, net.shape[0] + 1))\n",
    "ax.set_ylim((0, net.shape[1] + 1))\n",
    "ax.set_title('Self-Organising Map after %d iterations' % n_iterations)\n",
    "\n",
    "# plot the rectangles\n",
    "for x in range(1, net.shape[0] + 1):\n",
    "    for y in range(1, net.shape[1] + 1):\n",
    "        ax.add_patch(patches.Rectangle((x-0.5, y-0.5), 1, 1,\n",
    "                     facecolor = net[x-1, y-1, :],\n",
    "                     edgecolor = 'none'))\n",
    "plt.show()"
   ]
  },
  {
   "cell_type": "code",
   "execution_count": null,
   "metadata": {},
   "outputs": [],
   "source": []
  },
  {
   "cell_type": "code",
   "execution_count": null,
   "metadata": {},
   "outputs": [],
   "source": []
  }
 ],
 "metadata": {
  "kernelspec": {
   "display_name": "Python 3",
   "language": "python",
   "name": "python3"
  },
  "language_info": {
   "codemirror_mode": {
    "name": "ipython",
    "version": 3
   },
   "file_extension": ".py",
   "mimetype": "text/x-python",
   "name": "python",
   "nbconvert_exporter": "python",
   "pygments_lexer": "ipython3",
   "version": "3.6.8"
  }
 },
 "nbformat": 4,
 "nbformat_minor": 2
}
